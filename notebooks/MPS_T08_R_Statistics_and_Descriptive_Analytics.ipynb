{
 "cells": [
  {
   "cell_type": "markdown",
   "metadata": {
    "slideshow": {
     "slide_type": "slide"
    }
   },
   "source": [
    "*Managerial Problem Solving*\n",
    "\n",
    "# Tutorial 8 - Statistics and Descriptive Analytics\n",
    "\n",
    "Toni Greif<br>\n",
    "Lehrstuhl für Wirtschaftsinformatik und Informationsmanagement\n",
    "\n",
    "SS 2019"
   ]
  },
  {
   "cell_type": "markdown",
   "metadata": {
    "slideshow": {
     "slide_type": "slide"
    }
   },
   "source": [
    "We uploaded a collection of R visualization tasks to WueCampus *(MPS T07 2019 UpToYou)*, which you can do on your own. If you have any questions, you can ask them in the next tutorials or in the Q&A session on July 25."
   ]
  },
  {
   "cell_type": "markdown",
   "metadata": {
    "slideshow": {
     "slide_type": "slide"
    }
   },
   "source": [
    "### Chebyshev’s Theorem\n",
    "For any data set, the proportion of values that lie within $k\\ (k>1)$ standard deviations of the mean is at least $1−\\frac{1}{𝑘^2}$.\n",
    "\n",
    "For normally distributed data sets we can apply tighter formulations:\n",
    "- $68 \\%$ of observations fall within one standard deviation around the mean $(x\\mp s)$\n",
    "- $95 \\%$ of observations fall within two standard deviations around the mean $(x\\mp 2s)$\n",
    "- $99.7 \\%$ of observations fall within three standard deviations around the mean $(x\\mp 3s)$\n",
    "\n",
    "### Process Capability Index\n",
    "\n",
    "$\\Rightarrow \\text{total variation} \\approx 6\\sigma$\n",
    "\n",
    "To measure how well a manufacturing process can achieve specifications, take a sample of output, measure dimensions, compute the total variation using the third empirical rule. Compare results to specifications using:\n",
    "\n",
    "$$ C_p = \\frac{\\text{upper specification} - \\text{lower specification}}{\\text{total variation}}$$"
   ]
  },
  {
   "cell_type": "code",
   "execution_count": 55,
   "metadata": {
    "slideshow": {
     "slide_type": "slide"
    }
   },
   "outputs": [],
   "source": [
    "library(tidyverse)\n",
    "library(e1071)\n",
    "file_path = 'data/T08/data1.csv'\n",
    "data <- read.csv2(file_path , sep = \",\")\n",
    "data$value = as.numeric(as.character(data$value))"
   ]
  },
  {
   "cell_type": "markdown",
   "metadata": {
    "slideshow": {
     "slide_type": "subslide"
    }
   },
   "source": [
    "### Example\n",
    "The file data1.csv provides a subset of normally distributed turnaround times for an intensive care unit lab process. The lower specification limit for this process is 20 minutes and the upper specification limit is 30 minutes. The nominal value for this service is 25 minutes. In order to assess the process performance, we can visualize the observations."
   ]
  },
  {
   "cell_type": "code",
   "execution_count": 80,
   "metadata": {
    "scrolled": false
   },
   "outputs": [
    {
     "data": {
      "text/html": [
       "<table>\n",
       "<caption>A data.frame: 3 × 2</caption>\n",
       "<thead>\n",
       "\t<tr><th scope=col>day</th><th scope=col>value</th></tr>\n",
       "\t<tr><th scope=col>&lt;int&gt;</th><th scope=col>&lt;dbl&gt;</th></tr>\n",
       "</thead>\n",
       "<tbody>\n",
       "\t<tr><td>1</td><td>22.95284</td></tr>\n",
       "\t<tr><td>2</td><td>24.56925</td></tr>\n",
       "\t<tr><td>3</td><td>25.48192</td></tr>\n",
       "</tbody>\n",
       "</table>\n"
      ],
      "text/latex": [
       "A data.frame: 3 × 2\n",
       "\\begin{tabular}{r|ll}\n",
       " day & value\\\\\n",
       " <int> & <dbl>\\\\\n",
       "\\hline\n",
       "\t 1 & 22.95284\\\\\n",
       "\t 2 & 24.56925\\\\\n",
       "\t 3 & 25.48192\\\\\n",
       "\\end{tabular}\n"
      ],
      "text/markdown": [
       "\n",
       "A data.frame: 3 × 2\n",
       "\n",
       "| day &lt;int&gt; | value &lt;dbl&gt; |\n",
       "|---|---|\n",
       "| 1 | 22.95284 |\n",
       "| 2 | 24.56925 |\n",
       "| 3 | 25.48192 |\n",
       "\n"
      ],
      "text/plain": [
       "  day value   \n",
       "1 1   22.95284\n",
       "2 2   24.56925\n",
       "3 3   25.48192"
      ]
     },
     "metadata": {},
     "output_type": "display_data"
    }
   ],
   "source": [
    "data %>% head(3)"
   ]
  },
  {
   "cell_type": "markdown",
   "metadata": {
    "slideshow": {
     "slide_type": "subslide"
    }
   },
   "source": [
    "Plot the time series as well as the upper and lower bounds."
   ]
  },
  {
   "cell_type": "code",
   "execution_count": 67,
   "metadata": {
    "slideshow": {
     "slide_type": "-"
    }
   },
   "outputs": [
    {
     "data": {
      "image/png": "[encoded data removed]",
      "text/plain": [
       "plot without title"
      ]
     },
     "metadata": {},
     "output_type": "display_data"
    }
   ],
   "source": [
    "options(repr.plot.width=6, repr.plot.height=3)\n",
    "\n",
    "upperBound <- 30\n",
    "lowerBound <- 20\n",
    "\n",
    "data %>% \n",
    "        "
   ]
  },
  {
   "cell_type": "markdown",
   "metadata": {
    "slideshow": {
     "slide_type": "subslide"
    }
   },
   "source": [
    "Plot a histogram to visualize the distribution of the data."
   ]
  },
  {
   "cell_type": "code",
   "execution_count": 66,
   "metadata": {},
   "outputs": [
    {
     "name": "stderr",
     "output_type": "stream",
     "text": [
      "`stat_bin()` using `bins = 30`. Pick better value with `binwidth`.\n"
     ]
    },
    {
     "data": {
      "image/png": "[encoded data removed]",
      "text/plain": [
       "plot without title"
      ]
     },
     "metadata": {},
     "output_type": "display_data"
    }
   ],
   "source": [
    "options(repr.plot.width=6, repr.plot.height=3)\n",
    "\n",
    "data %>%\n",
    "        "
   ]
  },
  {
   "cell_type": "markdown",
   "metadata": {
    "slideshow": {
     "slide_type": "subslide"
    }
   },
   "source": [
    "**Location Measures:** Mean, Median"
   ]
  },
  {
   "cell_type": "code",
   "execution_count": 96,
   "metadata": {},
   "outputs": [
    {
     "data": {
      "text/html": [
       "24.9731748062"
      ],
      "text/latex": [
       "24.9731748062"
      ],
      "text/markdown": [
       "24.9731748062"
      ],
      "text/plain": [
       "[1] 24.97317"
      ]
     },
     "metadata": {},
     "output_type": "display_data"
    },
    {
     "data": {
      "text/html": [
       "24.856683705"
      ],
      "text/latex": [
       "24.856683705"
      ],
      "text/markdown": [
       "24.856683705"
      ],
      "text/plain": [
       "[1] 24.85668"
      ]
     },
     "metadata": {},
     "output_type": "display_data"
    }
   ],
   "source": [
    "mean <- mean(data$value)\n",
    "mean\n",
    "median <- median(data$value)\n",
    "median"
   ]
  },
  {
   "cell_type": "markdown",
   "metadata": {},
   "source": [
    "Why is mode not a meaningful measure here? Use code to justify "
   ]
  },
  {
   "cell_type": "code",
   "execution_count": 38,
   "metadata": {},
   "outputs": [
    {
     "data": {
      "text/html": [
       "0"
      ],
      "text/latex": [
       "0"
      ],
      "text/markdown": [
       "0"
      ],
      "text/plain": [
       "[1] 0"
      ]
     },
     "metadata": {},
     "output_type": "display_data"
    }
   ],
   "source": []
  },
  {
   "cell_type": "markdown",
   "metadata": {
    "slideshow": {
     "slide_type": "subslide"
    }
   },
   "source": [
    "**Dispersion Measures:**\n",
    "Range, Variance, Standard Deviation"
   ]
  },
  {
   "cell_type": "code",
   "execution_count": 88,
   "metadata": {
    "scrolled": true
   },
   "outputs": [
    {
     "data": {
      "text/html": [
       "<ol class=list-inline>\n",
       "\t<li>21.58292837</li>\n",
       "\t<li>28.38512391</li>\n",
       "</ol>\n"
      ],
      "text/latex": [
       "\\begin{enumerate*}\n",
       "\\item 21.58292837\n",
       "\\item 28.38512391\n",
       "\\end{enumerate*}\n"
      ],
      "text/markdown": [
       "1. 21.58292837\n",
       "2. 28.38512391\n",
       "\n",
       "\n"
      ],
      "text/plain": [
       "[1] 21.58293 28.38512"
      ]
     },
     "metadata": {},
     "output_type": "display_data"
    },
    {
     "data": {
      "text/html": [
       "2.36639679409153"
      ],
      "text/latex": [
       "2.36639679409153"
      ],
      "text/markdown": [
       "2.36639679409153"
      ],
      "text/plain": [
       "[1] 2.366397"
      ]
     },
     "metadata": {},
     "output_type": "display_data"
    },
    {
     "data": {
      "text/html": [
       "1.53830971981962"
      ],
      "text/latex": [
       "1.53830971981962"
      ],
      "text/markdown": [
       "1.53830971981962"
      ],
      "text/plain": [
       "[1] 1.53831"
      ]
     },
     "metadata": {},
     "output_type": "display_data"
    }
   ],
   "source": [
    "range(data$value)\n",
    "var(data$value)\n",
    "sd(data$value)"
   ]
  },
  {
   "cell_type": "markdown",
   "metadata": {
    "slideshow": {
     "slide_type": "subslide"
    }
   },
   "source": [
    "**Standardized random variables**\n",
    "\n",
    "To report dispersion in a standardized form one can apply a standardization scheme such that the standardized data has mean 0 and standard deviation 1.\n",
    "\n",
    "\n",
    "$$ z_i=\\frac{x_i -\\bar{x}}{s}$$"
   ]
  },
  {
   "cell_type": "code",
   "execution_count": 92,
   "metadata": {},
   "outputs": [
    {
     "data": {
      "text/html": [
       "3.32325855202653e-16"
      ],
      "text/latex": [
       "3.32325855202653e-16"
      ],
      "text/markdown": [
       "3.32325855202653e-16"
      ],
      "text/plain": [
       "[1] 3.323259e-16"
      ]
     },
     "metadata": {},
     "output_type": "display_data"
    },
    {
     "data": {
      "text/html": [
       "1"
      ],
      "text/latex": [
       "1"
      ],
      "text/markdown": [
       "1"
      ],
      "text/plain": [
       "[1] 1"
      ]
     },
     "metadata": {},
     "output_type": "display_data"
    }
   ],
   "source": [
    "scaled_value <- scale(data$value)\n",
    "mean(scaled_value)\n",
    "sd(scaled_value)"
   ]
  },
  {
   "cell_type": "markdown",
   "metadata": {
    "slideshow": {
     "slide_type": "subslide"
    }
   },
   "source": [
    "\n",
    "\n",
    "**Skewness and Kurtosis**"
   ]
  },
  {
   "cell_type": "code",
   "execution_count": 111,
   "metadata": {},
   "outputs": [
    {
     "data": {
      "text/html": [
       "0.0815331150885578"
      ],
      "text/latex": [
       "0.0815331150885578"
      ],
      "text/markdown": [
       "0.0815331150885578"
      ],
      "text/plain": [
       "[1] 0.08153312"
      ]
     },
     "metadata": {},
     "output_type": "display_data"
    },
    {
     "name": "stdout",
     "output_type": "stream",
     "text": [
      "[1] \"right-skewed\"\n"
     ]
    },
    {
     "data": {
      "text/html": [
       "-0.649128410082039"
      ],
      "text/latex": [
       "-0.649128410082039"
      ],
      "text/markdown": [
       "-0.649128410082039"
      ],
      "text/plain": [
       "[1] -0.6491284"
      ]
     },
     "metadata": {},
     "output_type": "display_data"
    },
    {
     "name": "stdout",
     "output_type": "stream",
     "text": [
      "[1] \"flat-peaked\"\n"
     ]
    }
   ],
   "source": [
    "skewness(data$value)\n",
    "print(\"right-skewed\")\n",
    "kurtosis(data$value)\n",
    "print(\"flat-peaked\")"
   ]
  },
  {
   "cell_type": "code",
   "execution_count": 112,
   "metadata": {},
   "outputs": [
    {
     "data": {
      "image/png": "[encoded data removed]",
      "text/plain": [
       "plot without title"
      ]
     },
     "metadata": {},
     "output_type": "display_data"
    }
   ],
   "source": [
    "options(repr.plot.width=6, repr.plot.height=3)\n",
    "\n",
    "data %>%\n",
    "        ggplot(aes(x=value)) + \n",
    "        geom_density(color=\"black\", fill=\"White\") + \n",
    "        geom_vline(aes(xintercept=lowerBound), color=\"red\") + \n",
    "        geom_vline(aes(xintercept=upperBound), color=\"red\") + \n",
    "        geom_vline(aes(xintercept=mean), color=\"blue\") + \n",
    "        geom_vline(aes(xintercept=median), color=\"green\") + \n",
    "        theme_bw() "
   ]
  },
  {
   "cell_type": "markdown",
   "metadata": {
    "slideshow": {
     "slide_type": "slide"
    }
   },
   "source": [
    "### Process Performance\n",
    "While visualizations are well suited to get an idea of the process quality, more elaborate methods are needed to measure process performance. The process capability ratio $C_p$ is used to evaluate processes that are symmetric distributed between the upper and lower specifications and calculated as following: \n",
    "\n",
    "$$ C_p = \\frac{\\text{upper specification} - \\text{lower specification}}{\\text{total variation}}$$"
   ]
  },
  {
   "cell_type": "markdown",
   "metadata": {},
   "source": [
    "Determine the process capability by calculating the process capability ratio (Cp).\n",
    "\n",
    "(*The lower specification limit for this process is 20 minutes and the upper specification limit is 30 minutes.\n",
    "The nominal value for this service is 25 minutes.*)"
   ]
  },
  {
   "cell_type": "code",
   "execution_count": 71,
   "metadata": {},
   "outputs": [
    {
     "data": {
      "text/html": [
       "1.08344024951106"
      ],
      "text/latex": [
       "1.08344024951106"
      ],
      "text/markdown": [
       "1.08344024951106"
      ],
      "text/plain": [
       "[1] 1.08344"
      ]
     },
     "metadata": {},
     "output_type": "display_data"
    }
   ],
   "source": []
  },
  {
   "cell_type": "markdown",
   "metadata": {
    "slideshow": {
     "slide_type": "subslide"
    }
   },
   "source": [
    "Another common method to evaluate process performance is the n-sigma approach. Thereby, the distance between the nominal service time and the bounds is measured in numbers of standard deviations (see Chebyshev’s Theorem and Empirical Rules).\n",
    "The manager of the lab wants to know if the process has one-sigma, two-sigma, three-sigma, four-sigma or five-sigma performance."
   ]
  },
  {
   "cell_type": "code",
   "execution_count": 69,
   "metadata": {},
   "outputs": [
    {
     "data": {
      "text/html": [
       "3.25032074853319"
      ],
      "text/latex": [
       "3.25032074853319"
      ],
      "text/markdown": [
       "3.25032074853319"
      ],
      "text/plain": [
       "[1] 3.250321"
      ]
     },
     "metadata": {},
     "output_type": "display_data"
    },
    {
     "data": {
      "text/html": [
       "-3.25032074853319"
      ],
      "text/latex": [
       "-3.25032074853319"
      ],
      "text/markdown": [
       "-3.25032074853319"
      ],
      "text/plain": [
       "[1] -3.250321"
      ]
     },
     "metadata": {},
     "output_type": "display_data"
    }
   ],
   "source": []
  },
  {
   "cell_type": "markdown",
   "metadata": {},
   "source": [
    "What percentage of turnaround times lies within the limits of the process? Provide an approximation using the empirical rule as well as a lower bound using Chebyshev’s Theorem. "
   ]
  },
  {
   "cell_type": "code",
   "execution_count": 115,
   "metadata": {},
   "outputs": [
    {
     "data": {
      "text/html": [
       "0.99730020393674"
      ],
      "text/latex": [
       "0.99730020393674"
      ],
      "text/markdown": [
       "0.99730020393674"
      ],
      "text/plain": [
       "[1] 0.9973002"
      ]
     },
     "metadata": {},
     "output_type": "display_data"
    }
   ],
   "source": []
  },
  {
   "cell_type": "code",
   "execution_count": 116,
   "metadata": {
    "scrolled": true
   },
   "outputs": [
    {
     "data": {
      "text/html": [
       "0.905325443786982"
      ],
      "text/latex": [
       "0.905325443786982"
      ],
      "text/markdown": [
       "0.905325443786982"
      ],
      "text/plain": [
       "[1] 0.9053254"
      ]
     },
     "metadata": {},
     "output_type": "display_data"
    }
   ],
   "source": []
  },
  {
   "cell_type": "markdown",
   "metadata": {
    "slideshow": {
     "slide_type": "subslide"
    }
   },
   "source": [
    "Proportion of turnaround times within the limits of the process:"
   ]
  },
  {
   "cell_type": "code",
   "execution_count": 79,
   "metadata": {
    "slideshow": {
     "slide_type": "-"
    }
   },
   "outputs": [
    {
     "data": {
      "image/png": "[encoded data removed]",
      "text/plain": [
       "plot without title"
      ]
     },
     "metadata": {},
     "output_type": "display_data"
    }
   ],
   "source": [
    "ggplot(data = data.frame(x = c(-5, 5)), aes(x)) +\n",
    "        stat_function(fun = dnorm, n = 101, args = list(mean = 0, sd = 1)) +\n",
    "        geom_vline(aes(xintercept=3), color=\"red\") + \n",
    "        geom_vline(aes(xintercept=-3), color=\"red\") + \n",
    "        ylab(\"\") +\n",
    "        scale_y_continuous(breaks = NULL)"
   ]
  },
  {
   "cell_type": "markdown",
   "metadata": {
    "slideshow": {
     "slide_type": "subslide"
    }
   },
   "source": [
    "Regulatory issues require the lab to achieve six-sigma process performance. To achieve this goal, the process standard deviation needs to be improved.\n",
    "What is the new $\\sigma$? (Assume constant bounds)"
   ]
  },
  {
   "cell_type": "code",
   "execution_count": 86,
   "metadata": {},
   "outputs": [
    {
     "data": {
      "text/html": [
       "0.833333333333333"
      ],
      "text/latex": [
       "0.833333333333333"
      ],
      "text/markdown": [
       "0.833333333333333"
      ],
      "text/plain": [
       "[1] 0.8333333"
      ]
     },
     "metadata": {},
     "output_type": "display_data"
    },
    {
     "data": {
      "text/html": [
       "50"
      ],
      "text/latex": [
       "50"
      ],
      "text/markdown": [
       "50"
      ],
      "text/plain": [
       "[1] 50"
      ]
     },
     "metadata": {},
     "output_type": "display_data"
    }
   ],
   "source": []
  },
  {
   "cell_type": "markdown",
   "metadata": {
    "slideshow": {
     "slide_type": "slide"
    }
   },
   "source": [
    "## Random Sampling from Probability Distributions"
   ]
  },
  {
   "cell_type": "markdown",
   "metadata": {},
   "source": [
    "A random variable is a numerical description of the outcome of an experiment\n",
    "\n",
    "- A discrete random variable is one for which the number of possible outcomes can be counted\n",
    "- A continuous random variable has outcomes over one or more continuous intervals of real numbers\n",
    "\n",
    "A probability distribution is a characterization of the possible values that a random variable may assume along with the probability of assuming these values."
   ]
  },
  {
   "cell_type": "markdown",
   "metadata": {
    "slideshow": {
     "slide_type": "subslide"
    }
   },
   "source": [
    "<img src=\"images/Simulation.png\" style=\"width:60%; float:center\">"
   ]
  },
  {
   "cell_type": "markdown",
   "metadata": {
    "slideshow": {
     "slide_type": "subslide"
    }
   },
   "source": [
    "- Many application in Business Analytics require random samples from specific probability distributions.\n",
    "- For example, cumulative discounted cash flow can be described using probability distributions for sales, sales growth rate, operating expenses, and inflation factors (all uncertain variables).\n",
    "- Random numbers are the basis for generating random samples from probability distributions.\n",
    "    - In most computer programs, default random numbers are uniformly distributed over [0;1]\n"
   ]
  },
  {
   "cell_type": "code",
   "execution_count": null,
   "metadata": {},
   "outputs": [],
   "source": [
    "?runif"
   ]
  },
  {
   "cell_type": "code",
   "execution_count": 101,
   "metadata": {},
   "outputs": [
    {
     "data": {
      "text/html": [
       "<ol class=list-inline>\n",
       "\t<li>0.279755952302366</li>\n",
       "\t<li>0.938298114575446</li>\n",
       "\t<li>0.839954220689833</li>\n",
       "\t<li>0.124243787489831</li>\n",
       "\t<li>0.638139969203621</li>\n",
       "</ol>\n"
      ],
      "text/latex": [
       "\\begin{enumerate*}\n",
       "\\item 0.279755952302366\n",
       "\\item 0.938298114575446\n",
       "\\item 0.839954220689833\n",
       "\\item 0.124243787489831\n",
       "\\item 0.638139969203621\n",
       "\\end{enumerate*}\n"
      ],
      "text/markdown": [
       "1. 0.279755952302366\n",
       "2. 0.938298114575446\n",
       "3. 0.839954220689833\n",
       "4. 0.124243787489831\n",
       "5. 0.638139969203621\n",
       "\n",
       "\n"
      ],
      "text/plain": [
       "[1] 0.2797560 0.9382981 0.8399542 0.1242438 0.6381400"
      ]
     },
     "metadata": {},
     "output_type": "display_data"
    }
   ],
   "source": [
    "runif(5, 0, 1)"
   ]
  },
  {
   "cell_type": "code",
   "execution_count": 109,
   "metadata": {},
   "outputs": [
    {
     "data": {
      "text/html": [
       "<ol class=list-inline>\n",
       "\t<li>1</li>\n",
       "\t<li>1</li>\n",
       "\t<li>0</li>\n",
       "\t<li>0</li>\n",
       "\t<li>0</li>\n",
       "</ol>\n"
      ],
      "text/latex": [
       "\\begin{enumerate*}\n",
       "\\item 1\n",
       "\\item 1\n",
       "\\item 0\n",
       "\\item 0\n",
       "\\item 0\n",
       "\\end{enumerate*}\n"
      ],
      "text/markdown": [
       "1. 1\n",
       "2. 1\n",
       "3. 0\n",
       "4. 0\n",
       "5. 0\n",
       "\n",
       "\n"
      ],
      "text/plain": [
       "[1] 1 1 0 0 0"
      ]
     },
     "metadata": {},
     "output_type": "display_data"
    }
   ],
   "source": [
    "sample(0:1,5,replace=T)"
   ]
  }
 ],
 "metadata": {
  "celltoolbar": "Slideshow",
  "kernelspec": {
   "display_name": "R",
   "language": "R",
   "name": "ir"
  },
  "language_info": {
   "codemirror_mode": "r",
   "file_extension": ".r",
   "mimetype": "text/x-r-source",
   "name": "R",
   "pygments_lexer": "r",
   "version": "3.5.1"
  }
 },
 "nbformat": 4,
 "nbformat_minor": 2
}
