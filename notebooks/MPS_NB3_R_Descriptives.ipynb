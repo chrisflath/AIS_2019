{
 "cells": [
  {
   "cell_type": "code",
   "execution_count": null,
   "metadata": {},
   "outputs": [],
   "source": [
    "wine.url <- \"https://archive.ics.uci.edu/ml/machine-learning-databases/wine-quality/winequality-white.csv\"\n",
    "wine <- read.csv(wine.url, header = TRUE, sep = \";\")\n",
    "\n",
    "cor(wine) -> corTable\n",
    "\n",
    "#get 12th column (quality)\n",
    "#order it by increasing absolute value\n",
    "corTable[order(-abs(corTable[,12])),12]\n",
    "#alcohol has a positive correlation with quality\n",
    "#density has a negative correlation with quality\n",
    "#chlorides,volatile.acidity,total.sulfur.dioxide have a small negative coorelation\n",
    "\n",
    "\n",
    "#Computing Binomial Probabilities\n",
    "# Suppose 10 individuals receive a telemarketing promotion.\n",
    "# Each individual has a 0.2 probability of making a purchase.\n",
    "# Find the probability that exactly 3 of the 10 individuals make a purchase.\n",
    "\n",
    "#via density\n",
    "dbinom(3,10,0.2)\n",
    "#via cumulative\n",
    "pbinom(3,10,0.2)-pbinom(2,10,0.2)\n",
    "\n",
    "#Computing Poisson Probabilities\n",
    "#Suppose the average number of customers arriving at a\n",
    "#Subway restaurant during lunch hour is ?? =12 per hour.\n",
    "#The probability that exactly x customers arrive during the\n",
    "#hour is given by the Poisson distribution.\n",
    "#Find the probability that exactly 5 arrive during lunch hour\n",
    "\n",
    "dpois(5,12)\n",
    "\n",
    "#Find the probability that more than 3 arrive during lunch\n",
    "#hour\n",
    "\n",
    "1-ppois(3,12)\n",
    "\n",
    "#Computing Uniform Probabilities\n",
    "#Sales revenue for a product varies uniformly each week\n",
    "#between $1000 and $2000.\n",
    "#f(x) = 1/(2000-1000) = 1/1000\n",
    "#Find the probability sales revenue will be less than $1,300\n",
    "\n",
    "punif(1300,1000,2000)\n",
    "\n",
    "\n",
    "\n",
    "\n",
    "\n",
    "\n"
   ]
  },
  {
   "cell_type": "code",
   "execution_count": null,
   "metadata": {},
   "outputs": [],
   "source": [
    "#Find the probability that revenue will be between $1,500\n",
    "#and $1,700\n",
    "\n",
    "punif(1700,1000,2000) - punif(1500,1000,2000)"
   ]
  },
  {
   "cell_type": "code",
   "execution_count": null,
   "metadata": {},
   "outputs": [],
   "source": [
    "#The distribution for customer demand (units per month) is\n",
    "#normal with:\n",
    "#  mean = 750\n",
    "#  stdev. = 100\n",
    "#Find the probability that demand will be:\n",
    "# a. at most 900 units/month\n",
    "\n",
    "pnorm(900,750,100)\n"
   ]
  },
  {
   "cell_type": "code",
   "execution_count": null,
   "metadata": {},
   "outputs": [],
   "source": [
    "\n",
    "# b. exceed 700 units/month\n",
    "\n",
    "1 - pnorm(700,750,100)\n",
    "\n",
    "# c. be between 700 and 900 units/month\n",
    "\n",
    "pnorm(900,750,100) - pnorm(700,750,100)\n"
   ]
  },
  {
   "cell_type": "code",
   "execution_count": null,
   "metadata": {},
   "outputs": [],
   "source": [
    "# What level of demand would be exceeded at most 10% of\n",
    "#the time?\n",
    "\n",
    "qnorm(0.9,750,100)"
   ]
  },
  {
   "cell_type": "code",
   "execution_count": null,
   "metadata": {},
   "outputs": [],
   "source": [
    "#The mean time to failure of a critical engine component is �\n",
    "#= 8,000 hours. ??? ?? = 1/8000\n",
    "#What is the probability of failing before 5000 hours?\n",
    "\n",
    "pexp(5000,1/8000)"
   ]
  }
 ],
 "metadata": {
  "kernelspec": {
   "display_name": "R",
   "language": "R",
   "name": "ir"
  },
  "language_info": {
   "codemirror_mode": "r",
   "file_extension": ".r",
   "mimetype": "text/x-r-source",
   "name": "R",
   "pygments_lexer": "r",
   "version": "3.4.3"
  }
 },
 "nbformat": 4,
 "nbformat_minor": 2
}
