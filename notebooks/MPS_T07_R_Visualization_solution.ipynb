{
 "cells": [
  {
   "cell_type": "markdown",
   "metadata": {
    "slideshow": {
     "slide_type": "slide"
    }
   },
   "source": [
    "*Managerial Problem Solving*\n",
    "\n",
    "# Tutorial 7 - Visualization with R\n",
    "\n",
    "Toni Greif<br>\n",
    "Lehrstuhl für Wirtschaftsinformatik und Informationsmanagement\n",
    "\n",
    "SS 2019"
   ]
  },
  {
   "cell_type": "markdown",
   "metadata": {
    "slideshow": {
     "slide_type": "slide"
    }
   },
   "source": [
    "The *tidyverse* and all necessary packages for the tutorial are already pre-installed, so we just need to load them"
   ]
  },
  {
   "cell_type": "code",
   "execution_count": 1,
   "metadata": {
    "slideshow": {
     "slide_type": "-"
    }
   },
   "outputs": [
    {
     "name": "stderr",
     "output_type": "stream",
     "text": [
      "Warning message:\n",
      "\"package 'tidyverse' was built under R version 3.5.3\"-- \u001b[1mAttaching packages\u001b[22m --------------------------------------- tidyverse 1.2.1 --\n",
      "\u001b[32mv\u001b[39m \u001b[34mggplot2\u001b[39m 3.1.0     \u001b[32mv\u001b[39m \u001b[34mpurrr  \u001b[39m 0.2.5\n",
      "\u001b[32mv\u001b[39m \u001b[34mtibble \u001b[39m 2.1.1     \u001b[32mv\u001b[39m \u001b[34mdplyr  \u001b[39m 0.8.1\n",
      "\u001b[32mv\u001b[39m \u001b[34mtidyr  \u001b[39m 0.8.2     \u001b[32mv\u001b[39m \u001b[34mstringr\u001b[39m 1.3.1\n",
      "\u001b[32mv\u001b[39m \u001b[34mreadr  \u001b[39m 1.1.1     \u001b[32mv\u001b[39m \u001b[34mforcats\u001b[39m 0.3.0\n",
      "Warning message:\n",
      "\"package 'tibble' was built under R version 3.5.3\"Warning message:\n",
      "\"package 'dplyr' was built under R version 3.5.3\"-- \u001b[1mConflicts\u001b[22m ------------------------------------------ tidyverse_conflicts() --\n",
      "\u001b[31mx\u001b[39m \u001b[34mdplyr\u001b[39m::\u001b[32mfilter()\u001b[39m masks \u001b[34mstats\u001b[39m::filter()\n",
      "\u001b[31mx\u001b[39m \u001b[34mdplyr\u001b[39m::\u001b[32mlag()\u001b[39m    masks \u001b[34mstats\u001b[39m::lag()\n"
     ]
    }
   ],
   "source": [
    "library(tidyverse)"
   ]
  },
  {
   "cell_type": "markdown",
   "metadata": {
    "slideshow": {
     "slide_type": "slide"
    }
   },
   "source": [
    "## Data Frames "
   ]
  },
  {
   "cell_type": "markdown",
   "metadata": {
    "slideshow": {
     "slide_type": "-"
    }
   },
   "source": [
    "We use the dataset from the last tutorial. The file “homicide.csv” provides information on homicides in the United States since 1976. This data set includes the age, race, sex, ethnicity of victims and perpetrators, in addition to the relationship between the victim and perpetrator and weapon used.\n",
    "\n",
    "Load the data set from the csv file and store it as data frame “homicides”."
   ]
  },
  {
   "cell_type": "code",
   "execution_count": 2,
   "metadata": {
    "slideshow": {
     "slide_type": "-"
    }
   },
   "outputs": [],
   "source": [
    "file_path = 'data/T06/homicide.csv'\n",
    "homicides <- read.csv2(file_path , sep = \",\")"
   ]
  },
  {
   "cell_type": "code",
   "execution_count": 3,
   "metadata": {
    "scrolled": true
   },
   "outputs": [
    {
     "data": {
      "text/html": [
       "<table>\n",
       "<caption>A data.frame: 3 × 24</caption>\n",
       "<thead>\n",
       "\t<tr><th scope=col>Record.ID</th><th scope=col>Agency.Code</th><th scope=col>Agency.Name</th><th scope=col>Agency.Type</th><th scope=col>City</th><th scope=col>State</th><th scope=col>Year</th><th scope=col>Month</th><th scope=col>Incident</th><th scope=col>Crime.Type</th><th scope=col>...</th><th scope=col>Victim.Ethnicity</th><th scope=col>Perpetrator.Sex</th><th scope=col>Perpetrator.Age</th><th scope=col>Perpetrator.Race</th><th scope=col>Perpetrator.Ethnicity</th><th scope=col>Relationship</th><th scope=col>Weapon</th><th scope=col>Victim.Count</th><th scope=col>Perpetrator.Count</th><th scope=col>Record.Source</th></tr>\n",
       "\t<tr><th scope=col>&lt;int&gt;</th><th scope=col>&lt;fct&gt;</th><th scope=col>&lt;fct&gt;</th><th scope=col>&lt;fct&gt;</th><th scope=col>&lt;fct&gt;</th><th scope=col>&lt;fct&gt;</th><th scope=col>&lt;int&gt;</th><th scope=col>&lt;fct&gt;</th><th scope=col>&lt;int&gt;</th><th scope=col>&lt;fct&gt;</th><th scope=col>...</th><th scope=col>&lt;fct&gt;</th><th scope=col>&lt;fct&gt;</th><th scope=col>&lt;int&gt;</th><th scope=col>&lt;fct&gt;</th><th scope=col>&lt;fct&gt;</th><th scope=col>&lt;fct&gt;</th><th scope=col>&lt;fct&gt;</th><th scope=col>&lt;int&gt;</th><th scope=col>&lt;int&gt;</th><th scope=col>&lt;fct&gt;</th></tr>\n",
       "</thead>\n",
       "<tbody>\n",
       "\t<tr><td>417104</td><td>AK00101</td><td>Anchorage</td><td>Municipal Police</td><td>Anchorage</td><td>Alaska</td><td>2001</td><td>April</td><td>1</td><td>Murder or Manslaughter</td><td>...</td><td>Unknown</td><td>Male</td><td>45</td><td>White                 </td><td>Unknown</td><td>Acquaintance</td><td>Handgun     </td><td>0</td><td>0</td><td>FBI</td></tr>\n",
       "\t<tr><td>417105</td><td>AK00101</td><td>Anchorage</td><td>Municipal Police</td><td>Anchorage</td><td>Alaska</td><td>2001</td><td>May  </td><td>1</td><td>Murder or Manslaughter</td><td>...</td><td>Unknown</td><td>Male</td><td>20</td><td>Asian/Pacific Islander</td><td>Unknown</td><td>Acquaintance</td><td>Blunt Object</td><td>0</td><td>0</td><td>FBI</td></tr>\n",
       "\t<tr><td>417106</td><td>AK00101</td><td>Anchorage</td><td>Municipal Police</td><td>Anchorage</td><td>Alaska</td><td>2001</td><td>June </td><td>1</td><td>Murder or Manslaughter</td><td>...</td><td>Unknown</td><td>Male</td><td>20</td><td>Asian/Pacific Islander</td><td>Unknown</td><td>Stranger    </td><td>Blunt Object</td><td>0</td><td>1</td><td>FBI</td></tr>\n",
       "</tbody>\n",
       "</table>\n"
      ],
      "text/latex": [
       "A data.frame: 3 × 24\n",
       "\\begin{tabular}{r|llllllllllllllllllllllll}\n",
       " Record.ID & Agency.Code & Agency.Name & Agency.Type & City & State & Year & Month & Incident & Crime.Type & Crime.Solved & Victim.Sex & Victim.Age & Victim.Race & Victim.Ethnicity & Perpetrator.Sex & Perpetrator.Age & Perpetrator.Race & Perpetrator.Ethnicity & Relationship & Weapon & Victim.Count & Perpetrator.Count & Record.Source\\\\\n",
       " <int> & <fct> & <fct> & <fct> & <fct> & <fct> & <int> & <fct> & <int> & <fct> & <fct> & <fct> & <int> & <fct> & <fct> & <fct> & <int> & <fct> & <fct> & <fct> & <fct> & <int> & <int> & <fct>\\\\\n",
       "\\hline\n",
       "\t 417104 & AK00101 & Anchorage & Municipal Police & Anchorage & Alaska & 2001 & April & 1 & Murder or Manslaughter & Yes & Male   & 28 & White                         & Unknown & Male & 45 & White                  & Unknown & Acquaintance & Handgun      & 0 & 0 & FBI\\\\\n",
       "\t 417105 & AK00101 & Anchorage & Municipal Police & Anchorage & Alaska & 2001 & May   & 1 & Murder or Manslaughter & Yes & Male   &  0 & White                         & Unknown & Male & 20 & Asian/Pacific Islander & Unknown & Acquaintance & Blunt Object & 0 & 0 & FBI\\\\\n",
       "\t 417106 & AK00101 & Anchorage & Municipal Police & Anchorage & Alaska & 2001 & June  & 1 & Murder or Manslaughter & Yes & Female & 25 & Native American/Alaska Native & Unknown & Male & 20 & Asian/Pacific Islander & Unknown & Stranger     & Blunt Object & 0 & 1 & FBI\\\\\n",
       "\\end{tabular}\n"
      ],
      "text/markdown": [
       "\n",
       "A data.frame: 3 × 24\n",
       "\n",
       "| Record.ID &lt;int&gt; | Agency.Code &lt;fct&gt; | Agency.Name &lt;fct&gt; | Agency.Type &lt;fct&gt; | City &lt;fct&gt; | State &lt;fct&gt; | Year &lt;int&gt; | Month &lt;fct&gt; | Incident &lt;int&gt; | Crime.Type &lt;fct&gt; | ... ... | Victim.Ethnicity &lt;fct&gt; | Perpetrator.Sex &lt;fct&gt; | Perpetrator.Age &lt;int&gt; | Perpetrator.Race &lt;fct&gt; | Perpetrator.Ethnicity &lt;fct&gt; | Relationship &lt;fct&gt; | Weapon &lt;fct&gt; | Victim.Count &lt;int&gt; | Perpetrator.Count &lt;int&gt; | Record.Source &lt;fct&gt; |\n",
       "|---|---|---|---|---|---|---|---|---|---|---|---|---|---|---|---|---|---|---|---|---|\n",
       "| 417104 | AK00101 | Anchorage | Municipal Police | Anchorage | Alaska | 2001 | April | 1 | Murder or Manslaughter | ... | Unknown | Male | 45 | White                  | Unknown | Acquaintance | Handgun      | 0 | 0 | FBI |\n",
       "| 417105 | AK00101 | Anchorage | Municipal Police | Anchorage | Alaska | 2001 | May   | 1 | Murder or Manslaughter | ... | Unknown | Male | 20 | Asian/Pacific Islander | Unknown | Acquaintance | Blunt Object | 0 | 0 | FBI |\n",
       "| 417106 | AK00101 | Anchorage | Municipal Police | Anchorage | Alaska | 2001 | June  | 1 | Murder or Manslaughter | ... | Unknown | Male | 20 | Asian/Pacific Islander | Unknown | Stranger     | Blunt Object | 0 | 1 | FBI |\n",
       "\n"
      ],
      "text/plain": [
       "  Record.ID Agency.Code Agency.Name Agency.Type      City      State  Year\n",
       "1 417104    AK00101     Anchorage   Municipal Police Anchorage Alaska 2001\n",
       "2 417105    AK00101     Anchorage   Municipal Police Anchorage Alaska 2001\n",
       "3 417106    AK00101     Anchorage   Municipal Police Anchorage Alaska 2001\n",
       "  Month Incident Crime.Type             ... Victim.Ethnicity Perpetrator.Sex\n",
       "1 April 1        Murder or Manslaughter ... Unknown          Male           \n",
       "2 May   1        Murder or Manslaughter ... Unknown          Male           \n",
       "3 June  1        Murder or Manslaughter ... Unknown          Male           \n",
       "  Perpetrator.Age Perpetrator.Race       Perpetrator.Ethnicity Relationship\n",
       "1 45              White                  Unknown               Acquaintance\n",
       "2 20              Asian/Pacific Islander Unknown               Acquaintance\n",
       "3 20              Asian/Pacific Islander Unknown               Stranger    \n",
       "  Weapon       Victim.Count Perpetrator.Count Record.Source\n",
       "1 Handgun      0            0                 FBI          \n",
       "2 Blunt Object 0            0                 FBI          \n",
       "3 Blunt Object 0            1                 FBI          "
      ]
     },
     "metadata": {},
     "output_type": "display_data"
    }
   ],
   "source": [
    "head(homicides,3)"
   ]
  },
  {
   "cell_type": "markdown",
   "metadata": {
    "cell_style": "split",
    "slideshow": {
     "slide_type": "subslide"
    }
   },
   "source": [
    "### The pipe operator\n",
    "\n",
    "<img src=\"https://github.com/matjesg/AIS_2019/raw/master/notebooks/images/01/pipes.png\" style=\"width:20%; float:right\">\n",
    "\n",
    "Pipes are a powerful tool for clearly expressing a sequence of multiple operations.<br>\n",
    "\n",
    "```R\n",
    "df %>%\n",
    "    filter() %>%\n",
    "    mutate() %>%\n",
    "    arrange()\n",
    "```\n",
    "\n",
    "In a pipe, we can rewrite the code\n",
    "\n",
    "```R\n",
    "head(homicides,3)\n",
    "```\n",
    "as follows\n",
    "```R\n",
    "homicides %>%\n",
    "    head(3)\n",
    "```"
   ]
  },
  {
   "cell_type": "code",
   "execution_count": 4,
   "metadata": {},
   "outputs": [
    {
     "data": {
      "text/html": [
       "<table>\n",
       "<caption>A data.frame: 3 × 24</caption>\n",
       "<thead>\n",
       "\t<tr><th scope=col>Record.ID</th><th scope=col>Agency.Code</th><th scope=col>Agency.Name</th><th scope=col>Agency.Type</th><th scope=col>City</th><th scope=col>State</th><th scope=col>Year</th><th scope=col>Month</th><th scope=col>Incident</th><th scope=col>Crime.Type</th><th scope=col>...</th><th scope=col>Victim.Ethnicity</th><th scope=col>Perpetrator.Sex</th><th scope=col>Perpetrator.Age</th><th scope=col>Perpetrator.Race</th><th scope=col>Perpetrator.Ethnicity</th><th scope=col>Relationship</th><th scope=col>Weapon</th><th scope=col>Victim.Count</th><th scope=col>Perpetrator.Count</th><th scope=col>Record.Source</th></tr>\n",
       "\t<tr><th scope=col>&lt;int&gt;</th><th scope=col>&lt;fct&gt;</th><th scope=col>&lt;fct&gt;</th><th scope=col>&lt;fct&gt;</th><th scope=col>&lt;fct&gt;</th><th scope=col>&lt;fct&gt;</th><th scope=col>&lt;int&gt;</th><th scope=col>&lt;fct&gt;</th><th scope=col>&lt;int&gt;</th><th scope=col>&lt;fct&gt;</th><th scope=col>...</th><th scope=col>&lt;fct&gt;</th><th scope=col>&lt;fct&gt;</th><th scope=col>&lt;int&gt;</th><th scope=col>&lt;fct&gt;</th><th scope=col>&lt;fct&gt;</th><th scope=col>&lt;fct&gt;</th><th scope=col>&lt;fct&gt;</th><th scope=col>&lt;int&gt;</th><th scope=col>&lt;int&gt;</th><th scope=col>&lt;fct&gt;</th></tr>\n",
       "</thead>\n",
       "<tbody>\n",
       "\t<tr><td>417104</td><td>AK00101</td><td>Anchorage</td><td>Municipal Police</td><td>Anchorage</td><td>Alaska</td><td>2001</td><td>April</td><td>1</td><td>Murder or Manslaughter</td><td>...</td><td>Unknown</td><td>Male</td><td>45</td><td>White                 </td><td>Unknown</td><td>Acquaintance</td><td>Handgun     </td><td>0</td><td>0</td><td>FBI</td></tr>\n",
       "\t<tr><td>417105</td><td>AK00101</td><td>Anchorage</td><td>Municipal Police</td><td>Anchorage</td><td>Alaska</td><td>2001</td><td>May  </td><td>1</td><td>Murder or Manslaughter</td><td>...</td><td>Unknown</td><td>Male</td><td>20</td><td>Asian/Pacific Islander</td><td>Unknown</td><td>Acquaintance</td><td>Blunt Object</td><td>0</td><td>0</td><td>FBI</td></tr>\n",
       "\t<tr><td>417106</td><td>AK00101</td><td>Anchorage</td><td>Municipal Police</td><td>Anchorage</td><td>Alaska</td><td>2001</td><td>June </td><td>1</td><td>Murder or Manslaughter</td><td>...</td><td>Unknown</td><td>Male</td><td>20</td><td>Asian/Pacific Islander</td><td>Unknown</td><td>Stranger    </td><td>Blunt Object</td><td>0</td><td>1</td><td>FBI</td></tr>\n",
       "</tbody>\n",
       "</table>\n"
      ],
      "text/latex": [
       "A data.frame: 3 × 24\n",
       "\\begin{tabular}{r|llllllllllllllllllllllll}\n",
       " Record.ID & Agency.Code & Agency.Name & Agency.Type & City & State & Year & Month & Incident & Crime.Type & Crime.Solved & Victim.Sex & Victim.Age & Victim.Race & Victim.Ethnicity & Perpetrator.Sex & Perpetrator.Age & Perpetrator.Race & Perpetrator.Ethnicity & Relationship & Weapon & Victim.Count & Perpetrator.Count & Record.Source\\\\\n",
       " <int> & <fct> & <fct> & <fct> & <fct> & <fct> & <int> & <fct> & <int> & <fct> & <fct> & <fct> & <int> & <fct> & <fct> & <fct> & <int> & <fct> & <fct> & <fct> & <fct> & <int> & <int> & <fct>\\\\\n",
       "\\hline\n",
       "\t 417104 & AK00101 & Anchorage & Municipal Police & Anchorage & Alaska & 2001 & April & 1 & Murder or Manslaughter & Yes & Male   & 28 & White                         & Unknown & Male & 45 & White                  & Unknown & Acquaintance & Handgun      & 0 & 0 & FBI\\\\\n",
       "\t 417105 & AK00101 & Anchorage & Municipal Police & Anchorage & Alaska & 2001 & May   & 1 & Murder or Manslaughter & Yes & Male   &  0 & White                         & Unknown & Male & 20 & Asian/Pacific Islander & Unknown & Acquaintance & Blunt Object & 0 & 0 & FBI\\\\\n",
       "\t 417106 & AK00101 & Anchorage & Municipal Police & Anchorage & Alaska & 2001 & June  & 1 & Murder or Manslaughter & Yes & Female & 25 & Native American/Alaska Native & Unknown & Male & 20 & Asian/Pacific Islander & Unknown & Stranger     & Blunt Object & 0 & 1 & FBI\\\\\n",
       "\\end{tabular}\n"
      ],
      "text/markdown": [
       "\n",
       "A data.frame: 3 × 24\n",
       "\n",
       "| Record.ID &lt;int&gt; | Agency.Code &lt;fct&gt; | Agency.Name &lt;fct&gt; | Agency.Type &lt;fct&gt; | City &lt;fct&gt; | State &lt;fct&gt; | Year &lt;int&gt; | Month &lt;fct&gt; | Incident &lt;int&gt; | Crime.Type &lt;fct&gt; | ... ... | Victim.Ethnicity &lt;fct&gt; | Perpetrator.Sex &lt;fct&gt; | Perpetrator.Age &lt;int&gt; | Perpetrator.Race &lt;fct&gt; | Perpetrator.Ethnicity &lt;fct&gt; | Relationship &lt;fct&gt; | Weapon &lt;fct&gt; | Victim.Count &lt;int&gt; | Perpetrator.Count &lt;int&gt; | Record.Source &lt;fct&gt; |\n",
       "|---|---|---|---|---|---|---|---|---|---|---|---|---|---|---|---|---|---|---|---|---|\n",
       "| 417104 | AK00101 | Anchorage | Municipal Police | Anchorage | Alaska | 2001 | April | 1 | Murder or Manslaughter | ... | Unknown | Male | 45 | White                  | Unknown | Acquaintance | Handgun      | 0 | 0 | FBI |\n",
       "| 417105 | AK00101 | Anchorage | Municipal Police | Anchorage | Alaska | 2001 | May   | 1 | Murder or Manslaughter | ... | Unknown | Male | 20 | Asian/Pacific Islander | Unknown | Acquaintance | Blunt Object | 0 | 0 | FBI |\n",
       "| 417106 | AK00101 | Anchorage | Municipal Police | Anchorage | Alaska | 2001 | June  | 1 | Murder or Manslaughter | ... | Unknown | Male | 20 | Asian/Pacific Islander | Unknown | Stranger     | Blunt Object | 0 | 1 | FBI |\n",
       "\n"
      ],
      "text/plain": [
       "  Record.ID Agency.Code Agency.Name Agency.Type      City      State  Year\n",
       "1 417104    AK00101     Anchorage   Municipal Police Anchorage Alaska 2001\n",
       "2 417105    AK00101     Anchorage   Municipal Police Anchorage Alaska 2001\n",
       "3 417106    AK00101     Anchorage   Municipal Police Anchorage Alaska 2001\n",
       "  Month Incident Crime.Type             ... Victim.Ethnicity Perpetrator.Sex\n",
       "1 April 1        Murder or Manslaughter ... Unknown          Male           \n",
       "2 May   1        Murder or Manslaughter ... Unknown          Male           \n",
       "3 June  1        Murder or Manslaughter ... Unknown          Male           \n",
       "  Perpetrator.Age Perpetrator.Race       Perpetrator.Ethnicity Relationship\n",
       "1 45              White                  Unknown               Acquaintance\n",
       "2 20              Asian/Pacific Islander Unknown               Acquaintance\n",
       "3 20              Asian/Pacific Islander Unknown               Stranger    \n",
       "  Weapon       Victim.Count Perpetrator.Count Record.Source\n",
       "1 Handgun      0            0                 FBI          \n",
       "2 Blunt Object 0            0                 FBI          \n",
       "3 Blunt Object 0            1                 FBI          "
      ]
     },
     "metadata": {},
     "output_type": "display_data"
    }
   ],
   "source": [
    "homicides %>% head(3)"
   ]
  },
  {
   "cell_type": "markdown",
   "metadata": {
    "slideshow": {
     "slide_type": "subslide"
    }
   },
   "source": [
    "### Tidy data\n",
    "\n",
    "You can represent the same underlying data in multiple ways. There are three interrelated rules which make a dataset tidy:\n",
    "1. Each variable must have its own column.\n",
    "2. Each observation must have its own row.\n",
    "3. Each value must have its own cell.\n",
    "\n",
    "<img src=\"images/spread_gather.png\" style=\"width:80%; float:center\">\n",
    "\n",
    "Source: http://r4ds.had.co.nz/tidy-data.html#spreading-and-gathering\n",
    "\n",
    "Tidy functions in tidyverse:\n",
    "- **spreading**\n",
    "- **gathering**\n",
    "- separating\n",
    "- uniting"
   ]
  },
  {
   "cell_type": "markdown",
   "metadata": {
    "slideshow": {
     "slide_type": "subslide"
    }
   },
   "source": [
    "**Gathering** makes wide tables narrower and longer:\n",
    "\n",
    "```R\n",
    "table4 %>% \n",
    "\tgather(`1999`, `2000`, key = \"year\", value = \"population\")\n",
    "```\n",
    "\n",
    "    \n",
    "<img src=\"images/gather.png\" style=\"width:80%; float:center\">\n",
    "Source: http://r4ds.had.co.nz/tidy-data.html#spreading-and-gathering"
   ]
  },
  {
   "cell_type": "markdown",
   "metadata": {
    "slideshow": {
     "slide_type": "subslide"
    }
   },
   "source": [
    "**Spreding** is the opposite of gathering: it makes long tables shorter and wider\n",
    "\n",
    "\n",
    "\n",
    "```R\n",
    "table2 %>%\n",
    "    spread(key = type, value = count)\n",
    "```\n",
    "\n",
    "    \n",
    "<img src=\"images/spread.png\" style=\"width:80%; float:center\">\n",
    "Source: http://r4ds.had.co.nz/tidy-data.html#spreading-and-gathering"
   ]
  },
  {
   "cell_type": "markdown",
   "metadata": {
    "slideshow": {
     "slide_type": "slide"
    }
   },
   "source": [
    "## Exercises"
   ]
  },
  {
   "cell_type": "markdown",
   "metadata": {},
   "source": [
    "The file “gdp.csv” provides information on the 2014 Gross Domestic Product (GDP) for the US states. "
   ]
  },
  {
   "cell_type": "code",
   "execution_count": 5,
   "metadata": {
    "scrolled": false
   },
   "outputs": [
    {
     "name": "stderr",
     "output_type": "stream",
     "text": [
      "Parsed with column specification:\n",
      "cols(\n",
      "  State = col_character(),\n",
      "  GDP = col_integer()\n",
      ")\n"
     ]
    }
   ],
   "source": [
    "gdp <- read_csv(\"data/T07/gdp.csv\")"
   ]
  },
  {
   "cell_type": "code",
   "execution_count": 6,
   "metadata": {},
   "outputs": [
    {
     "data": {
      "text/html": [
       "<table>\n",
       "<caption>A tibble: 6 × 2</caption>\n",
       "<thead>\n",
       "\t<tr><th scope=col>State</th><th scope=col>GDP</th></tr>\n",
       "\t<tr><th scope=col>&lt;chr&gt;</th><th scope=col>&lt;int&gt;</th></tr>\n",
       "</thead>\n",
       "<tbody>\n",
       "\t<tr><td>District of Columbia</td><td>181185</td></tr>\n",
       "\t<tr><td>Delaware            </td><td> 69930</td></tr>\n",
       "\t<tr><td>Alaska              </td><td> 81801</td></tr>\n",
       "\t<tr><td>North Dakota        </td><td> 70926</td></tr>\n",
       "\t<tr><td>Connecticut         </td><td> 72331</td></tr>\n",
       "\t<tr><td>Wyoming             </td><td> 68536</td></tr>\n",
       "</tbody>\n",
       "</table>\n"
      ],
      "text/latex": [
       "A tibble: 6 × 2\n",
       "\\begin{tabular}{r|ll}\n",
       " State & GDP\\\\\n",
       " <chr> & <int>\\\\\n",
       "\\hline\n",
       "\t District of Columbia & 181185\\\\\n",
       "\t Delaware             &  69930\\\\\n",
       "\t Alaska               &  81801\\\\\n",
       "\t North Dakota         &  70926\\\\\n",
       "\t Connecticut          &  72331\\\\\n",
       "\t Wyoming              &  68536\\\\\n",
       "\\end{tabular}\n"
      ],
      "text/markdown": [
       "\n",
       "A tibble: 6 × 2\n",
       "\n",
       "| State &lt;chr&gt; | GDP &lt;int&gt; |\n",
       "|---|---|\n",
       "| District of Columbia | 181185 |\n",
       "| Delaware             |  69930 |\n",
       "| Alaska               |  81801 |\n",
       "| North Dakota         |  70926 |\n",
       "| Connecticut          |  72331 |\n",
       "| Wyoming              |  68536 |\n",
       "\n"
      ],
      "text/plain": [
       "  State                GDP   \n",
       "1 District of Columbia 181185\n",
       "2 Delaware              69930\n",
       "3 Alaska                81801\n",
       "4 North Dakota          70926\n",
       "5 Connecticut           72331\n",
       "6 Wyoming               68536"
      ]
     },
     "metadata": {},
     "output_type": "display_data"
    }
   ],
   "source": [
    "gdp %>% head()"
   ]
  },
  {
   "cell_type": "markdown",
   "metadata": {
    "slideshow": {
     "slide_type": "subslide"
    }
   },
   "source": [
    "Join the data sets for the year 2014:\n",
    "```R\n",
    "Left join\n",
    "```"
   ]
  },
  {
   "cell_type": "code",
   "execution_count": 7,
   "metadata": {},
   "outputs": [
    {
     "name": "stderr",
     "output_type": "stream",
     "text": [
      "Warning message:\n",
      "\"Column `State` joining factor and character vector, coercing into character vector\""
     ]
    }
   ],
   "source": [
    "homicides %>%\n",
    "        filter(Year == 2014) %>%\n",
    "        left_join(y = gdp, by = \"State\") -> homicides_gdp"
   ]
  },
  {
   "cell_type": "code",
   "execution_count": 8,
   "metadata": {},
   "outputs": [
    {
     "data": {
      "text/html": [
       "<table>\n",
       "<caption>A data.frame: 6 × 25</caption>\n",
       "<thead>\n",
       "\t<tr><th scope=col>Record.ID</th><th scope=col>Agency.Code</th><th scope=col>Agency.Name</th><th scope=col>Agency.Type</th><th scope=col>City</th><th scope=col>State</th><th scope=col>Year</th><th scope=col>Month</th><th scope=col>Incident</th><th scope=col>Crime.Type</th><th scope=col>...</th><th scope=col>Perpetrator.Sex</th><th scope=col>Perpetrator.Age</th><th scope=col>Perpetrator.Race</th><th scope=col>Perpetrator.Ethnicity</th><th scope=col>Relationship</th><th scope=col>Weapon</th><th scope=col>Victim.Count</th><th scope=col>Perpetrator.Count</th><th scope=col>Record.Source</th><th scope=col>GDP</th></tr>\n",
       "\t<tr><th scope=col>&lt;int&gt;</th><th scope=col>&lt;fct&gt;</th><th scope=col>&lt;fct&gt;</th><th scope=col>&lt;fct&gt;</th><th scope=col>&lt;fct&gt;</th><th scope=col>&lt;chr&gt;</th><th scope=col>&lt;int&gt;</th><th scope=col>&lt;fct&gt;</th><th scope=col>&lt;int&gt;</th><th scope=col>&lt;fct&gt;</th><th scope=col>...</th><th scope=col>&lt;fct&gt;</th><th scope=col>&lt;int&gt;</th><th scope=col>&lt;fct&gt;</th><th scope=col>&lt;fct&gt;</th><th scope=col>&lt;fct&gt;</th><th scope=col>&lt;fct&gt;</th><th scope=col>&lt;int&gt;</th><th scope=col>&lt;int&gt;</th><th scope=col>&lt;fct&gt;</th><th scope=col>&lt;int&gt;</th></tr>\n",
       "</thead>\n",
       "<tbody>\n",
       "\t<tr><td>624124</td><td>AK00101</td><td>Anchorage</td><td>Municipal Police</td><td>Anchorage</td><td>Alaska</td><td>2014</td><td>March   </td><td>1</td><td>Murder or Manslaughter    </td><td>...</td><td>Unknown</td><td> 0</td><td>Unknown</td><td>Unknown</td><td>Unknown     </td><td>Firearm</td><td>1</td><td>0</td><td>FBI</td><td>81801</td></tr>\n",
       "\t<tr><td>624125</td><td>AK00101</td><td>Anchorage</td><td>Municipal Police</td><td>Anchorage</td><td>Alaska</td><td>2014</td><td>January </td><td>1</td><td>Murder or Manslaughter    </td><td>...</td><td>Unknown</td><td> 0</td><td>Unknown</td><td>Unknown</td><td>Unknown     </td><td>Firearm</td><td>0</td><td>0</td><td>FBI</td><td>81801</td></tr>\n",
       "\t<tr><td>624126</td><td>AK00101</td><td>Anchorage</td><td>Municipal Police</td><td>Anchorage</td><td>Alaska</td><td>2014</td><td>January </td><td>2</td><td>Manslaughter by Negligence</td><td>...</td><td>Female </td><td>64</td><td>White  </td><td>Unknown</td><td>Unknown     </td><td>Fire   </td><td>0</td><td>0</td><td>FBI</td><td>81801</td></tr>\n",
       "\t<tr><td>624127</td><td>AK00101</td><td>Anchorage</td><td>Municipal Police</td><td>Anchorage</td><td>Alaska</td><td>2014</td><td>February</td><td>1</td><td>Murder or Manslaughter    </td><td>...</td><td>Male   </td><td>19</td><td>White  </td><td>Unknown</td><td>Neighbor    </td><td>Firearm</td><td>0</td><td>0</td><td>FBI</td><td>81801</td></tr>\n",
       "\t<tr><td>624128</td><td>AK00101</td><td>Anchorage</td><td>Municipal Police</td><td>Anchorage</td><td>Alaska</td><td>2014</td><td>March   </td><td>1</td><td>Murder or Manslaughter    </td><td>...</td><td>Unknown</td><td> 0</td><td>Unknown</td><td>Unknown</td><td>Unknown     </td><td>Firearm</td><td>1</td><td>0</td><td>FBI</td><td>81801</td></tr>\n",
       "\t<tr><td>624129</td><td>AK00101</td><td>Anchorage</td><td>Municipal Police</td><td>Anchorage</td><td>Alaska</td><td>2014</td><td>April   </td><td>1</td><td>Murder or Manslaughter    </td><td>...</td><td>Male   </td><td>24</td><td>Black  </td><td>Unknown</td><td>Acquaintance</td><td>Firearm</td><td>0</td><td>2</td><td>FBI</td><td>81801</td></tr>\n",
       "</tbody>\n",
       "</table>\n"
      ],
      "text/latex": [
       "A data.frame: 6 × 25\n",
       "\\begin{tabular}{r|lllllllllllllllllllllllll}\n",
       " Record.ID & Agency.Code & Agency.Name & Agency.Type & City & State & Year & Month & Incident & Crime.Type & Crime.Solved & Victim.Sex & Victim.Age & Victim.Race & Victim.Ethnicity & Perpetrator.Sex & Perpetrator.Age & Perpetrator.Race & Perpetrator.Ethnicity & Relationship & Weapon & Victim.Count & Perpetrator.Count & Record.Source & GDP\\\\\n",
       " <int> & <fct> & <fct> & <fct> & <fct> & <chr> & <int> & <fct> & <int> & <fct> & <fct> & <fct> & <int> & <fct> & <fct> & <fct> & <int> & <fct> & <fct> & <fct> & <fct> & <int> & <int> & <fct> & <int>\\\\\n",
       "\\hline\n",
       "\t 624124 & AK00101 & Anchorage & Municipal Police & Anchorage & Alaska & 2014 & March    & 1 & Murder or Manslaughter     & No  & Female & 47 & Native American/Alaska Native & Unknown & Unknown &  0 & Unknown & Unknown & Unknown      & Firearm & 1 & 0 & FBI & 81801\\\\\n",
       "\t 624125 & AK00101 & Anchorage & Municipal Police & Anchorage & Alaska & 2014 & January  & 1 & Murder or Manslaughter     & No  & Male   & 31 & White                         & Unknown & Unknown &  0 & Unknown & Unknown & Unknown      & Firearm & 0 & 0 & FBI & 81801\\\\\n",
       "\t 624126 & AK00101 & Anchorage & Municipal Police & Anchorage & Alaska & 2014 & January  & 2 & Manslaughter by Negligence & Yes & Male   & 55 & White                         & Unknown & Female  & 64 & White   & Unknown & Unknown      & Fire    & 0 & 0 & FBI & 81801\\\\\n",
       "\t 624127 & AK00101 & Anchorage & Municipal Police & Anchorage & Alaska & 2014 & February & 1 & Murder or Manslaughter     & Yes & Male   & 22 & Black                         & Unknown & Male    & 19 & White   & Unknown & Neighbor     & Firearm & 0 & 0 & FBI & 81801\\\\\n",
       "\t 624128 & AK00101 & Anchorage & Municipal Police & Anchorage & Alaska & 2014 & March    & 1 & Murder or Manslaughter     & No  & Male   & 55 & Native American/Alaska Native & Unknown & Unknown &  0 & Unknown & Unknown & Unknown      & Firearm & 1 & 0 & FBI & 81801\\\\\n",
       "\t 624129 & AK00101 & Anchorage & Municipal Police & Anchorage & Alaska & 2014 & April    & 1 & Murder or Manslaughter     & Yes & Female & 15 & Black                         & Unknown & Male    & 24 & Black   & Unknown & Acquaintance & Firearm & 0 & 2 & FBI & 81801\\\\\n",
       "\\end{tabular}\n"
      ],
      "text/markdown": [
       "\n",
       "A data.frame: 6 × 25\n",
       "\n",
       "| Record.ID &lt;int&gt; | Agency.Code &lt;fct&gt; | Agency.Name &lt;fct&gt; | Agency.Type &lt;fct&gt; | City &lt;fct&gt; | State &lt;chr&gt; | Year &lt;int&gt; | Month &lt;fct&gt; | Incident &lt;int&gt; | Crime.Type &lt;fct&gt; | ... ... | Perpetrator.Sex &lt;fct&gt; | Perpetrator.Age &lt;int&gt; | Perpetrator.Race &lt;fct&gt; | Perpetrator.Ethnicity &lt;fct&gt; | Relationship &lt;fct&gt; | Weapon &lt;fct&gt; | Victim.Count &lt;int&gt; | Perpetrator.Count &lt;int&gt; | Record.Source &lt;fct&gt; | GDP &lt;int&gt; |\n",
       "|---|---|---|---|---|---|---|---|---|---|---|---|---|---|---|---|---|---|---|---|---|\n",
       "| 624124 | AK00101 | Anchorage | Municipal Police | Anchorage | Alaska | 2014 | March    | 1 | Murder or Manslaughter     | ... | Unknown |  0 | Unknown | Unknown | Unknown      | Firearm | 1 | 0 | FBI | 81801 |\n",
       "| 624125 | AK00101 | Anchorage | Municipal Police | Anchorage | Alaska | 2014 | January  | 1 | Murder or Manslaughter     | ... | Unknown |  0 | Unknown | Unknown | Unknown      | Firearm | 0 | 0 | FBI | 81801 |\n",
       "| 624126 | AK00101 | Anchorage | Municipal Police | Anchorage | Alaska | 2014 | January  | 2 | Manslaughter by Negligence | ... | Female  | 64 | White   | Unknown | Unknown      | Fire    | 0 | 0 | FBI | 81801 |\n",
       "| 624127 | AK00101 | Anchorage | Municipal Police | Anchorage | Alaska | 2014 | February | 1 | Murder or Manslaughter     | ... | Male    | 19 | White   | Unknown | Neighbor     | Firearm | 0 | 0 | FBI | 81801 |\n",
       "| 624128 | AK00101 | Anchorage | Municipal Police | Anchorage | Alaska | 2014 | March    | 1 | Murder or Manslaughter     | ... | Unknown |  0 | Unknown | Unknown | Unknown      | Firearm | 1 | 0 | FBI | 81801 |\n",
       "| 624129 | AK00101 | Anchorage | Municipal Police | Anchorage | Alaska | 2014 | April    | 1 | Murder or Manslaughter     | ... | Male    | 24 | Black   | Unknown | Acquaintance | Firearm | 0 | 2 | FBI | 81801 |\n",
       "\n"
      ],
      "text/plain": [
       "  Record.ID Agency.Code Agency.Name Agency.Type      City      State  Year\n",
       "1 624124    AK00101     Anchorage   Municipal Police Anchorage Alaska 2014\n",
       "2 624125    AK00101     Anchorage   Municipal Police Anchorage Alaska 2014\n",
       "3 624126    AK00101     Anchorage   Municipal Police Anchorage Alaska 2014\n",
       "4 624127    AK00101     Anchorage   Municipal Police Anchorage Alaska 2014\n",
       "5 624128    AK00101     Anchorage   Municipal Police Anchorage Alaska 2014\n",
       "6 624129    AK00101     Anchorage   Municipal Police Anchorage Alaska 2014\n",
       "  Month    Incident Crime.Type                 ... Perpetrator.Sex\n",
       "1 March    1        Murder or Manslaughter     ... Unknown        \n",
       "2 January  1        Murder or Manslaughter     ... Unknown        \n",
       "3 January  2        Manslaughter by Negligence ... Female         \n",
       "4 February 1        Murder or Manslaughter     ... Male           \n",
       "5 March    1        Murder or Manslaughter     ... Unknown        \n",
       "6 April    1        Murder or Manslaughter     ... Male           \n",
       "  Perpetrator.Age Perpetrator.Race Perpetrator.Ethnicity Relationship Weapon \n",
       "1  0              Unknown          Unknown               Unknown      Firearm\n",
       "2  0              Unknown          Unknown               Unknown      Firearm\n",
       "3 64              White            Unknown               Unknown      Fire   \n",
       "4 19              White            Unknown               Neighbor     Firearm\n",
       "5  0              Unknown          Unknown               Unknown      Firearm\n",
       "6 24              Black            Unknown               Acquaintance Firearm\n",
       "  Victim.Count Perpetrator.Count Record.Source GDP  \n",
       "1 1            0                 FBI           81801\n",
       "2 0            0                 FBI           81801\n",
       "3 0            0                 FBI           81801\n",
       "4 0            0                 FBI           81801\n",
       "5 1            0                 FBI           81801\n",
       "6 0            2                 FBI           81801"
      ]
     },
     "metadata": {},
     "output_type": "display_data"
    }
   ],
   "source": [
    "homicides_gdp %>% head()"
   ]
  },
  {
   "cell_type": "markdown",
   "metadata": {
    "slideshow": {
     "slide_type": "subslide"
    }
   },
   "source": [
    "Summarize the new data set to report the mean GDP for each category of weapons used. "
   ]
  },
  {
   "cell_type": "code",
   "execution_count": 9,
   "metadata": {},
   "outputs": [
    {
     "data": {
      "text/html": [
       "<table>\n",
       "<caption>A tibble: 16 × 2</caption>\n",
       "<thead>\n",
       "\t<tr><th scope=col>Weapon</th><th scope=col>AvgGDP</th></tr>\n",
       "\t<tr><th scope=col>&lt;fct&gt;</th><th scope=col>&lt;dbl&gt;</th></tr>\n",
       "</thead>\n",
       "<tbody>\n",
       "\t<tr><td>Blunt Object </td><td>55033.23</td></tr>\n",
       "\t<tr><td>Drowning     </td><td>54051.75</td></tr>\n",
       "\t<tr><td>Drugs        </td><td>53913.84</td></tr>\n",
       "\t<tr><td>Explosives   </td><td>57316.12</td></tr>\n",
       "\t<tr><td>Fall         </td><td>55189.67</td></tr>\n",
       "\t<tr><td>Fire         </td><td>52954.75</td></tr>\n",
       "\t<tr><td>Firearm      </td><td>54711.06</td></tr>\n",
       "\t<tr><td>Gun          </td><td>55770.31</td></tr>\n",
       "\t<tr><td>Handgun      </td><td>54944.68</td></tr>\n",
       "\t<tr><td>Knife        </td><td>56735.35</td></tr>\n",
       "\t<tr><td>Poison       </td><td>55233.50</td></tr>\n",
       "\t<tr><td>Rifle        </td><td>52448.24</td></tr>\n",
       "\t<tr><td>Shotgun      </td><td>54401.05</td></tr>\n",
       "\t<tr><td>Strangulation</td><td>58864.04</td></tr>\n",
       "\t<tr><td>Suffocation  </td><td>59004.09</td></tr>\n",
       "\t<tr><td>Unknown      </td><td>52313.70</td></tr>\n",
       "</tbody>\n",
       "</table>\n"
      ],
      "text/latex": [
       "A tibble: 16 × 2\n",
       "\\begin{tabular}{r|ll}\n",
       " Weapon & AvgGDP\\\\\n",
       " <fct> & <dbl>\\\\\n",
       "\\hline\n",
       "\t Blunt Object  & 55033.23\\\\\n",
       "\t Drowning      & 54051.75\\\\\n",
       "\t Drugs         & 53913.84\\\\\n",
       "\t Explosives    & 57316.12\\\\\n",
       "\t Fall          & 55189.67\\\\\n",
       "\t Fire          & 52954.75\\\\\n",
       "\t Firearm       & 54711.06\\\\\n",
       "\t Gun           & 55770.31\\\\\n",
       "\t Handgun       & 54944.68\\\\\n",
       "\t Knife         & 56735.35\\\\\n",
       "\t Poison        & 55233.50\\\\\n",
       "\t Rifle         & 52448.24\\\\\n",
       "\t Shotgun       & 54401.05\\\\\n",
       "\t Strangulation & 58864.04\\\\\n",
       "\t Suffocation   & 59004.09\\\\\n",
       "\t Unknown       & 52313.70\\\\\n",
       "\\end{tabular}\n"
      ],
      "text/markdown": [
       "\n",
       "A tibble: 16 × 2\n",
       "\n",
       "| Weapon &lt;fct&gt; | AvgGDP &lt;dbl&gt; |\n",
       "|---|---|\n",
       "| Blunt Object  | 55033.23 |\n",
       "| Drowning      | 54051.75 |\n",
       "| Drugs         | 53913.84 |\n",
       "| Explosives    | 57316.12 |\n",
       "| Fall          | 55189.67 |\n",
       "| Fire          | 52954.75 |\n",
       "| Firearm       | 54711.06 |\n",
       "| Gun           | 55770.31 |\n",
       "| Handgun       | 54944.68 |\n",
       "| Knife         | 56735.35 |\n",
       "| Poison        | 55233.50 |\n",
       "| Rifle         | 52448.24 |\n",
       "| Shotgun       | 54401.05 |\n",
       "| Strangulation | 58864.04 |\n",
       "| Suffocation   | 59004.09 |\n",
       "| Unknown       | 52313.70 |\n",
       "\n"
      ],
      "text/plain": [
       "   Weapon        AvgGDP  \n",
       "1  Blunt Object  55033.23\n",
       "2  Drowning      54051.75\n",
       "3  Drugs         53913.84\n",
       "4  Explosives    57316.12\n",
       "5  Fall          55189.67\n",
       "6  Fire          52954.75\n",
       "7  Firearm       54711.06\n",
       "8  Gun           55770.31\n",
       "9  Handgun       54944.68\n",
       "10 Knife         56735.35\n",
       "11 Poison        55233.50\n",
       "12 Rifle         52448.24\n",
       "13 Shotgun       54401.05\n",
       "14 Strangulation 58864.04\n",
       "15 Suffocation   59004.09\n",
       "16 Unknown       52313.70"
      ]
     },
     "metadata": {},
     "output_type": "display_data"
    }
   ],
   "source": [
    "homicides_gdp %>%\n",
    "        group_by(Weapon) %>%\n",
    "        summarise(AvgGDP = mean(GDP))"
   ]
  },
  {
   "cell_type": "markdown",
   "metadata": {
    "slideshow": {
     "slide_type": "subslide"
    }
   },
   "source": [
    "Create a new variable indicating if a homicide occurred in a state with above median GDP. Which half recorded more homicides in 2014?"
   ]
  },
  {
   "cell_type": "code",
   "execution_count": 10,
   "metadata": {},
   "outputs": [
    {
     "data": {
      "text/html": [
       "<table>\n",
       "<caption>A tibble: 2 × 2</caption>\n",
       "<thead>\n",
       "\t<tr><th scope=col>Wealth</th><th scope=col>Count</th></tr>\n",
       "\t<tr><th scope=col>&lt;chr&gt;</th><th scope=col>&lt;int&gt;</th></tr>\n",
       "</thead>\n",
       "<tbody>\n",
       "\t<tr><td>poor</td><td>5941</td></tr>\n",
       "\t<tr><td>rich</td><td>8390</td></tr>\n",
       "</tbody>\n",
       "</table>\n"
      ],
      "text/latex": [
       "A tibble: 2 × 2\n",
       "\\begin{tabular}{r|ll}\n",
       " Wealth & Count\\\\\n",
       " <chr> & <int>\\\\\n",
       "\\hline\n",
       "\t poor & 5941\\\\\n",
       "\t rich & 8390\\\\\n",
       "\\end{tabular}\n"
      ],
      "text/markdown": [
       "\n",
       "A tibble: 2 × 2\n",
       "\n",
       "| Wealth &lt;chr&gt; | Count &lt;int&gt; |\n",
       "|---|---|\n",
       "| poor | 5941 |\n",
       "| rich | 8390 |\n",
       "\n"
      ],
      "text/plain": [
       "  Wealth Count\n",
       "1 poor   5941 \n",
       "2 rich   8390 "
      ]
     },
     "metadata": {},
     "output_type": "display_data"
    }
   ],
   "source": [
    "homicides_gdp %>%\n",
    "        mutate(Wealth = if_else(GDP > median(gdp$GDP), \"rich\", \"poor\")) %>%\n",
    "        group_by(Wealth) %>%\n",
    "        summarise(Count = n())"
   ]
  },
  {
   "cell_type": "markdown",
   "metadata": {
    "slideshow": {
     "slide_type": "subslide"
    }
   },
   "source": [
    "For each state, we calculate the average for each month of the year for the Perpetrator and the Victim Age."
   ]
  },
  {
   "cell_type": "code",
   "execution_count": 11,
   "metadata": {},
   "outputs": [
    {
     "data": {
      "text/html": [
       "<table>\n",
       "<caption>A grouped_df: 6 × 5</caption>\n",
       "<thead>\n",
       "\t<tr><th scope=col>State</th><th scope=col>Year</th><th scope=col>Month</th><th scope=col>Perpetrator.Age.mean</th><th scope=col>Victim.Age.mean</th></tr>\n",
       "\t<tr><th scope=col>&lt;chr&gt;</th><th scope=col>&lt;int&gt;</th><th scope=col>&lt;fct&gt;</th><th scope=col>&lt;dbl&gt;</th><th scope=col>&lt;dbl&gt;</th></tr>\n",
       "</thead>\n",
       "<tbody>\n",
       "\t<tr><td>Alabama</td><td>2014</td><td>June    </td><td>29.00000</td><td>29.00000</td></tr>\n",
       "\t<tr><td>Alaska </td><td>2014</td><td>April   </td><td>28.66667</td><td>25.33333</td></tr>\n",
       "\t<tr><td>Alaska </td><td>2014</td><td>August  </td><td>29.66667</td><td>44.33333</td></tr>\n",
       "\t<tr><td>Alaska </td><td>2014</td><td>December</td><td>36.50000</td><td>38.25000</td></tr>\n",
       "\t<tr><td>Alaska </td><td>2014</td><td>February</td><td>17.00000</td><td>37.50000</td></tr>\n",
       "\t<tr><td>Alaska </td><td>2014</td><td>January </td><td>24.50000</td><td>43.75000</td></tr>\n",
       "</tbody>\n",
       "</table>\n"
      ],
      "text/latex": [
       "A grouped_df: 6 × 5\n",
       "\\begin{tabular}{r|lllll}\n",
       " State & Year & Month & Perpetrator.Age.mean & Victim.Age.mean\\\\\n",
       " <chr> & <int> & <fct> & <dbl> & <dbl>\\\\\n",
       "\\hline\n",
       "\t Alabama & 2014 & June     & 29.00000 & 29.00000\\\\\n",
       "\t Alaska  & 2014 & April    & 28.66667 & 25.33333\\\\\n",
       "\t Alaska  & 2014 & August   & 29.66667 & 44.33333\\\\\n",
       "\t Alaska  & 2014 & December & 36.50000 & 38.25000\\\\\n",
       "\t Alaska  & 2014 & February & 17.00000 & 37.50000\\\\\n",
       "\t Alaska  & 2014 & January  & 24.50000 & 43.75000\\\\\n",
       "\\end{tabular}\n"
      ],
      "text/markdown": [
       "\n",
       "A grouped_df: 6 × 5\n",
       "\n",
       "| State &lt;chr&gt; | Year &lt;int&gt; | Month &lt;fct&gt; | Perpetrator.Age.mean &lt;dbl&gt; | Victim.Age.mean &lt;dbl&gt; |\n",
       "|---|---|---|---|---|\n",
       "| Alabama | 2014 | June     | 29.00000 | 29.00000 |\n",
       "| Alaska  | 2014 | April    | 28.66667 | 25.33333 |\n",
       "| Alaska  | 2014 | August   | 29.66667 | 44.33333 |\n",
       "| Alaska  | 2014 | December | 36.50000 | 38.25000 |\n",
       "| Alaska  | 2014 | February | 17.00000 | 37.50000 |\n",
       "| Alaska  | 2014 | January  | 24.50000 | 43.75000 |\n",
       "\n"
      ],
      "text/plain": [
       "  State   Year Month    Perpetrator.Age.mean Victim.Age.mean\n",
       "1 Alabama 2014 June     29.00000             29.00000       \n",
       "2 Alaska  2014 April    28.66667             25.33333       \n",
       "3 Alaska  2014 August   29.66667             44.33333       \n",
       "4 Alaska  2014 December 36.50000             38.25000       \n",
       "5 Alaska  2014 February 17.00000             37.50000       \n",
       "6 Alaska  2014 January  24.50000             43.75000       "
      ]
     },
     "metadata": {},
     "output_type": "display_data"
    }
   ],
   "source": [
    "homicides_gdp %>% \n",
    "    group_by(State, Year, Month) %>%\n",
    "    summarise(Perpetrator.Age.mean=mean(Perpetrator.Age), Victim.Age.mean=mean(Victim.Age)) -> homicides_mean\n",
    "\n",
    "homicides_mean %>%\n",
    "    head()"
   ]
  },
  {
   "cell_type": "markdown",
   "metadata": {
    "slideshow": {
     "slide_type": "subslide"
    }
   },
   "source": [
    "Select the variables *State*, *Year*, *Month*, *Perpetrator.Age.mean*, *Victim.Age.mean* and create a long format table with the keys *Perpetrator.Age.mean* and *Victim.Age.mean*."
   ]
  },
  {
   "cell_type": "code",
   "execution_count": 12,
   "metadata": {},
   "outputs": [],
   "source": [
    "homicides_mean %>% \n",
    "        select(State, Year, Month, Perpetrator.Age.mean, Victim.Age.mean) %>%\n",
    "        gather(key = \"key\", value = \"value\", -State, -Year, -Month) -> df_long"
   ]
  },
  {
   "cell_type": "code",
   "execution_count": 13,
   "metadata": {},
   "outputs": [
    {
     "data": {
      "text/html": [
       "<table>\n",
       "<caption>A grouped_df: 3 × 5</caption>\n",
       "<thead>\n",
       "\t<tr><th scope=col>State</th><th scope=col>Year</th><th scope=col>Month</th><th scope=col>key</th><th scope=col>value</th></tr>\n",
       "\t<tr><th scope=col>&lt;chr&gt;</th><th scope=col>&lt;int&gt;</th><th scope=col>&lt;fct&gt;</th><th scope=col>&lt;chr&gt;</th><th scope=col>&lt;dbl&gt;</th></tr>\n",
       "</thead>\n",
       "<tbody>\n",
       "\t<tr><td>Alabama</td><td>2014</td><td>June  </td><td>Perpetrator.Age.mean</td><td>29.00000</td></tr>\n",
       "\t<tr><td>Alaska </td><td>2014</td><td>April </td><td>Perpetrator.Age.mean</td><td>28.66667</td></tr>\n",
       "\t<tr><td>Alaska </td><td>2014</td><td>August</td><td>Perpetrator.Age.mean</td><td>29.66667</td></tr>\n",
       "</tbody>\n",
       "</table>\n"
      ],
      "text/latex": [
       "A grouped_df: 3 × 5\n",
       "\\begin{tabular}{r|lllll}\n",
       " State & Year & Month & key & value\\\\\n",
       " <chr> & <int> & <fct> & <chr> & <dbl>\\\\\n",
       "\\hline\n",
       "\t Alabama & 2014 & June   & Perpetrator.Age.mean & 29.00000\\\\\n",
       "\t Alaska  & 2014 & April  & Perpetrator.Age.mean & 28.66667\\\\\n",
       "\t Alaska  & 2014 & August & Perpetrator.Age.mean & 29.66667\\\\\n",
       "\\end{tabular}\n"
      ],
      "text/markdown": [
       "\n",
       "A grouped_df: 3 × 5\n",
       "\n",
       "| State &lt;chr&gt; | Year &lt;int&gt; | Month &lt;fct&gt; | key &lt;chr&gt; | value &lt;dbl&gt; |\n",
       "|---|---|---|---|---|\n",
       "| Alabama | 2014 | June   | Perpetrator.Age.mean | 29.00000 |\n",
       "| Alaska  | 2014 | April  | Perpetrator.Age.mean | 28.66667 |\n",
       "| Alaska  | 2014 | August | Perpetrator.Age.mean | 29.66667 |\n",
       "\n"
      ],
      "text/plain": [
       "  State   Year Month  key                  value   \n",
       "1 Alabama 2014 June   Perpetrator.Age.mean 29.00000\n",
       "2 Alaska  2014 April  Perpetrator.Age.mean 28.66667\n",
       "3 Alaska  2014 August Perpetrator.Age.mean 29.66667"
      ]
     },
     "metadata": {},
     "output_type": "display_data"
    }
   ],
   "source": [
    "df_long %>% head(3)"
   ]
  },
  {
   "cell_type": "code",
   "execution_count": 14,
   "metadata": {
    "scrolled": false
   },
   "outputs": [
    {
     "data": {
      "text/html": [
       "<table>\n",
       "<caption>A grouped_df: 3 × 5</caption>\n",
       "<thead>\n",
       "\t<tr><th scope=col>State</th><th scope=col>Year</th><th scope=col>Month</th><th scope=col>key</th><th scope=col>value</th></tr>\n",
       "\t<tr><th scope=col>&lt;chr&gt;</th><th scope=col>&lt;int&gt;</th><th scope=col>&lt;fct&gt;</th><th scope=col>&lt;chr&gt;</th><th scope=col>&lt;dbl&gt;</th></tr>\n",
       "</thead>\n",
       "<tbody>\n",
       "\t<tr><td>Wyoming</td><td>2014</td><td>November </td><td>Victim.Age.mean</td><td>21.00000</td></tr>\n",
       "\t<tr><td>Wyoming</td><td>2014</td><td>October  </td><td>Victim.Age.mean</td><td>19.00000</td></tr>\n",
       "\t<tr><td>Wyoming</td><td>2014</td><td>September</td><td>Victim.Age.mean</td><td>25.33333</td></tr>\n",
       "</tbody>\n",
       "</table>\n"
      ],
      "text/latex": [
       "A grouped_df: 3 × 5\n",
       "\\begin{tabular}{r|lllll}\n",
       " State & Year & Month & key & value\\\\\n",
       " <chr> & <int> & <fct> & <chr> & <dbl>\\\\\n",
       "\\hline\n",
       "\t Wyoming & 2014 & November  & Victim.Age.mean & 21.00000\\\\\n",
       "\t Wyoming & 2014 & October   & Victim.Age.mean & 19.00000\\\\\n",
       "\t Wyoming & 2014 & September & Victim.Age.mean & 25.33333\\\\\n",
       "\\end{tabular}\n"
      ],
      "text/markdown": [
       "\n",
       "A grouped_df: 3 × 5\n",
       "\n",
       "| State &lt;chr&gt; | Year &lt;int&gt; | Month &lt;fct&gt; | key &lt;chr&gt; | value &lt;dbl&gt; |\n",
       "|---|---|---|---|---|\n",
       "| Wyoming | 2014 | November  | Victim.Age.mean | 21.00000 |\n",
       "| Wyoming | 2014 | October   | Victim.Age.mean | 19.00000 |\n",
       "| Wyoming | 2014 | September | Victim.Age.mean | 25.33333 |\n",
       "\n"
      ],
      "text/plain": [
       "  State   Year Month     key             value   \n",
       "1 Wyoming 2014 November  Victim.Age.mean 21.00000\n",
       "2 Wyoming 2014 October   Victim.Age.mean 19.00000\n",
       "3 Wyoming 2014 September Victim.Age.mean 25.33333"
      ]
     },
     "metadata": {},
     "output_type": "display_data"
    }
   ],
   "source": [
    "df_long %>% tail(3)"
   ]
  },
  {
   "cell_type": "markdown",
   "metadata": {
    "slideshow": {
     "slide_type": "subslide"
    }
   },
   "source": [
    "Put the long format table in a format that complies with the tidy dateset rules.\n",
    "Why do we still need both kinds of representations?"
   ]
  },
  {
   "cell_type": "code",
   "execution_count": 15,
   "metadata": {
    "scrolled": true
   },
   "outputs": [],
   "source": [
    "df_long %>%\n",
    "    spread(key,value) -> df_wide"
   ]
  },
  {
   "cell_type": "code",
   "execution_count": 16,
   "metadata": {},
   "outputs": [
    {
     "data": {
      "text/html": [
       "<table>\n",
       "<caption>A grouped_df: 3 × 5</caption>\n",
       "<thead>\n",
       "\t<tr><th scope=col>State</th><th scope=col>Year</th><th scope=col>Month</th><th scope=col>Perpetrator.Age.mean</th><th scope=col>Victim.Age.mean</th></tr>\n",
       "\t<tr><th scope=col>&lt;chr&gt;</th><th scope=col>&lt;int&gt;</th><th scope=col>&lt;fct&gt;</th><th scope=col>&lt;dbl&gt;</th><th scope=col>&lt;dbl&gt;</th></tr>\n",
       "</thead>\n",
       "<tbody>\n",
       "\t<tr><td>Alabama</td><td>2014</td><td>June  </td><td>29.00000</td><td>29.00000</td></tr>\n",
       "\t<tr><td>Alaska </td><td>2014</td><td>April </td><td>28.66667</td><td>25.33333</td></tr>\n",
       "\t<tr><td>Alaska </td><td>2014</td><td>August</td><td>29.66667</td><td>44.33333</td></tr>\n",
       "</tbody>\n",
       "</table>\n"
      ],
      "text/latex": [
       "A grouped_df: 3 × 5\n",
       "\\begin{tabular}{r|lllll}\n",
       " State & Year & Month & Perpetrator.Age.mean & Victim.Age.mean\\\\\n",
       " <chr> & <int> & <fct> & <dbl> & <dbl>\\\\\n",
       "\\hline\n",
       "\t Alabama & 2014 & June   & 29.00000 & 29.00000\\\\\n",
       "\t Alaska  & 2014 & April  & 28.66667 & 25.33333\\\\\n",
       "\t Alaska  & 2014 & August & 29.66667 & 44.33333\\\\\n",
       "\\end{tabular}\n"
      ],
      "text/markdown": [
       "\n",
       "A grouped_df: 3 × 5\n",
       "\n",
       "| State &lt;chr&gt; | Year &lt;int&gt; | Month &lt;fct&gt; | Perpetrator.Age.mean &lt;dbl&gt; | Victim.Age.mean &lt;dbl&gt; |\n",
       "|---|---|---|---|---|\n",
       "| Alabama | 2014 | June   | 29.00000 | 29.00000 |\n",
       "| Alaska  | 2014 | April  | 28.66667 | 25.33333 |\n",
       "| Alaska  | 2014 | August | 29.66667 | 44.33333 |\n",
       "\n"
      ],
      "text/plain": [
       "  State   Year Month  Perpetrator.Age.mean Victim.Age.mean\n",
       "1 Alabama 2014 June   29.00000             29.00000       \n",
       "2 Alaska  2014 April  28.66667             25.33333       \n",
       "3 Alaska  2014 August 29.66667             44.33333       "
      ]
     },
     "metadata": {},
     "output_type": "display_data"
    }
   ],
   "source": [
    "df_wide %>% head(3)"
   ]
  },
  {
   "cell_type": "markdown",
   "metadata": {
    "slideshow": {
     "slide_type": "slide"
    }
   },
   "source": [
    "## Visualization"
   ]
  },
  {
   "cell_type": "markdown",
   "metadata": {},
   "source": [
    "<img src=\"images/taxonomy_of_plots.png\" style=\"width:80%; float:center\">"
   ]
  },
  {
   "cell_type": "markdown",
   "metadata": {
    "slideshow": {
     "slide_type": "subslide"
    }
   },
   "source": [
    "#### Histograms\n",
    "What is the distribution of homicides over the used Weapons?"
   ]
  },
  {
   "cell_type": "code",
   "execution_count": 17,
   "metadata": {},
   "outputs": [
    {
     "data": {
      "image/png": "[encoded data removed]",
      "text/plain": [
       "plot without title"
      ]
     },
     "metadata": {},
     "output_type": "display_data"
    }
   ],
   "source": [
    "options(repr.plot.width=6, repr.plot.height=3)\n",
    "\n",
    "homicides %>%\n",
    "    group_by(Year, Weapon) %>%\n",
    "    summarise(Count = n()) %>%\n",
    "    ggplot(aes(x=as.factor(Weapon), y=Count)) +\n",
    "    geom_col() +\n",
    "    coord_flip()"
   ]
  },
  {
   "cell_type": "markdown",
   "metadata": {
    "slideshow": {
     "slide_type": "subslide"
    }
   },
   "source": [
    "#### Boxplot and Violin Plots\n",
    "What is the distribution of homicides over the used Weapons over the years?"
   ]
  },
  {
   "cell_type": "code",
   "execution_count": 18,
   "metadata": {},
   "outputs": [
    {
     "data": {
      "image/png": "[encoded data removed]",
      "text/plain": [
       "plot without title"
      ]
     },
     "metadata": {},
     "output_type": "display_data"
    }
   ],
   "source": [
    "options(repr.plot.width=6, repr.plot.height=3)\n",
    "\n",
    "homicides %>%\n",
    "        group_by(Year, Weapon) %>%\n",
    "        summarise(Count = n()) %>%\n",
    "        ggplot(aes(x=as.factor(Weapon), y=Count)) + \n",
    "        geom_boxplot() +\n",
    "        coord_flip()"
   ]
  },
  {
   "cell_type": "markdown",
   "metadata": {
    "slideshow": {
     "slide_type": "subslide"
    }
   },
   "source": [
    "#### Stacked Bar Chart\n",
    "\n",
    "Visualize the composition of total homicides in terms of solved and unsolved homicides for each year."
   ]
  },
  {
   "cell_type": "code",
   "execution_count": 19,
   "metadata": {},
   "outputs": [
    {
     "data": {
      "image/png": "[encoded data removed]",
      "text/plain": [
       "plot without title"
      ]
     },
     "metadata": {},
     "output_type": "display_data"
    }
   ],
   "source": [
    "options(repr.plot.width=6, repr.plot.height=3)\n",
    "\n",
    "homicides %>%\n",
    "        ggplot(aes(x=Year)) +\n",
    "        geom_bar(aes(fill=Crime.Solved))"
   ]
  },
  {
   "cell_type": "markdown",
   "metadata": {
    "slideshow": {
     "slide_type": "subslide"
    }
   },
   "source": [
    "#### Bars and Columns\n",
    "\n",
    "Visualize the number of solved and unsolved homicides for each year with separate bars."
   ]
  },
  {
   "cell_type": "code",
   "execution_count": 20,
   "metadata": {
    "scrolled": false
   },
   "outputs": [
    {
     "data": {
      "image/png": "[encoded data removed]",
      "text/plain": [
       "plot without title"
      ]
     },
     "metadata": {},
     "output_type": "display_data"
    }
   ],
   "source": [
    "options(repr.plot.width=6, repr.plot.height=3)\n",
    "\n",
    "homicides %>%\n",
    "        ggplot(aes(x=Year)) +\n",
    "        geom_bar(aes(fill=Crime.Solved), position = \"dodge\")"
   ]
  },
  {
   "cell_type": "markdown",
   "metadata": {
    "slideshow": {
     "slide_type": "subslide"
    }
   },
   "source": [
    "#### Scatter chart\n",
    "Investigate the relationship between *Perpetrator.Age* and *Victim.Age* for New York and each year."
   ]
  },
  {
   "cell_type": "code",
   "execution_count": 21,
   "metadata": {
    "scrolled": false
   },
   "outputs": [
    {
     "data": {
      "image/png": "[encoded data removed]",
      "text/plain": [
       "plot without title"
      ]
     },
     "metadata": {},
     "output_type": "display_data"
    }
   ],
   "source": [
    "options(repr.plot.width=6, repr.plot.height=3)\n",
    "\n",
    "homicides%>%\n",
    "    filter(State=='New York') %>%\n",
    "    filter(Victim.Age<100, Victim.Age>0, Perpetrator.Age<100, Perpetrator.Age>0 ) %>%\n",
    "    ggplot() +\n",
    "    geom_point(aes(x=Perpetrator.Age, y=Victim.Age)) +\n",
    "    facet_wrap(~Year)"
   ]
  },
  {
   "cell_type": "markdown",
   "metadata": {
    "slideshow": {
     "slide_type": "subslide"
    }
   },
   "source": [
    "#### Line chart\n",
    "Show the relationship between the year and the number of solved homicides."
   ]
  },
  {
   "cell_type": "code",
   "execution_count": 22,
   "metadata": {
    "scrolled": false
   },
   "outputs": [
    {
     "data": {
      "image/png": "[encoded data removed]",
      "text/plain": [
       "plot without title"
      ]
     },
     "metadata": {},
     "output_type": "display_data"
    }
   ],
   "source": [
    "options(repr.plot.width=6, repr.plot.height=3)\n",
    "\n",
    "homicides %>%\n",
    "    group_by(Year) %>%\n",
    "    filter(Crime.Solved=='Yes') %>%\n",
    "    mutate(Count = n()) %>%\n",
    "    ggplot(aes(x=Year)) +\n",
    "    geom_line(aes(y=Count))"
   ]
  }
 ],
 "metadata": {
  "celltoolbar": "Slideshow",
  "kernelspec": {
   "display_name": "R",
   "language": "R",
   "name": "ir"
  },
  "language_info": {
   "codemirror_mode": "r",
   "file_extension": ".r",
   "mimetype": "text/x-r-source",
   "name": "R",
   "pygments_lexer": "r",
   "version": "3.5.1"
  }
 },
 "nbformat": 4,
 "nbformat_minor": 2
}
