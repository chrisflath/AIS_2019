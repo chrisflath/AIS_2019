{
 "cells": [
  {
   "cell_type": "markdown",
   "metadata": {
    "slideshow": {
     "slide_type": "slide"
    }
   },
   "source": [
    "*Managerial Problem Solving*\n",
    "\n",
    "# Tutorial 6 - Statistical Programming with R\n",
    "\n",
    "Toni Greif<br>\n",
    "Lehrstuhl für Wirtschaftsinformatik und Informationsmanagement\n",
    "\n",
    "SS 2019"
   ]
  },
  {
   "cell_type": "markdown",
   "metadata": {
    "slideshow": {
     "slide_type": "subslide"
    }
   },
   "source": [
    "## 1 Basics\n",
    "\n",
    "### R packages\n",
    "packages\n",
    "Packages are collections of R functions, data, and compiled code in a well-defined format. Numerous packages are available for download and installation.\n",
    "Example for installing and loading the “tidyverse” package (includes most packages we will need in the first weeks):"
   ]
  },
  {
   "cell_type": "code",
   "execution_count": 1,
   "metadata": {},
   "outputs": [
    {
     "name": "stderr",
     "output_type": "stream",
     "text": [
      "Warning message:\n",
      "\"package 'tidyverse' was built under R version 3.5.3\"-- \u001b[1mAttaching packages\u001b[22m --------------------------------------- tidyverse 1.2.1 --\n",
      "\u001b[32mv\u001b[39m \u001b[34mggplot2\u001b[39m 3.1.0     \u001b[32mv\u001b[39m \u001b[34mpurrr  \u001b[39m 0.2.5\n",
      "\u001b[32mv\u001b[39m \u001b[34mtibble \u001b[39m 2.1.1     \u001b[32mv\u001b[39m \u001b[34mdplyr  \u001b[39m 0.8.1\n",
      "\u001b[32mv\u001b[39m \u001b[34mtidyr  \u001b[39m 0.8.2     \u001b[32mv\u001b[39m \u001b[34mstringr\u001b[39m 1.3.1\n",
      "\u001b[32mv\u001b[39m \u001b[34mreadr  \u001b[39m 1.1.1     \u001b[32mv\u001b[39m \u001b[34mforcats\u001b[39m 0.3.0\n",
      "Warning message:\n",
      "\"package 'tibble' was built under R version 3.5.3\"Warning message:\n",
      "\"package 'dplyr' was built under R version 3.5.3\"-- \u001b[1mConflicts\u001b[22m ------------------------------------------ tidyverse_conflicts() --\n",
      "\u001b[31mx\u001b[39m \u001b[34mdplyr\u001b[39m::\u001b[32mfilter()\u001b[39m masks \u001b[34mstats\u001b[39m::filter()\n",
      "\u001b[31mx\u001b[39m \u001b[34mdplyr\u001b[39m::\u001b[32mlag()\u001b[39m    masks \u001b[34mstats\u001b[39m::lag()\n"
     ]
    }
   ],
   "source": [
    "library(tidyverse)"
   ]
  },
  {
   "cell_type": "markdown",
   "metadata": {
    "slideshow": {
     "slide_type": "subslide"
    }
   },
   "source": [
    "### Typical summary functions \n",
    "\n",
    "- min(x), median(x), max(x),\n",
    "- quantile(x, p)\n",
    "- n(), n_distinct(x), sum(x), mean(x)\n",
    "- sum(x > 10), mean(x > 10)\n",
    "- sd(x), var(x), iqr(x), mad(x)\n"
   ]
  },
  {
   "cell_type": "markdown",
   "metadata": {
    "slideshow": {
     "slide_type": "fragment"
    }
   },
   "source": [
    "### R cheatsheets\n",
    "\n",
    "https://www.rstudio.com/resources/cheatsheets/"
   ]
  },
  {
   "cell_type": "markdown",
   "metadata": {
    "slideshow": {
     "slide_type": "slide"
    }
   },
   "source": [
    "## 2 Vectors\n",
    "### Exercises"
   ]
  },
  {
   "cell_type": "markdown",
   "metadata": {},
   "source": [
    "Create a sequence with the even numbers from 20 to 50 and calculate the mean."
   ]
  },
  {
   "cell_type": "code",
   "execution_count": 2,
   "metadata": {},
   "outputs": [],
   "source": [
    "numbers <- seq(20,50,2)"
   ]
  },
  {
   "cell_type": "code",
   "execution_count": 3,
   "metadata": {},
   "outputs": [
    {
     "data": {
      "text/html": [
       "<ol class=list-inline>\n",
       "\t<li>20</li>\n",
       "\t<li>22</li>\n",
       "\t<li>24</li>\n",
       "\t<li>26</li>\n",
       "\t<li>28</li>\n",
       "\t<li>30</li>\n",
       "\t<li>32</li>\n",
       "\t<li>34</li>\n",
       "\t<li>36</li>\n",
       "\t<li>38</li>\n",
       "\t<li>40</li>\n",
       "\t<li>42</li>\n",
       "\t<li>44</li>\n",
       "\t<li>46</li>\n",
       "\t<li>48</li>\n",
       "\t<li>50</li>\n",
       "</ol>\n"
      ],
      "text/latex": [
       "\\begin{enumerate*}\n",
       "\\item 20\n",
       "\\item 22\n",
       "\\item 24\n",
       "\\item 26\n",
       "\\item 28\n",
       "\\item 30\n",
       "\\item 32\n",
       "\\item 34\n",
       "\\item 36\n",
       "\\item 38\n",
       "\\item 40\n",
       "\\item 42\n",
       "\\item 44\n",
       "\\item 46\n",
       "\\item 48\n",
       "\\item 50\n",
       "\\end{enumerate*}\n"
      ],
      "text/markdown": [
       "1. 20\n",
       "2. 22\n",
       "3. 24\n",
       "4. 26\n",
       "5. 28\n",
       "6. 30\n",
       "7. 32\n",
       "8. 34\n",
       "9. 36\n",
       "10. 38\n",
       "11. 40\n",
       "12. 42\n",
       "13. 44\n",
       "14. 46\n",
       "15. 48\n",
       "16. 50\n",
       "\n",
       "\n"
      ],
      "text/plain": [
       " [1] 20 22 24 26 28 30 32 34 36 38 40 42 44 46 48 50"
      ]
     },
     "metadata": {},
     "output_type": "display_data"
    }
   ],
   "source": [
    "numbers"
   ]
  },
  {
   "cell_type": "markdown",
   "metadata": {},
   "source": [
    "How many numbers are in this sequence?"
   ]
  },
  {
   "cell_type": "code",
   "execution_count": 4,
   "metadata": {},
   "outputs": [
    {
     "data": {
      "text/html": [
       "16"
      ],
      "text/latex": [
       "16"
      ],
      "text/markdown": [
       "16"
      ],
      "text/plain": [
       "[1] 16"
      ]
     },
     "metadata": {},
     "output_type": "display_data"
    }
   ],
   "source": [
    "length(numbers)"
   ]
  },
  {
   "cell_type": "markdown",
   "metadata": {
    "slideshow": {
     "slide_type": "subslide"
    }
   },
   "source": [
    "Create three vectors x, y, z containing colors (string), ID's (integer), weights (kg as decimal number). Combine these three vectors to become a 3×3 matrix where each column represents a vector."
   ]
  },
  {
   "cell_type": "code",
   "execution_count": 5,
   "metadata": {},
   "outputs": [],
   "source": [
    "x <- c('red','blue','green')\n",
    "y <- c(1,7,9)\n",
    "z <- c(1.2,3.0,3.7)"
   ]
  },
  {
   "cell_type": "code",
   "execution_count": 6,
   "metadata": {},
   "outputs": [],
   "source": [
    "matrix <- cbind(x,y,z)"
   ]
  },
  {
   "cell_type": "code",
   "execution_count": 7,
   "metadata": {},
   "outputs": [
    {
     "data": {
      "text/html": [
       "<table>\n",
       "<caption>A matrix: 3 × 3 of type chr</caption>\n",
       "<thead>\n",
       "\t<tr><th scope=col>x</th><th scope=col>y</th><th scope=col>z</th></tr>\n",
       "</thead>\n",
       "<tbody>\n",
       "\t<tr><td>red  </td><td>1</td><td>1.2</td></tr>\n",
       "\t<tr><td>blue </td><td>7</td><td>3  </td></tr>\n",
       "\t<tr><td>green</td><td>9</td><td>3.7</td></tr>\n",
       "</tbody>\n",
       "</table>\n"
      ],
      "text/latex": [
       "A matrix: 3 × 3 of type chr\n",
       "\\begin{tabular}{lll}\n",
       " x & y & z\\\\\n",
       "\\hline\n",
       "\t red   & 1 & 1.2\\\\\n",
       "\t blue  & 7 & 3  \\\\\n",
       "\t green & 9 & 3.7\\\\\n",
       "\\end{tabular}\n"
      ],
      "text/markdown": [
       "\n",
       "A matrix: 3 × 3 of type chr\n",
       "\n",
       "| x | y | z |\n",
       "|---|---|---|\n",
       "| red   | 1 | 1.2 |\n",
       "| blue  | 7 | 3   |\n",
       "| green | 9 | 3.7 |\n",
       "\n"
      ],
      "text/plain": [
       "     x     y z  \n",
       "[1,] red   1 1.2\n",
       "[2,] blue  7 3  \n",
       "[3,] green 9 3.7"
      ]
     },
     "metadata": {},
     "output_type": "display_data"
    }
   ],
   "source": [
    "matrix"
   ]
  },
  {
   "cell_type": "markdown",
   "metadata": {
    "slideshow": {
     "slide_type": "slide"
    }
   },
   "source": [
    "### European roulette\n",
    "\n",
    "In European roulette, the ball takes a number between 0 and 36 with equal probabilities.\n",
    "Create a vector to mimic 100,000 spins."
   ]
  },
  {
   "cell_type": "code",
   "execution_count": 8,
   "metadata": {
    "slideshow": {
     "slide_type": "-"
    }
   },
   "outputs": [],
   "source": [
    "fields <- 1:36"
   ]
  },
  {
   "cell_type": "markdown",
   "metadata": {
    "slideshow": {
     "slide_type": "-"
    }
   },
   "source": [
    "Get the documentation for the sample function:"
   ]
  },
  {
   "cell_type": "code",
   "execution_count": 9,
   "metadata": {},
   "outputs": [],
   "source": [
    "?sample"
   ]
  },
  {
   "cell_type": "code",
   "execution_count": 10,
   "metadata": {
    "slideshow": {
     "slide_type": "fragment"
    }
   },
   "outputs": [],
   "source": [
    "output <- sample(fields, 100000, replace = T )"
   ]
  },
  {
   "cell_type": "markdown",
   "metadata": {
    "slideshow": {
     "slide_type": "subslide"
    }
   },
   "source": [
    " Use the output vector to answer the following questions. What would be your payout if:\n",
    "\n",
    "1. You always bet 1€ on the number 7. (Betting the correct number offers a payout of 35:1)\n",
    "2. You always bet 1€ on an odd outcome. (Betting the correct outcome offers a payout of 1:1)\n",
    "3. You always bet 1€ on the square 4, 5, 7, 8. (Hitting a number in the square offers a payout of 8:1)"
   ]
  },
  {
   "cell_type": "code",
   "execution_count": 11,
   "metadata": {},
   "outputs": [
    {
     "data": {
      "text/html": [
       "1376"
      ],
      "text/latex": [
       "1376"
      ],
      "text/markdown": [
       "1376"
      ],
      "text/plain": [
       "[1] 1376"
      ]
     },
     "metadata": {},
     "output_type": "display_data"
    }
   ],
   "source": [
    "sum(ifelse(output==7,35,-1))"
   ]
  },
  {
   "cell_type": "code",
   "execution_count": 12,
   "metadata": {},
   "outputs": [
    {
     "data": {
      "text/html": [
       "82"
      ],
      "text/latex": [
       "82"
      ],
      "text/markdown": [
       "82"
      ],
      "text/plain": [
       "[1] 82"
      ]
     },
     "metadata": {},
     "output_type": "display_data"
    }
   ],
   "source": [
    "sum(ifelse(output %% 2 == 1, -1, 1))"
   ]
  },
  {
   "cell_type": "code",
   "execution_count": 13,
   "metadata": {},
   "outputs": [
    {
     "data": {
      "text/html": [
       "-1009"
      ],
      "text/latex": [
       "-1009"
      ],
      "text/markdown": [
       "-1009"
      ],
      "text/plain": [
       "[1] -1009"
      ]
     },
     "metadata": {},
     "output_type": "display_data"
    }
   ],
   "source": [
    "sum(ifelse(output %in% c(4,5,7,8), 8, -1))"
   ]
  },
  {
   "cell_type": "markdown",
   "metadata": {
    "slideshow": {
     "slide_type": "slide"
    }
   },
   "source": [
    "## 3 Data Frames\n",
    "\n",
    "A data frame is used for storing data tables\n",
    "It is a list of vectors of equal length."
   ]
  },
  {
   "cell_type": "markdown",
   "metadata": {
    "slideshow": {
     "slide_type": "fragment"
    }
   },
   "source": [
    "### The dplyr package\n",
    "\n",
    "- Going forward, we will heavily rely on the dplyr for data manipulations\n",
    "- dplyr is “a fast, consistent tool for working with data frame like objects, both in memory and out of memory.“\n",
    "- dplyr offers a set of simple verbs and actions as well as embodying the split-apply-combine approach for data frames"
   ]
  },
  {
   "cell_type": "markdown",
   "metadata": {
    "slideshow": {
     "slide_type": "subslide"
    }
   },
   "source": [
    "We transform our matrix into a dataframe:"
   ]
  },
  {
   "cell_type": "code",
   "execution_count": 14,
   "metadata": {},
   "outputs": [
    {
     "data": {
      "text/html": [
       "<table>\n",
       "<caption>A data.frame: 3 × 3</caption>\n",
       "<thead>\n",
       "\t<tr><th scope=col>color</th><th scope=col>id</th><th scope=col>weight</th></tr>\n",
       "\t<tr><th scope=col>&lt;fct&gt;</th><th scope=col>&lt;fct&gt;</th><th scope=col>&lt;fct&gt;</th></tr>\n",
       "</thead>\n",
       "<tbody>\n",
       "\t<tr><td>red  </td><td>1</td><td>1.2</td></tr>\n",
       "\t<tr><td>blue </td><td>7</td><td>3  </td></tr>\n",
       "\t<tr><td>green</td><td>9</td><td>3.7</td></tr>\n",
       "</tbody>\n",
       "</table>\n"
      ],
      "text/latex": [
       "A data.frame: 3 × 3\n",
       "\\begin{tabular}{r|lll}\n",
       " color & id & weight\\\\\n",
       " <fct> & <fct> & <fct>\\\\\n",
       "\\hline\n",
       "\t red   & 1 & 1.2\\\\\n",
       "\t blue  & 7 & 3  \\\\\n",
       "\t green & 9 & 3.7\\\\\n",
       "\\end{tabular}\n"
      ],
      "text/markdown": [
       "\n",
       "A data.frame: 3 × 3\n",
       "\n",
       "| color &lt;fct&gt; | id &lt;fct&gt; | weight &lt;fct&gt; |\n",
       "|---|---|---|\n",
       "| red   | 1 | 1.2 |\n",
       "| blue  | 7 | 3   |\n",
       "| green | 9 | 3.7 |\n",
       "\n"
      ],
      "text/plain": [
       "  color id weight\n",
       "1 red   1  1.2   \n",
       "2 blue  7  3     \n",
       "3 green 9  3.7   "
      ]
     },
     "metadata": {},
     "output_type": "display_data"
    }
   ],
   "source": [
    "df <- data.frame(matrix)\n",
    "colnames(df) <- c('color', 'id', 'weight')\n",
    "df"
   ]
  },
  {
   "cell_type": "markdown",
   "metadata": {
    "slideshow": {
     "slide_type": "subslide"
    }
   },
   "source": [
    "Add a dummy price per kg to each row:"
   ]
  },
  {
   "cell_type": "code",
   "execution_count": 15,
   "metadata": {},
   "outputs": [
    {
     "data": {
      "text/html": [
       "<table>\n",
       "<caption>A data.frame: 3 × 4</caption>\n",
       "<thead>\n",
       "\t<tr><th scope=col>color</th><th scope=col>id</th><th scope=col>weight</th><th scope=col>price</th></tr>\n",
       "\t<tr><th scope=col>&lt;fct&gt;</th><th scope=col>&lt;fct&gt;</th><th scope=col>&lt;fct&gt;</th><th scope=col>&lt;dbl&gt;</th></tr>\n",
       "</thead>\n",
       "<tbody>\n",
       "\t<tr><td>red  </td><td>1</td><td>1.2</td><td>7</td></tr>\n",
       "\t<tr><td>blue </td><td>7</td><td>3  </td><td>5</td></tr>\n",
       "\t<tr><td>green</td><td>9</td><td>3.7</td><td>3</td></tr>\n",
       "</tbody>\n",
       "</table>\n"
      ],
      "text/latex": [
       "A data.frame: 3 × 4\n",
       "\\begin{tabular}{r|llll}\n",
       " color & id & weight & price\\\\\n",
       " <fct> & <fct> & <fct> & <dbl>\\\\\n",
       "\\hline\n",
       "\t red   & 1 & 1.2 & 7\\\\\n",
       "\t blue  & 7 & 3   & 5\\\\\n",
       "\t green & 9 & 3.7 & 3\\\\\n",
       "\\end{tabular}\n"
      ],
      "text/markdown": [
       "\n",
       "A data.frame: 3 × 4\n",
       "\n",
       "| color &lt;fct&gt; | id &lt;fct&gt; | weight &lt;fct&gt; | price &lt;dbl&gt; |\n",
       "|---|---|---|---|\n",
       "| red   | 1 | 1.2 | 7 |\n",
       "| blue  | 7 | 3   | 5 |\n",
       "| green | 9 | 3.7 | 3 |\n",
       "\n"
      ],
      "text/plain": [
       "  color id weight price\n",
       "1 red   1  1.2    7    \n",
       "2 blue  7  3      5    \n",
       "3 green 9  3.7    3    "
      ]
     },
     "metadata": {},
     "output_type": "display_data"
    }
   ],
   "source": [
    "price <- c(7,5,3)\n",
    "mutate(df, price)"
   ]
  },
  {
   "cell_type": "markdown",
   "metadata": {
    "slideshow": {
     "slide_type": "subslide"
    }
   },
   "source": [
    "Add a column with the total price to the dataframe:"
   ]
  },
  {
   "cell_type": "code",
   "execution_count": 16,
   "metadata": {},
   "outputs": [
    {
     "data": {
      "text/html": [
       "<table>\n",
       "<caption>A data.frame: 3 × 4</caption>\n",
       "<thead>\n",
       "\t<tr><th scope=col>color</th><th scope=col>id</th><th scope=col>weight</th><th scope=col>total_price</th></tr>\n",
       "\t<tr><th scope=col>&lt;fct&gt;</th><th scope=col>&lt;fct&gt;</th><th scope=col>&lt;dbl&gt;</th><th scope=col>&lt;dbl&gt;</th></tr>\n",
       "</thead>\n",
       "<tbody>\n",
       "\t<tr><td>red  </td><td>1</td><td>1</td><td> 7</td></tr>\n",
       "\t<tr><td>blue </td><td>7</td><td>2</td><td>10</td></tr>\n",
       "\t<tr><td>green</td><td>9</td><td>3</td><td> 9</td></tr>\n",
       "</tbody>\n",
       "</table>\n"
      ],
      "text/latex": [
       "A data.frame: 3 × 4\n",
       "\\begin{tabular}{r|llll}\n",
       " color & id & weight & total\\_price\\\\\n",
       " <fct> & <fct> & <dbl> & <dbl>\\\\\n",
       "\\hline\n",
       "\t red   & 1 & 1 &  7\\\\\n",
       "\t blue  & 7 & 2 & 10\\\\\n",
       "\t green & 9 & 3 &  9\\\\\n",
       "\\end{tabular}\n"
      ],
      "text/markdown": [
       "\n",
       "A data.frame: 3 × 4\n",
       "\n",
       "| color &lt;fct&gt; | id &lt;fct&gt; | weight &lt;dbl&gt; | total_price &lt;dbl&gt; |\n",
       "|---|---|---|---|\n",
       "| red   | 1 | 1 |  7 |\n",
       "| blue  | 7 | 2 | 10 |\n",
       "| green | 9 | 3 |  9 |\n",
       "\n"
      ],
      "text/plain": [
       "  color id weight total_price\n",
       "1 red   1  1       7         \n",
       "2 blue  7  2      10         \n",
       "3 green 9  3       9         "
      ]
     },
     "metadata": {},
     "output_type": "display_data"
    }
   ],
   "source": [
    "df$weight <- as.numeric(df$weight)\n",
    "mutate(df, total_price = weight*price)"
   ]
  },
  {
   "cell_type": "markdown",
   "metadata": {
    "slideshow": {
     "slide_type": "subslide"
    }
   },
   "source": [
    "### Exercises\n",
    "The file “homicide.csv” provides information on homicides in the United States since 1976. This data set includes the age, race, sex, ethnicity of victims and perpetrators, in addition to the relationship between the victim and perpetrator and weapon used.\n",
    "\n",
    "Load the data set from the csv file and store it as data frame “homicides”."
   ]
  },
  {
   "cell_type": "code",
   "execution_count": 17,
   "metadata": {},
   "outputs": [],
   "source": [
    "file_path = 'data/T06/homicide.csv'"
   ]
  },
  {
   "cell_type": "code",
   "execution_count": 18,
   "metadata": {},
   "outputs": [],
   "source": [
    "?read.csv2"
   ]
  },
  {
   "cell_type": "code",
   "execution_count": 19,
   "metadata": {},
   "outputs": [],
   "source": [
    "homicides <- read.csv2(file_path)"
   ]
  },
  {
   "cell_type": "markdown",
   "metadata": {
    "slideshow": {
     "slide_type": "subslide"
    }
   },
   "source": [
    "Inspect the first 3 entries of the data set and provide the number of rows and the number of columns."
   ]
  },
  {
   "cell_type": "code",
   "execution_count": 20,
   "metadata": {},
   "outputs": [
    {
     "data": {
      "text/html": [
       "<table>\n",
       "<caption>A data.frame: 3 × 25</caption>\n",
       "<thead>\n",
       "\t<tr><th scope=col>X</th><th scope=col>Record.ID</th><th scope=col>Agency.Code</th><th scope=col>Agency.Name</th><th scope=col>Agency.Type</th><th scope=col>City</th><th scope=col>State</th><th scope=col>Year</th><th scope=col>Month</th><th scope=col>Incident</th><th scope=col>...</th><th scope=col>Victim.Ethnicity</th><th scope=col>Perpetrator.Sex</th><th scope=col>Perpetrator.Age</th><th scope=col>Perpetrator.Race</th><th scope=col>Perpetrator.Ethnicity</th><th scope=col>Relationship</th><th scope=col>Weapon</th><th scope=col>Victim.Count</th><th scope=col>Perpetrator.Count</th><th scope=col>Record.Source</th></tr>\n",
       "\t<tr><th scope=col>&lt;int&gt;</th><th scope=col>&lt;int&gt;</th><th scope=col>&lt;fct&gt;</th><th scope=col>&lt;fct&gt;</th><th scope=col>&lt;fct&gt;</th><th scope=col>&lt;fct&gt;</th><th scope=col>&lt;fct&gt;</th><th scope=col>&lt;int&gt;</th><th scope=col>&lt;fct&gt;</th><th scope=col>&lt;int&gt;</th><th scope=col>...</th><th scope=col>&lt;fct&gt;</th><th scope=col>&lt;fct&gt;</th><th scope=col>&lt;int&gt;</th><th scope=col>&lt;fct&gt;</th><th scope=col>&lt;fct&gt;</th><th scope=col>&lt;fct&gt;</th><th scope=col>&lt;fct&gt;</th><th scope=col>&lt;int&gt;</th><th scope=col>&lt;int&gt;</th><th scope=col>&lt;fct&gt;</th></tr>\n",
       "</thead>\n",
       "<tbody>\n",
       "\t<tr><td>1</td><td>1</td><td>AK00101</td><td>Anchorage</td><td>Municipal Police</td><td>Anchorage</td><td>Alaska</td><td>1980</td><td>January</td><td>1</td><td>...</td><td>Unknown</td><td>Male   </td><td>15</td><td>Native American/Alaska Native</td><td>Unknown</td><td>Acquaintance</td><td>Blunt Object </td><td>0</td><td>0</td><td>FBI</td></tr>\n",
       "\t<tr><td>2</td><td>2</td><td>AK00101</td><td>Anchorage</td><td>Municipal Police</td><td>Anchorage</td><td>Alaska</td><td>1980</td><td>March  </td><td>1</td><td>...</td><td>Unknown</td><td>Male   </td><td>42</td><td>White                        </td><td>Unknown</td><td>Acquaintance</td><td>Strangulation</td><td>0</td><td>0</td><td>FBI</td></tr>\n",
       "\t<tr><td>3</td><td>3</td><td>AK00101</td><td>Anchorage</td><td>Municipal Police</td><td>Anchorage</td><td>Alaska</td><td>1980</td><td>March  </td><td>2</td><td>...</td><td>Unknown</td><td>Unknown</td><td> 0</td><td>Unknown                      </td><td>Unknown</td><td>Unknown     </td><td>Unknown      </td><td>0</td><td>0</td><td>FBI</td></tr>\n",
       "</tbody>\n",
       "</table>\n"
      ],
      "text/latex": [
       "A data.frame: 3 × 25\n",
       "\\begin{tabular}{r|lllllllllllllllllllllllll}\n",
       " X & Record.ID & Agency.Code & Agency.Name & Agency.Type & City & State & Year & Month & Incident & Crime.Type & Crime.Solved & Victim.Sex & Victim.Age & Victim.Race & Victim.Ethnicity & Perpetrator.Sex & Perpetrator.Age & Perpetrator.Race & Perpetrator.Ethnicity & Relationship & Weapon & Victim.Count & Perpetrator.Count & Record.Source\\\\\n",
       " <int> & <int> & <fct> & <fct> & <fct> & <fct> & <fct> & <int> & <fct> & <int> & <fct> & <fct> & <fct> & <int> & <fct> & <fct> & <fct> & <int> & <fct> & <fct> & <fct> & <fct> & <int> & <int> & <fct>\\\\\n",
       "\\hline\n",
       "\t 1 & 1 & AK00101 & Anchorage & Municipal Police & Anchorage & Alaska & 1980 & January & 1 & Murder or Manslaughter & Yes & Male   & 14 & Native American/Alaska Native & Unknown & Male    & 15 & Native American/Alaska Native & Unknown & Acquaintance & Blunt Object  & 0 & 0 & FBI\\\\\n",
       "\t 2 & 2 & AK00101 & Anchorage & Municipal Police & Anchorage & Alaska & 1980 & March   & 1 & Murder or Manslaughter & Yes & Male   & 43 & White                         & Unknown & Male    & 42 & White                         & Unknown & Acquaintance & Strangulation & 0 & 0 & FBI\\\\\n",
       "\t 3 & 3 & AK00101 & Anchorage & Municipal Police & Anchorage & Alaska & 1980 & March   & 2 & Murder or Manslaughter & No  & Female & 30 & Native American/Alaska Native & Unknown & Unknown &  0 & Unknown                       & Unknown & Unknown      & Unknown       & 0 & 0 & FBI\\\\\n",
       "\\end{tabular}\n"
      ],
      "text/markdown": [
       "\n",
       "A data.frame: 3 × 25\n",
       "\n",
       "| X &lt;int&gt; | Record.ID &lt;int&gt; | Agency.Code &lt;fct&gt; | Agency.Name &lt;fct&gt; | Agency.Type &lt;fct&gt; | City &lt;fct&gt; | State &lt;fct&gt; | Year &lt;int&gt; | Month &lt;fct&gt; | Incident &lt;int&gt; | ... ... | Victim.Ethnicity &lt;fct&gt; | Perpetrator.Sex &lt;fct&gt; | Perpetrator.Age &lt;int&gt; | Perpetrator.Race &lt;fct&gt; | Perpetrator.Ethnicity &lt;fct&gt; | Relationship &lt;fct&gt; | Weapon &lt;fct&gt; | Victim.Count &lt;int&gt; | Perpetrator.Count &lt;int&gt; | Record.Source &lt;fct&gt; |\n",
       "|---|---|---|---|---|---|---|---|---|---|---|---|---|---|---|---|---|---|---|---|---|\n",
       "| 1 | 1 | AK00101 | Anchorage | Municipal Police | Anchorage | Alaska | 1980 | January | 1 | ... | Unknown | Male    | 15 | Native American/Alaska Native | Unknown | Acquaintance | Blunt Object  | 0 | 0 | FBI |\n",
       "| 2 | 2 | AK00101 | Anchorage | Municipal Police | Anchorage | Alaska | 1980 | March   | 1 | ... | Unknown | Male    | 42 | White                         | Unknown | Acquaintance | Strangulation | 0 | 0 | FBI |\n",
       "| 3 | 3 | AK00101 | Anchorage | Municipal Police | Anchorage | Alaska | 1980 | March   | 2 | ... | Unknown | Unknown |  0 | Unknown                       | Unknown | Unknown      | Unknown       | 0 | 0 | FBI |\n",
       "\n"
      ],
      "text/plain": [
       "  X Record.ID Agency.Code Agency.Name Agency.Type      City      State  Year\n",
       "1 1 1         AK00101     Anchorage   Municipal Police Anchorage Alaska 1980\n",
       "2 2 2         AK00101     Anchorage   Municipal Police Anchorage Alaska 1980\n",
       "3 3 3         AK00101     Anchorage   Municipal Police Anchorage Alaska 1980\n",
       "  Month   Incident ... Victim.Ethnicity Perpetrator.Sex Perpetrator.Age\n",
       "1 January 1        ... Unknown          Male            15             \n",
       "2 March   1        ... Unknown          Male            42             \n",
       "3 March   2        ... Unknown          Unknown          0             \n",
       "  Perpetrator.Race              Perpetrator.Ethnicity Relationship\n",
       "1 Native American/Alaska Native Unknown               Acquaintance\n",
       "2 White                         Unknown               Acquaintance\n",
       "3 Unknown                       Unknown               Unknown     \n",
       "  Weapon        Victim.Count Perpetrator.Count Record.Source\n",
       "1 Blunt Object  0            0                 FBI          \n",
       "2 Strangulation 0            0                 FBI          \n",
       "3 Unknown       0            0                 FBI          "
      ]
     },
     "metadata": {},
     "output_type": "display_data"
    },
    {
     "data": {
      "text/html": [
       "229843"
      ],
      "text/latex": [
       "229843"
      ],
      "text/markdown": [
       "229843"
      ],
      "text/plain": [
       "[1] 229843"
      ]
     },
     "metadata": {},
     "output_type": "display_data"
    },
    {
     "data": {
      "text/html": [
       "25"
      ],
      "text/latex": [
       "25"
      ],
      "text/markdown": [
       "25"
      ],
      "text/plain": [
       "[1] 25"
      ]
     },
     "metadata": {},
     "output_type": "display_data"
    }
   ],
   "source": [
    "head(homicides, 3)\n",
    "nrow(homicides)\n",
    "ncol(homicides)"
   ]
  },
  {
   "cell_type": "markdown",
   "metadata": {
    "slideshow": {
     "slide_type": "subslide"
    }
   },
   "source": [
    "Assume that grown up perpetrators (21 and older) have to go to jail for 30 years while minor perpetrators have to go to jail for 15 years: a. Create a new variable ('prisonTime') holding the prison time for each homicide."
   ]
  },
  {
   "cell_type": "code",
   "execution_count": 21,
   "metadata": {},
   "outputs": [
    {
     "data": {
      "text/html": [
       "<table>\n",
       "<caption>A data.frame: 6 × 26</caption>\n",
       "<thead>\n",
       "\t<tr><th scope=col>X</th><th scope=col>Record.ID</th><th scope=col>Agency.Code</th><th scope=col>Agency.Name</th><th scope=col>Agency.Type</th><th scope=col>City</th><th scope=col>State</th><th scope=col>Year</th><th scope=col>Month</th><th scope=col>Incident</th><th scope=col>...</th><th scope=col>Perpetrator.Sex</th><th scope=col>Perpetrator.Age</th><th scope=col>Perpetrator.Race</th><th scope=col>Perpetrator.Ethnicity</th><th scope=col>Relationship</th><th scope=col>Weapon</th><th scope=col>Victim.Count</th><th scope=col>Perpetrator.Count</th><th scope=col>Record.Source</th><th scope=col>prisonTime</th></tr>\n",
       "\t<tr><th scope=col>&lt;int&gt;</th><th scope=col>&lt;int&gt;</th><th scope=col>&lt;fct&gt;</th><th scope=col>&lt;fct&gt;</th><th scope=col>&lt;fct&gt;</th><th scope=col>&lt;fct&gt;</th><th scope=col>&lt;fct&gt;</th><th scope=col>&lt;int&gt;</th><th scope=col>&lt;fct&gt;</th><th scope=col>&lt;int&gt;</th><th scope=col>...</th><th scope=col>&lt;fct&gt;</th><th scope=col>&lt;int&gt;</th><th scope=col>&lt;fct&gt;</th><th scope=col>&lt;fct&gt;</th><th scope=col>&lt;fct&gt;</th><th scope=col>&lt;fct&gt;</th><th scope=col>&lt;int&gt;</th><th scope=col>&lt;int&gt;</th><th scope=col>&lt;fct&gt;</th><th scope=col>&lt;dbl&gt;</th></tr>\n",
       "</thead>\n",
       "<tbody>\n",
       "\t<tr><td>1</td><td>1</td><td>AK00101</td><td>Anchorage</td><td>Municipal Police</td><td>Anchorage</td><td>Alaska</td><td>1980</td><td>January</td><td>1</td><td>...</td><td>Male   </td><td>15</td><td>Native American/Alaska Native</td><td>Unknown</td><td>Acquaintance</td><td>Blunt Object </td><td>0</td><td>0</td><td>FBI</td><td>15</td></tr>\n",
       "\t<tr><td>2</td><td>2</td><td>AK00101</td><td>Anchorage</td><td>Municipal Police</td><td>Anchorage</td><td>Alaska</td><td>1980</td><td>March  </td><td>1</td><td>...</td><td>Male   </td><td>42</td><td>White                        </td><td>Unknown</td><td>Acquaintance</td><td>Strangulation</td><td>0</td><td>0</td><td>FBI</td><td>30</td></tr>\n",
       "\t<tr><td>3</td><td>3</td><td>AK00101</td><td>Anchorage</td><td>Municipal Police</td><td>Anchorage</td><td>Alaska</td><td>1980</td><td>March  </td><td>2</td><td>...</td><td>Unknown</td><td> 0</td><td>Unknown                      </td><td>Unknown</td><td>Unknown     </td><td>Unknown      </td><td>0</td><td>0</td><td>FBI</td><td>15</td></tr>\n",
       "\t<tr><td>4</td><td>4</td><td>AK00101</td><td>Anchorage</td><td>Municipal Police</td><td>Anchorage</td><td>Alaska</td><td>1980</td><td>April  </td><td>1</td><td>...</td><td>Male   </td><td>42</td><td>White                        </td><td>Unknown</td><td>Acquaintance</td><td>Strangulation</td><td>0</td><td>0</td><td>FBI</td><td>30</td></tr>\n",
       "\t<tr><td>5</td><td>5</td><td>AK00101</td><td>Anchorage</td><td>Municipal Police</td><td>Anchorage</td><td>Alaska</td><td>1980</td><td>April  </td><td>2</td><td>...</td><td>Unknown</td><td> 0</td><td>Unknown                      </td><td>Unknown</td><td>Unknown     </td><td>Unknown      </td><td>0</td><td>1</td><td>FBI</td><td>15</td></tr>\n",
       "\t<tr><td>6</td><td>6</td><td>AK00101</td><td>Anchorage</td><td>Municipal Police</td><td>Anchorage</td><td>Alaska</td><td>1980</td><td>May    </td><td>1</td><td>...</td><td>Male   </td><td>36</td><td>White                        </td><td>Unknown</td><td>Acquaintance</td><td>Rifle        </td><td>0</td><td>0</td><td>FBI</td><td>30</td></tr>\n",
       "</tbody>\n",
       "</table>\n"
      ],
      "text/latex": [
       "A data.frame: 6 × 26\n",
       "\\begin{tabular}{r|llllllllllllllllllllllllll}\n",
       " X & Record.ID & Agency.Code & Agency.Name & Agency.Type & City & State & Year & Month & Incident & Crime.Type & Crime.Solved & Victim.Sex & Victim.Age & Victim.Race & Victim.Ethnicity & Perpetrator.Sex & Perpetrator.Age & Perpetrator.Race & Perpetrator.Ethnicity & Relationship & Weapon & Victim.Count & Perpetrator.Count & Record.Source & prisonTime\\\\\n",
       " <int> & <int> & <fct> & <fct> & <fct> & <fct> & <fct> & <int> & <fct> & <int> & <fct> & <fct> & <fct> & <int> & <fct> & <fct> & <fct> & <int> & <fct> & <fct> & <fct> & <fct> & <int> & <int> & <fct> & <dbl>\\\\\n",
       "\\hline\n",
       "\t 1 & 1 & AK00101 & Anchorage & Municipal Police & Anchorage & Alaska & 1980 & January & 1 & Murder or Manslaughter & Yes & Male   & 14 & Native American/Alaska Native & Unknown & Male    & 15 & Native American/Alaska Native & Unknown & Acquaintance & Blunt Object  & 0 & 0 & FBI & 15\\\\\n",
       "\t 2 & 2 & AK00101 & Anchorage & Municipal Police & Anchorage & Alaska & 1980 & March   & 1 & Murder or Manslaughter & Yes & Male   & 43 & White                         & Unknown & Male    & 42 & White                         & Unknown & Acquaintance & Strangulation & 0 & 0 & FBI & 30\\\\\n",
       "\t 3 & 3 & AK00101 & Anchorage & Municipal Police & Anchorage & Alaska & 1980 & March   & 2 & Murder or Manslaughter & No  & Female & 30 & Native American/Alaska Native & Unknown & Unknown &  0 & Unknown                       & Unknown & Unknown      & Unknown       & 0 & 0 & FBI & 15\\\\\n",
       "\t 4 & 4 & AK00101 & Anchorage & Municipal Police & Anchorage & Alaska & 1980 & April   & 1 & Murder or Manslaughter & Yes & Male   & 43 & White                         & Unknown & Male    & 42 & White                         & Unknown & Acquaintance & Strangulation & 0 & 0 & FBI & 30\\\\\n",
       "\t 5 & 5 & AK00101 & Anchorage & Municipal Police & Anchorage & Alaska & 1980 & April   & 2 & Murder or Manslaughter & No  & Female & 30 & Native American/Alaska Native & Unknown & Unknown &  0 & Unknown                       & Unknown & Unknown      & Unknown       & 0 & 1 & FBI & 15\\\\\n",
       "\t 6 & 6 & AK00101 & Anchorage & Municipal Police & Anchorage & Alaska & 1980 & May     & 1 & Murder or Manslaughter & Yes & Male   & 30 & White                         & Unknown & Male    & 36 & White                         & Unknown & Acquaintance & Rifle         & 0 & 0 & FBI & 30\\\\\n",
       "\\end{tabular}\n"
      ],
      "text/markdown": [
       "\n",
       "A data.frame: 6 × 26\n",
       "\n",
       "| X &lt;int&gt; | Record.ID &lt;int&gt; | Agency.Code &lt;fct&gt; | Agency.Name &lt;fct&gt; | Agency.Type &lt;fct&gt; | City &lt;fct&gt; | State &lt;fct&gt; | Year &lt;int&gt; | Month &lt;fct&gt; | Incident &lt;int&gt; | ... ... | Perpetrator.Sex &lt;fct&gt; | Perpetrator.Age &lt;int&gt; | Perpetrator.Race &lt;fct&gt; | Perpetrator.Ethnicity &lt;fct&gt; | Relationship &lt;fct&gt; | Weapon &lt;fct&gt; | Victim.Count &lt;int&gt; | Perpetrator.Count &lt;int&gt; | Record.Source &lt;fct&gt; | prisonTime &lt;dbl&gt; |\n",
       "|---|---|---|---|---|---|---|---|---|---|---|---|---|---|---|---|---|---|---|---|---|\n",
       "| 1 | 1 | AK00101 | Anchorage | Municipal Police | Anchorage | Alaska | 1980 | January | 1 | ... | Male    | 15 | Native American/Alaska Native | Unknown | Acquaintance | Blunt Object  | 0 | 0 | FBI | 15 |\n",
       "| 2 | 2 | AK00101 | Anchorage | Municipal Police | Anchorage | Alaska | 1980 | March   | 1 | ... | Male    | 42 | White                         | Unknown | Acquaintance | Strangulation | 0 | 0 | FBI | 30 |\n",
       "| 3 | 3 | AK00101 | Anchorage | Municipal Police | Anchorage | Alaska | 1980 | March   | 2 | ... | Unknown |  0 | Unknown                       | Unknown | Unknown      | Unknown       | 0 | 0 | FBI | 15 |\n",
       "| 4 | 4 | AK00101 | Anchorage | Municipal Police | Anchorage | Alaska | 1980 | April   | 1 | ... | Male    | 42 | White                         | Unknown | Acquaintance | Strangulation | 0 | 0 | FBI | 30 |\n",
       "| 5 | 5 | AK00101 | Anchorage | Municipal Police | Anchorage | Alaska | 1980 | April   | 2 | ... | Unknown |  0 | Unknown                       | Unknown | Unknown      | Unknown       | 0 | 1 | FBI | 15 |\n",
       "| 6 | 6 | AK00101 | Anchorage | Municipal Police | Anchorage | Alaska | 1980 | May     | 1 | ... | Male    | 36 | White                         | Unknown | Acquaintance | Rifle         | 0 | 0 | FBI | 30 |\n",
       "\n"
      ],
      "text/plain": [
       "  X Record.ID Agency.Code Agency.Name Agency.Type      City      State  Year\n",
       "1 1 1         AK00101     Anchorage   Municipal Police Anchorage Alaska 1980\n",
       "2 2 2         AK00101     Anchorage   Municipal Police Anchorage Alaska 1980\n",
       "3 3 3         AK00101     Anchorage   Municipal Police Anchorage Alaska 1980\n",
       "4 4 4         AK00101     Anchorage   Municipal Police Anchorage Alaska 1980\n",
       "5 5 5         AK00101     Anchorage   Municipal Police Anchorage Alaska 1980\n",
       "6 6 6         AK00101     Anchorage   Municipal Police Anchorage Alaska 1980\n",
       "  Month   Incident ... Perpetrator.Sex Perpetrator.Age\n",
       "1 January 1        ... Male            15             \n",
       "2 March   1        ... Male            42             \n",
       "3 March   2        ... Unknown          0             \n",
       "4 April   1        ... Male            42             \n",
       "5 April   2        ... Unknown          0             \n",
       "6 May     1        ... Male            36             \n",
       "  Perpetrator.Race              Perpetrator.Ethnicity Relationship\n",
       "1 Native American/Alaska Native Unknown               Acquaintance\n",
       "2 White                         Unknown               Acquaintance\n",
       "3 Unknown                       Unknown               Unknown     \n",
       "4 White                         Unknown               Acquaintance\n",
       "5 Unknown                       Unknown               Unknown     \n",
       "6 White                         Unknown               Acquaintance\n",
       "  Weapon        Victim.Count Perpetrator.Count Record.Source prisonTime\n",
       "1 Blunt Object  0            0                 FBI           15        \n",
       "2 Strangulation 0            0                 FBI           30        \n",
       "3 Unknown       0            0                 FBI           15        \n",
       "4 Strangulation 0            0                 FBI           30        \n",
       "5 Unknown       0            1                 FBI           15        \n",
       "6 Rifle         0            0                 FBI           30        "
      ]
     },
     "metadata": {},
     "output_type": "display_data"
    }
   ],
   "source": [
    "homicides <- mutate(homicides, prisonTime = ifelse(Perpetrator.Age >= 21, 30, 15))\n",
    "head(homicides)"
   ]
  },
  {
   "cell_type": "markdown",
   "metadata": {
    "slideshow": {
     "slide_type": "subslide"
    }
   },
   "source": [
    "Calculate the mean prison time by using the individual column 'prisonTime'"
   ]
  },
  {
   "cell_type": "code",
   "execution_count": 22,
   "metadata": {},
   "outputs": [
    {
     "data": {
      "text/html": [
       "23.4207480758605"
      ],
      "text/latex": [
       "23.4207480758605"
      ],
      "text/markdown": [
       "23.4207480758605"
      ],
      "text/plain": [
       "[1] 23.42075"
      ]
     },
     "metadata": {},
     "output_type": "display_data"
    }
   ],
   "source": [
    "mean(homicides$prisonTime)"
   ]
  }
 ],
 "metadata": {
  "celltoolbar": "Slideshow",
  "kernelspec": {
   "display_name": "R",
   "language": "R",
   "name": "ir"
  },
  "language_info": {
   "codemirror_mode": "r",
   "file_extension": ".r",
   "mimetype": "text/x-r-source",
   "name": "R",
   "pygments_lexer": "r",
   "version": "3.5.1"
  }
 },
 "nbformat": 4,
 "nbformat_minor": 2
}
