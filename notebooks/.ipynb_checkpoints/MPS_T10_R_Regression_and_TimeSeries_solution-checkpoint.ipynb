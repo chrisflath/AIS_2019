{
 "cells": [
  {
   "cell_type": "markdown",
   "metadata": {
    "slideshow": {
     "slide_type": "slide"
    }
   },
   "source": [
    "*Managerial Problem Solving*\n",
    "\n",
    "# Tutorial 10 - Regression and Time Series Analysis\n",
    "\n",
    "Toni Greif<br>\n",
    "Lehrstuhl für Wirtschaftsinformatik und Informationsmanagement\n",
    "\n",
    "SS 2019"
   ]
  },
  {
   "cell_type": "code",
   "execution_count": 1,
   "metadata": {},
   "outputs": [
    {
     "name": "stderr",
     "output_type": "stream",
     "text": [
      "Warning message:\n",
      "\"package 'tidyverse' was built under R version 3.5.3\"-- \u001b[1mAttaching packages\u001b[22m --------------------------------------- tidyverse 1.2.1 --\n",
      "\u001b[32mv\u001b[39m \u001b[34mggplot2\u001b[39m 3.1.0     \u001b[32mv\u001b[39m \u001b[34mpurrr  \u001b[39m 0.2.5\n",
      "\u001b[32mv\u001b[39m \u001b[34mtibble \u001b[39m 2.1.1     \u001b[32mv\u001b[39m \u001b[34mdplyr  \u001b[39m 0.8.1\n",
      "\u001b[32mv\u001b[39m \u001b[34mtidyr  \u001b[39m 0.8.2     \u001b[32mv\u001b[39m \u001b[34mstringr\u001b[39m 1.3.1\n",
      "\u001b[32mv\u001b[39m \u001b[34mreadr  \u001b[39m 1.1.1     \u001b[32mv\u001b[39m \u001b[34mforcats\u001b[39m 0.3.0\n",
      "Warning message:\n",
      "\"package 'tibble' was built under R version 3.5.3\"Warning message:\n",
      "\"package 'dplyr' was built under R version 3.5.3\"-- \u001b[1mConflicts\u001b[22m ------------------------------------------ tidyverse_conflicts() --\n",
      "\u001b[31mx\u001b[39m \u001b[34mdplyr\u001b[39m::\u001b[32mfilter()\u001b[39m masks \u001b[34mstats\u001b[39m::filter()\n",
      "\u001b[31mx\u001b[39m \u001b[34mdplyr\u001b[39m::\u001b[32mlag()\u001b[39m    masks \u001b[34mstats\u001b[39m::lag()\n",
      "Warning message:\n",
      "\"package 'TTR' was built under R version 3.5.3\"Warning message:\n",
      "\"package 'forecast' was built under R version 3.5.3\""
     ]
    }
   ],
   "source": [
    "library(tidyverse)\n",
    "library(TTR)\n",
    "library(forecast)"
   ]
  },
  {
   "cell_type": "markdown",
   "metadata": {
    "slideshow": {
     "slide_type": "slide"
    }
   },
   "source": [
    "## Regression Analysis\n",
    "\n",
    "Predict an economic quantity (=dependent variable) based on known and measurable influence factors (= independent\n",
    "variables). This mathematical equation can be generalized as follows:\n",
    "\n",
    "\n",
    "$$Y_i= b_0 + b_1 X_{1_i} + \\epsilon_i$$\n",
    "\n",
    "where, $b_0$ is the intercept and $b_1$ is the slope. Collectively, they are called regression coefficients. $\\epsilon_i$ is the error term, the part of $Y_i$ the regression model is unable to explain."
   ]
  },
  {
   "cell_type": "markdown",
   "metadata": {},
   "source": [
    "The aim of this exercise is to build a simple regression model that we can use to predict Distance (dist) by establishing a statistically significant linear relationship with Speed (speed). The initial assumption of a linear relationship can be examined by means of a scatter plot."
   ]
  },
  {
   "cell_type": "code",
   "execution_count": 2,
   "metadata": {
    "slideshow": {
     "slide_type": "subslide"
    }
   },
   "outputs": [
    {
     "data": {
      "image/png": "[encoded data removed]",
      "text/plain": [
       "Plot with title \"Dist ~ Speed\""
      ]
     },
     "metadata": {},
     "output_type": "display_data"
    }
   ],
   "source": [
    "options(repr.plot.width=6, repr.plot.height=4)\n",
    "scatter.smooth(x=cars$speed, y=cars$dist, main=\"Dist ~ Speed\") "
   ]
  },
  {
   "cell_type": "markdown",
   "metadata": {
    "slideshow": {
     "slide_type": "subslide"
    }
   },
   "source": [
    "To spot any outlier observations in the variable use boxplots. Having outliers in your predictor can drastically affect the predictions."
   ]
  },
  {
   "cell_type": "code",
   "execution_count": 3,
   "metadata": {},
   "outputs": [
    {
     "data": {
      "image/png": "[encoded data removed]",
      "text/plain": [
       "Plot with title \"Dist ~ Speed\""
      ]
     },
     "metadata": {},
     "output_type": "display_data"
    }
   ],
   "source": [
    "options(repr.plot.width=8, repr.plot.height=4)\n",
    "par(mfrow=c(1, 3))\n",
    "boxplot(cars$speed, main=\"Speed\", sub=paste(\"Outlier rows: \", boxplot.stats(cars$speed)$out))\n",
    "boxplot(cars$dist, main=\"Distance\", sub=paste(\"Outlier rows: \", boxplot.stats(cars$dist)$out))\n",
    "scatter.smooth(x=cars$speed, y=cars$dist, main=\"Dist ~ Speed\")"
   ]
  },
  {
   "cell_type": "markdown",
   "metadata": {
    "slideshow": {
     "slide_type": "subslide"
    }
   },
   "source": [
    "Correlation is a statistical measure that suggests the level of linear dependence between two variables, that occur in pair.\n",
    "\n",
    "Correlation can take values between -1 to +1. If we observe for every instance where speed increases, the distance also increases along with it, then there is a high positive correlation between them and therefore the correlation between them will be closer to 1. The opposite is true for an inverse relationship, in which case, the correlation between the variables will be close to -1."
   ]
  },
  {
   "cell_type": "code",
   "execution_count": 4,
   "metadata": {},
   "outputs": [
    {
     "data": {
      "text/html": [
       "0.80689490068921"
      ],
      "text/latex": [
       "0.80689490068921"
      ],
      "text/markdown": [
       "0.80689490068921"
      ],
      "text/plain": [
       "[1] 0.8068949"
      ]
     },
     "metadata": {},
     "output_type": "display_data"
    },
    {
     "data": {
      "image/png": "[encoded data removed]",
      "text/plain": [
       "Plot with title \"Dist ~ Speed\""
      ]
     },
     "metadata": {},
     "output_type": "display_data"
    }
   ],
   "source": [
    "options(repr.plot.width=6, repr.plot.height=4)\n",
    "cor(cars$speed, cars$dist)\n",
    "scatter.smooth(x=cars$speed, y=cars$dist, main=\"Dist ~ Speed\") "
   ]
  },
  {
   "cell_type": "markdown",
   "metadata": {
    "slideshow": {
     "slide_type": "subslide"
    }
   },
   "source": [
    "Now that we have seen the linear relationship graphically in the scatter plot and by computing the correlation, lets build the the linear model."
   ]
  },
  {
   "cell_type": "code",
   "execution_count": 5,
   "metadata": {
    "slideshow": {
     "slide_type": "-"
    }
   },
   "outputs": [],
   "source": [
    "linearMod <- lm(dist ~ speed, data=cars)"
   ]
  },
  {
   "cell_type": "markdown",
   "metadata": {
    "slideshow": {
     "slide_type": "slide"
    }
   },
   "source": [
    "\n",
    "### Results of Regression Analysis\n",
    "\n",
    "**Information on model quality:**\n",
    "- Standard error (SE)\n",
    "    - Information on the deviation of the model from the data\n",
    "- Pearson correlation coefficient $(R)$\n",
    "    - Magnitude of linear correlation $(-1 \\leq R \\leq 1)$\n",
    "- Coefficient of determination $(R^2)$\n",
    "    - Characterizes the 'predictive power' of the model\n",
    "    \n",
    "**Intercept and slope of regression function (Regression coefficients)**\n",
    "\n",
    "**Confidence intervals**\n",
    "- Interval in which the true regression coefficient value lies with a probability of 95%\n",
    "    - If 0 is covered by the interval, the coefficient is not statistically significant\n",
    "    - The same information is conveyed by the coefficients’ p-values (p-value < 0.05)\n"
   ]
  },
  {
   "cell_type": "code",
   "execution_count": 6,
   "metadata": {
    "scrolled": true,
    "slideshow": {
     "slide_type": "subslide"
    }
   },
   "outputs": [
    {
     "data": {
      "text/plain": [
       "\n",
       "Call:\n",
       "lm(formula = dist ~ speed, data = cars)\n",
       "\n",
       "Residuals:\n",
       "    Min      1Q  Median      3Q     Max \n",
       "-29.069  -9.525  -2.272   9.215  43.201 \n",
       "\n",
       "Coefficients:\n",
       "            Estimate Std. Error t value Pr(>|t|)    \n",
       "(Intercept) -17.5791     6.7584  -2.601   0.0123 *  \n",
       "speed         3.9324     0.4155   9.464 1.49e-12 ***\n",
       "---\n",
       "Signif. codes:  0 '***' 0.001 '**' 0.01 '*' 0.05 '.' 0.1 ' ' 1\n",
       "\n",
       "Residual standard error: 15.38 on 48 degrees of freedom\n",
       "Multiple R-squared:  0.6511,\tAdjusted R-squared:  0.6438 \n",
       "F-statistic: 89.57 on 1 and 48 DF,  p-value: 1.49e-12\n"
      ]
     },
     "metadata": {},
     "output_type": "display_data"
    }
   ],
   "source": [
    "summary(linearMod)"
   ]
  },
  {
   "cell_type": "markdown",
   "metadata": {},
   "source": [
    "**Pr(>|t|) or p-value** is the probability that you get a t-value as high or higher than the observed value when the Null Hypothesis (the coefficient is equal to zero or that there is no relationship) is true. \n",
    "\n",
    "- Pr(>|t|) is low, the coefficients are significant (significantly different from zero)\n",
    "- Pr(>|t|) is high, the coefficients are not significant\n",
    "- p-value is less than significance level (< 0.05), we can reject the null hypothesis"
   ]
  },
  {
   "cell_type": "markdown",
   "metadata": {},
   "source": [
    "- t-tests that can assess only one regression coefficient at a time\n",
    "- F-test can assess multiple coefficients simultaneously.\n",
    "\n",
    "**The F-test of the overall significance** is a specific form of the F-test. It compares a model with no predictors to the model that you specify. The hypotheses for the F-test of the overall significance are as follows:\n",
    "\n",
    "- Null hypothesis: The fit of the intercept-only model and your model are equal.\n",
    "- Alternative hypothesis: The fit of the intercept-only model is significantly reduced compared to your model."
   ]
  },
  {
   "cell_type": "markdown",
   "metadata": {},
   "source": [
    "**The R-Squared value** of the new bigger model will always be greater than that of the smaller subset, ss you add more variables to your model, This is because, since all the variables in the original model is also present, their contribution to explain the dependent variable will be present in the super-set as well.\n",
    "\n",
    "The adjusted R-Squared penalizes total value for the number of terms in your model."
   ]
  },
  {
   "cell_type": "markdown",
   "metadata": {},
   "source": [
    "### Exercise"
   ]
  },
  {
   "cell_type": "markdown",
   "metadata": {
    "slideshow": {
     "slide_type": "subslide"
    }
   },
   "source": [
    "Load the dataset “income.csv”."
   ]
  },
  {
   "cell_type": "code",
   "execution_count": 7,
   "metadata": {},
   "outputs": [
    {
     "data": {
      "text/html": [
       "<table>\n",
       "<caption>A data.frame: 6 × 8</caption>\n",
       "<thead>\n",
       "\t<tr><th scope=col>Population</th><th scope=col>Income</th><th scope=col>Illiteracy</th><th scope=col>Life.Exp</th><th scope=col>Murder</th><th scope=col>HS.Grad</th><th scope=col>Frost</th><th scope=col>Area</th></tr>\n",
       "\t<tr><th scope=col>&lt;int&gt;</th><th scope=col>&lt;int&gt;</th><th scope=col>&lt;dbl&gt;</th><th scope=col>&lt;dbl&gt;</th><th scope=col>&lt;dbl&gt;</th><th scope=col>&lt;dbl&gt;</th><th scope=col>&lt;int&gt;</th><th scope=col>&lt;int&gt;</th></tr>\n",
       "</thead>\n",
       "<tbody>\n",
       "\t<tr><td> 3615</td><td>3624</td><td>2.1</td><td>69.05</td><td>15.1</td><td>41.3</td><td> 20</td><td> 50708</td></tr>\n",
       "\t<tr><td>  365</td><td>6315</td><td>1.5</td><td>69.31</td><td>11.3</td><td>66.7</td><td>152</td><td>566432</td></tr>\n",
       "\t<tr><td> 2212</td><td>4530</td><td>1.8</td><td>70.55</td><td> 7.8</td><td>58.1</td><td> 15</td><td>113417</td></tr>\n",
       "\t<tr><td> 2110</td><td>3378</td><td>1.9</td><td>70.66</td><td>10.1</td><td>39.9</td><td> 65</td><td> 51945</td></tr>\n",
       "\t<tr><td>21198</td><td>5114</td><td>1.1</td><td>71.71</td><td>10.3</td><td>62.6</td><td> 20</td><td>156361</td></tr>\n",
       "\t<tr><td> 2541</td><td>4884</td><td>0.7</td><td>72.06</td><td> 6.8</td><td>63.9</td><td>166</td><td>103766</td></tr>\n",
       "</tbody>\n",
       "</table>\n"
      ],
      "text/latex": [
       "A data.frame: 6 × 8\n",
       "\\begin{tabular}{r|llllllll}\n",
       " Population & Income & Illiteracy & Life.Exp & Murder & HS.Grad & Frost & Area\\\\\n",
       " <int> & <int> & <dbl> & <dbl> & <dbl> & <dbl> & <int> & <int>\\\\\n",
       "\\hline\n",
       "\t  3615 & 3624 & 2.1 & 69.05 & 15.1 & 41.3 &  20 &  50708\\\\\n",
       "\t   365 & 6315 & 1.5 & 69.31 & 11.3 & 66.7 & 152 & 566432\\\\\n",
       "\t  2212 & 4530 & 1.8 & 70.55 &  7.8 & 58.1 &  15 & 113417\\\\\n",
       "\t  2110 & 3378 & 1.9 & 70.66 & 10.1 & 39.9 &  65 &  51945\\\\\n",
       "\t 21198 & 5114 & 1.1 & 71.71 & 10.3 & 62.6 &  20 & 156361\\\\\n",
       "\t  2541 & 4884 & 0.7 & 72.06 &  6.8 & 63.9 & 166 & 103766\\\\\n",
       "\\end{tabular}\n"
      ],
      "text/markdown": [
       "\n",
       "A data.frame: 6 × 8\n",
       "\n",
       "| Population &lt;int&gt; | Income &lt;int&gt; | Illiteracy &lt;dbl&gt; | Life.Exp &lt;dbl&gt; | Murder &lt;dbl&gt; | HS.Grad &lt;dbl&gt; | Frost &lt;int&gt; | Area &lt;int&gt; |\n",
       "|---|---|---|---|---|---|---|---|\n",
       "|  3615 | 3624 | 2.1 | 69.05 | 15.1 | 41.3 |  20 |  50708 |\n",
       "|   365 | 6315 | 1.5 | 69.31 | 11.3 | 66.7 | 152 | 566432 |\n",
       "|  2212 | 4530 | 1.8 | 70.55 |  7.8 | 58.1 |  15 | 113417 |\n",
       "|  2110 | 3378 | 1.9 | 70.66 | 10.1 | 39.9 |  65 |  51945 |\n",
       "| 21198 | 5114 | 1.1 | 71.71 | 10.3 | 62.6 |  20 | 156361 |\n",
       "|  2541 | 4884 | 0.7 | 72.06 |  6.8 | 63.9 | 166 | 103766 |\n",
       "\n"
      ],
      "text/plain": [
       "  Population Income Illiteracy Life.Exp Murder HS.Grad Frost Area  \n",
       "1  3615      3624   2.1        69.05    15.1   41.3     20    50708\n",
       "2   365      6315   1.5        69.31    11.3   66.7    152   566432\n",
       "3  2212      4530   1.8        70.55     7.8   58.1     15   113417\n",
       "4  2110      3378   1.9        70.66    10.1   39.9     65    51945\n",
       "5 21198      5114   1.1        71.71    10.3   62.6     20   156361\n",
       "6  2541      4884   0.7        72.06     6.8   63.9    166   103766"
      ]
     },
     "metadata": {},
     "output_type": "display_data"
    }
   ],
   "source": [
    "income <- read.csv(\"data/T09/income.csv\")\n",
    "income %>% head()"
   ]
  },
  {
   "cell_type": "markdown",
   "metadata": {
    "slideshow": {
     "slide_type": "subslide"
    }
   },
   "source": [
    "Perform a multiple linear regression. Therefore, use the income as dependent variable and all others parameters as independent variables.\n"
   ]
  },
  {
   "cell_type": "code",
   "execution_count": 8,
   "metadata": {},
   "outputs": [
    {
     "data": {
      "text/plain": [
       "\n",
       "Call:\n",
       "lm(formula = Income ~ ., data = income)\n",
       "\n",
       "Residuals:\n",
       "    Min      1Q  Median      3Q     Max \n",
       "-899.73 -226.98  -53.63  232.37  966.02 \n",
       "\n",
       "Coefficients:\n",
       "              Estimate Std. Error t value Pr(>|t|)  \n",
       "(Intercept)  3.183e+03  6.980e+03   0.456   0.6508  \n",
       "Population   3.999e-02  1.808e-02   2.212   0.0325 *\n",
       "Illiteracy  -1.437e+02  2.302e+02  -0.624   0.5359  \n",
       "Life.Exp    -8.688e+00  9.739e+01  -0.089   0.9293  \n",
       "Murder      -1.154e+01  4.151e+01  -0.278   0.7823  \n",
       "HS.Grad      3.417e+01  1.455e+01   2.349   0.0236 *\n",
       "Frost        1.916e-01  2.061e+00   0.093   0.9264  \n",
       "Area         1.662e-03  1.021e-03   1.627   0.1111  \n",
       "---\n",
       "Signif. codes:  0 '***' 0.001 '**' 0.01 '*' 0.05 '.' 0.1 ' ' 1\n",
       "\n",
       "Residual standard error: 470.1 on 42 degrees of freedom\n",
       "Multiple R-squared:  0.4983,\tAdjusted R-squared:  0.4146 \n",
       "F-statistic: 5.958 on 7 and 42 DF,  p-value: 7.485e-05\n"
      ]
     },
     "metadata": {},
     "output_type": "display_data"
    }
   ],
   "source": [
    "fit1a <- lm(Income ~ ., data=income)\n",
    "summary(fit1a)"
   ]
  },
  {
   "cell_type": "markdown",
   "metadata": {
    "slideshow": {
     "slide_type": "subslide"
    }
   },
   "source": [
    "After fitting the initial model, keep removing the insignificant (5%) independent variables.What independent variables have a significant influence on the life expectancy of the state inhabitants?"
   ]
  },
  {
   "cell_type": "code",
   "execution_count": 9,
   "metadata": {
    "scrolled": true
   },
   "outputs": [
    {
     "data": {
      "text/plain": [
       "\n",
       "Call:\n",
       "lm(formula = Income ~ Population + Illiteracy + Murder + HS.Grad + \n",
       "    Frost + Area, data = income)\n",
       "\n",
       "Residuals:\n",
       "    Min      1Q  Median      3Q     Max \n",
       "-906.99 -219.42  -59.47  231.33  968.55 \n",
       "\n",
       "Coefficients:\n",
       "              Estimate Std. Error t value Pr(>|t|)  \n",
       "(Intercept)  2.567e+03  1.018e+03   2.522   0.0155 *\n",
       "Population   3.954e-02  1.718e-02   2.301   0.0263 *\n",
       "Illiteracy  -1.440e+02  2.275e+02  -0.633   0.5301  \n",
       "Murder      -8.929e+00  2.906e+01  -0.307   0.7601  \n",
       "HS.Grad      3.375e+01  1.361e+01   2.480   0.0171 *\n",
       "Frost        2.414e-01  1.961e+00   0.123   0.9026  \n",
       "Area         1.663e-03  1.009e-03   1.648   0.1067  \n",
       "---\n",
       "Signif. codes:  0 '***' 0.001 '**' 0.01 '*' 0.05 '.' 0.1 ' ' 1\n",
       "\n",
       "Residual standard error: 464.7 on 43 degrees of freedom\n",
       "Multiple R-squared:  0.4982,\tAdjusted R-squared:  0.4281 \n",
       "F-statistic: 7.114 on 6 and 43 DF,  p-value: 2.617e-05\n"
      ]
     },
     "metadata": {},
     "output_type": "display_data"
    },
    {
     "data": {
      "text/plain": [
       "\n",
       "Call:\n",
       "lm(formula = Income ~ Population + Illiteracy + Murder + HS.Grad + \n",
       "    Area, data = income)\n",
       "\n",
       "Residuals:\n",
       "    Min      1Q  Median      3Q     Max \n",
       "-905.01 -219.80  -60.24  232.74  965.49 \n",
       "\n",
       "Coefficients:\n",
       "              Estimate Std. Error t value Pr(>|t|)   \n",
       "(Intercept)  2.641e+03  8.109e+02   3.257  0.00217 **\n",
       "Population   3.885e-02  1.605e-02   2.421  0.01969 * \n",
       "Illiteracy  -1.605e+02  1.815e+02  -0.884  0.38124   \n",
       "Murder      -9.291e+00  2.858e+01  -0.325  0.74666   \n",
       "HS.Grad      3.325e+01  1.284e+01   2.590  0.01295 * \n",
       "Area         1.701e-03  9.499e-04   1.791  0.08019 . \n",
       "---\n",
       "Signif. codes:  0 '***' 0.001 '**' 0.01 '*' 0.05 '.' 0.1 ' ' 1\n",
       "\n",
       "Residual standard error: 459.4 on 44 degrees of freedom\n",
       "Multiple R-squared:  0.498,\tAdjusted R-squared:  0.4409 \n",
       "F-statistic: 8.729 on 5 and 44 DF,  p-value: 8.236e-06\n"
      ]
     },
     "metadata": {},
     "output_type": "display_data"
    },
    {
     "data": {
      "text/plain": [
       "\n",
       "Call:\n",
       "lm(formula = Income ~ Population + Illiteracy + HS.Grad + Area, \n",
       "    data = income)\n",
       "\n",
       "Residuals:\n",
       "    Min      1Q  Median      3Q     Max \n",
       "-912.18 -216.28  -61.89  217.13  947.96 \n",
       "\n",
       "Coefficients:\n",
       "              Estimate Std. Error t value Pr(>|t|)   \n",
       "(Intercept)  2.577e+03  7.788e+02   3.309  0.00185 **\n",
       "Population   3.684e-02  1.466e-02   2.513  0.01563 * \n",
       "Illiteracy  -1.900e+02  1.557e+02  -1.220  0.22889   \n",
       "HS.Grad      3.411e+01  1.244e+01   2.742  0.00873 **\n",
       "Area         1.601e-03  8.895e-04   1.800  0.07860 . \n",
       "---\n",
       "Signif. codes:  0 '***' 0.001 '**' 0.01 '*' 0.05 '.' 0.1 ' ' 1\n",
       "\n",
       "Residual standard error: 454.9 on 45 degrees of freedom\n",
       "Multiple R-squared:  0.4968,\tAdjusted R-squared:  0.452 \n",
       "F-statistic: 11.11 on 4 and 45 DF,  p-value: 2.372e-06\n"
      ]
     },
     "metadata": {},
     "output_type": "display_data"
    },
    {
     "data": {
      "text/plain": [
       "\n",
       "Call:\n",
       "lm(formula = Income ~ Population + HS.Grad + Area, data = income)\n",
       "\n",
       "Residuals:\n",
       "    Min      1Q  Median      3Q     Max \n",
       "-956.47 -225.60  -14.54  198.88  974.12 \n",
       "\n",
       "Coefficients:\n",
       "             Estimate Std. Error t value Pr(>|t|)    \n",
       "(Intercept) 1.807e+03  4.581e+02   3.944 0.000272 ***\n",
       "Population  3.620e-02  1.473e-02   2.458 0.017820 *  \n",
       "HS.Grad     4.508e+01  8.634e+00   5.221 4.17e-06 ***\n",
       "Area        1.150e-03  8.135e-04   1.414 0.164049    \n",
       "---\n",
       "Signif. codes:  0 '***' 0.001 '**' 0.01 '*' 0.05 '.' 0.1 ' ' 1\n",
       "\n",
       "Residual standard error: 457.3 on 46 degrees of freedom\n",
       "Multiple R-squared:  0.4801,\tAdjusted R-squared:  0.4462 \n",
       "F-statistic: 14.16 on 3 and 46 DF,  p-value: 1.137e-06\n"
      ]
     },
     "metadata": {},
     "output_type": "display_data"
    },
    {
     "data": {
      "text/plain": [
       "\n",
       "Call:\n",
       "lm(formula = Income ~ Population + HS.Grad, data = income)\n",
       "\n",
       "Residuals:\n",
       "    Min      1Q  Median      3Q     Max \n",
       "-998.14 -237.26  -43.64  202.88 1355.74 \n",
       "\n",
       "Coefficients:\n",
       "             Estimate Std. Error t value Pr(>|t|)    \n",
       "(Intercept) 1.664e+03  4.516e+02   3.685 0.000591 ***\n",
       "Population  3.743e-02  1.486e-02   2.519 0.015237 *  \n",
       "HS.Grad     4.920e+01  8.213e+00   5.990 2.78e-07 ***\n",
       "---\n",
       "Signif. codes:  0 '***' 0.001 '**' 0.01 '*' 0.05 '.' 0.1 ' ' 1\n",
       "\n",
       "Residual standard error: 462.1 on 47 degrees of freedom\n",
       "Multiple R-squared:  0.4575,\tAdjusted R-squared:  0.4345 \n",
       "F-statistic: 19.82 on 2 and 47 DF,  p-value: 5.723e-07\n"
      ]
     },
     "metadata": {},
     "output_type": "display_data"
    }
   ],
   "source": [
    "# - Life.Exp\n",
    "fit1a <- lm(Income ~ Population + \n",
    "                    Illiteracy + Murder + HS.Grad + \n",
    "                    Frost + Area, data=income)\n",
    "summary(fit1a)\n",
    "\n",
    "# - Frost\n",
    "fit1a <- lm(Income ~ Population + \n",
    "                    Illiteracy + Murder + HS.Grad + \n",
    "                    Area, data=income)\n",
    "summary(fit1a)\n",
    "\n",
    "# Murder\n",
    "fit1a <- lm(Income ~ Population + \n",
    "                    Illiteracy + HS.Grad + \n",
    "                    Area, data=income)\n",
    "summary(fit1a)\n",
    "\n",
    "# - Illiteracy\n",
    "fit1a <- lm(Income ~ Population + \n",
    "                    HS.Grad + \n",
    "                    Area, data=income)\n",
    "summary(fit1a)\n",
    "\n",
    "# Area\n",
    "fit1a <- lm(Income ~ Population + \n",
    "                    HS.Grad, data=income)\n",
    "summary(fit1a)"
   ]
  },
  {
   "cell_type": "markdown",
   "metadata": {
    "slideshow": {
     "slide_type": "-"
    }
   },
   "source": [
    "What share of total variance in the data can be explained by our regression model?"
   ]
  },
  {
   "cell_type": "code",
   "execution_count": 10,
   "metadata": {},
   "outputs": [],
   "source": [
    "#Adjusted R-squared:  0.4345"
   ]
  },
  {
   "attachments": {},
   "cell_type": "markdown",
   "metadata": {
    "slideshow": {
     "slide_type": "slide"
    }
   },
   "source": [
    "## Time Series Analysis \n",
    "\n",
    "<img src=\"images/timeSeries.png\" style=\"width:80%; float:center\">\n",
    "\n",
    "Source: http://statmath.wu.ac.at/courses/mmwi-finmath/Aufbaukurs/handouts/handout-7-Zerlegung.pdf"
   ]
  },
  {
   "cell_type": "markdown",
   "metadata": {
    "slideshow": {
     "slide_type": "subslide"
    }
   },
   "source": [
    "\n",
    "The file dax.csv provides the monthly closing prices of the DAX index since November 1990. Load the csv-file."
   ]
  },
  {
   "cell_type": "code",
   "execution_count": 11,
   "metadata": {},
   "outputs": [
    {
     "data": {
      "text/html": [
       "<table>\n",
       "<caption>A data.frame: 6 × 1</caption>\n",
       "<thead>\n",
       "\t<tr><th scope=col>x</th></tr>\n",
       "\t<tr><th scope=col>&lt;dbl&gt;</th></tr>\n",
       "</thead>\n",
       "<tbody>\n",
       "\t<tr><td>1398.2</td></tr>\n",
       "\t<tr><td>1420.1</td></tr>\n",
       "\t<tr><td>1542.1</td></tr>\n",
       "\t<tr><td>1522.8</td></tr>\n",
       "\t<tr><td>1605.8</td></tr>\n",
       "\t<tr><td>1704.1</td></tr>\n",
       "</tbody>\n",
       "</table>\n"
      ],
      "text/latex": [
       "A data.frame: 6 × 1\n",
       "\\begin{tabular}{r|l}\n",
       " x\\\\\n",
       " <dbl>\\\\\n",
       "\\hline\n",
       "\t 1398.2\\\\\n",
       "\t 1420.1\\\\\n",
       "\t 1542.1\\\\\n",
       "\t 1522.8\\\\\n",
       "\t 1605.8\\\\\n",
       "\t 1704.1\\\\\n",
       "\\end{tabular}\n"
      ],
      "text/markdown": [
       "\n",
       "A data.frame: 6 × 1\n",
       "\n",
       "| x &lt;dbl&gt; |\n",
       "|---|\n",
       "| 1398.2 |\n",
       "| 1420.1 |\n",
       "| 1542.1 |\n",
       "| 1522.8 |\n",
       "| 1605.8 |\n",
       "| 1704.1 |\n",
       "\n"
      ],
      "text/plain": [
       "  x     \n",
       "1 1398.2\n",
       "2 1420.1\n",
       "3 1542.1\n",
       "4 1522.8\n",
       "5 1605.8\n",
       "6 1704.1"
      ]
     },
     "metadata": {},
     "output_type": "display_data"
    }
   ],
   "source": [
    "dax_data <- read.csv(\"data/T10/dax.csv\")\n",
    "dax_data %>% head()"
   ]
  },
  {
   "cell_type": "markdown",
   "metadata": {
    "slideshow": {
     "slide_type": "subslide"
    }
   },
   "source": [
    "Create a time series object. Be sure to use the correct frequency as well as the start data."
   ]
  },
  {
   "cell_type": "code",
   "execution_count": 12,
   "metadata": {
    "scrolled": false
   },
   "outputs": [
    {
     "data": {
      "text/html": [
       "<table>\n",
       "<caption>A Time Series: 28 × 12</caption>\n",
       "<thead>\n",
       "\t<tr><th></th><th scope=col>Jan</th><th scope=col>Feb</th><th scope=col>Mar</th><th scope=col>Apr</th><th scope=col>May</th><th scope=col>Jun</th><th scope=col>Jul</th><th scope=col>Aug</th><th scope=col>Sep</th><th scope=col>Oct</th><th scope=col>Nov</th><th scope=col>Dec</th></tr>\n",
       "</thead>\n",
       "<tbody>\n",
       "\t<tr><th scope=row>1990</th><td>        </td><td>        </td><td>        </td><td>        </td><td>        </td><td>        </td><td>        </td><td>        </td><td>        </td><td>        </td><td> 1398.20</td><td> 1420.10</td></tr>\n",
       "\t<tr><th scope=row>1991</th><td> 1542.10</td><td> 1522.80</td><td> 1605.80</td><td> 1704.10</td><td> 1622.20</td><td> 1622.30</td><td> 1650.50</td><td> 1607.00</td><td> 1582.10</td><td> 1566.60</td><td> 1578.00</td><td> 1687.50</td></tr>\n",
       "\t<tr><th scope=row>1992</th><td> 1745.10</td><td> 1717.90</td><td> 1734.00</td><td> 1803.20</td><td> 1752.60</td><td> 1615.40</td><td> 1541.30</td><td> 1466.40</td><td> 1492.30</td><td> 1544.30</td><td> 1545.10</td><td> 1571.90</td></tr>\n",
       "\t<tr><th scope=row>1993</th><td> 1684.40</td><td> 1684.20</td><td> 1627.20</td><td> 1631.90</td><td> 1697.60</td><td> 1803.20</td><td> 1944.90</td><td> 1915.70</td><td> 2069.00</td><td> 2057.80</td><td> 2266.70</td><td> 2177.50</td></tr>\n",
       "\t<tr><th scope=row>1994</th><td> 2091.60</td><td> 2133.10</td><td> 2246.00</td><td> 2127.70</td><td> 2025.30</td><td> 2146.60</td><td> 2212.90</td><td> 2011.80</td><td> 2071.60</td><td> 2048.30</td><td> 2106.60</td><td> 2021.30</td></tr>\n",
       "\t<tr><th scope=row>1995</th><td> 2102.20</td><td> 1922.60</td><td> 2015.90</td><td> 2092.20</td><td> 2083.90</td><td> 2218.70</td><td> 2238.30</td><td> 2187.00</td><td> 2167.90</td><td> 2242.80</td><td> 2253.90</td><td> 2470.10</td></tr>\n",
       "\t<tr><th scope=row>1996</th><td> 2473.60</td><td> 2485.90</td><td> 2505.30</td><td> 2542.80</td><td> 2561.40</td><td> 2473.40</td><td> 2543.80</td><td> 2651.90</td><td> 2659.30</td><td> 2845.50</td><td> 2888.70</td><td> 3035.20</td></tr>\n",
       "\t<tr><th scope=row>1997</th><td> 3259.60</td><td> 3429.10</td><td> 3438.10</td><td> 3562.70</td><td> 3766.90</td><td> 4405.50</td><td> 3919.80</td><td> 4154.90</td><td> 3753.70</td><td> 3972.10</td><td> 4224.30</td><td> 4442.50</td></tr>\n",
       "\t<tr><th scope=row>1998</th><td> 4693.90</td><td> 5097.30</td><td> 5107.44</td><td> 5569.08</td><td> 5897.44</td><td> 5873.92</td><td> 4833.89</td><td> 4474.51</td><td> 4671.12</td><td> 5022.70</td><td> 5002.39</td><td> 5159.96</td></tr>\n",
       "\t<tr><th scope=row>1999</th><td> 4911.81</td><td> 4884.20</td><td> 5393.11</td><td> 5069.83</td><td> 5378.52</td><td> 5101.87</td><td> 5270.77</td><td> 5149.83</td><td> 5525.40</td><td> 5896.04</td><td> 6958.14</td><td> 6835.60</td></tr>\n",
       "\t<tr><th scope=row>2000</th><td> 7644.55</td><td> 7599.39</td><td> 7414.68</td><td> 7109.67</td><td> 6882.44</td><td> 7190.37</td><td> 7244.79</td><td> 6798.12</td><td> 7077.44</td><td> 6372.33</td><td> 6433.61</td><td> 6795.14</td></tr>\n",
       "\t<tr><th scope=row>2001</th><td> 6208.24</td><td> 5829.95</td><td> 6264.51</td><td> 6123.26</td><td> 6058.38</td><td> 5861.19</td><td> 5188.17</td><td> 4308.15</td><td> 4559.13</td><td> 4989.91</td><td> 5160.10</td><td> 5107.61</td></tr>\n",
       "\t<tr><th scope=row>2002</th><td> 5039.08</td><td> 5397.29</td><td> 5041.20</td><td> 4818.30</td><td> 4382.56</td><td> 3700.14</td><td> 3712.94</td><td> 2769.03</td><td> 3152.85</td><td> 3320.32</td><td> 2892.63</td><td> 2747.83</td></tr>\n",
       "\t<tr><th scope=row>2003</th><td> 2547.05</td><td> 2423.87</td><td> 2942.04</td><td> 2982.68</td><td> 3220.58</td><td> 3487.86</td><td> 3484.58</td><td> 3256.78</td><td> 3655.99</td><td> 3745.95</td><td> 3965.16</td><td> 4058.60</td></tr>\n",
       "\t<tr><th scope=row>2004</th><td> 4018.16</td><td> 3856.70</td><td> 3985.21</td><td> 3921.41</td><td> 4052.73</td><td> 3895.61</td><td> 3785.21</td><td> 3892.90</td><td> 3960.25</td><td> 4126.00</td><td> 4256.08</td><td> 4254.85</td></tr>\n",
       "\t<tr><th scope=row>2005</th><td> 4350.49</td><td> 4348.77</td><td> 4184.84</td><td> 4460.63</td><td> 4586.28</td><td> 4886.50</td><td> 4829.69</td><td> 5044.12</td><td> 4929.07</td><td> 5193.40</td><td> 5408.26</td><td> 5674.15</td></tr>\n",
       "\t<tr><th scope=row>2006</th><td> 5796.04</td><td> 5970.08</td><td> 6009.89</td><td> 5692.86</td><td> 5683.31</td><td> 5681.97</td><td> 5859.57</td><td> 6004.33</td><td> 6268.92</td><td> 6309.19</td><td> 6596.92</td><td> 6789.11</td></tr>\n",
       "\t<tr><th scope=row>2007</th><td> 6715.44</td><td> 6917.03</td><td> 7408.87</td><td> 7883.04</td><td> 8007.32</td><td> 7584.14</td><td> 7638.17</td><td> 7861.51</td><td> 8019.22</td><td> 7870.52</td><td> 8067.32</td><td> 6851.75</td></tr>\n",
       "\t<tr><th scope=row>2008</th><td> 6748.13</td><td> 6534.97</td><td> 6948.82</td><td> 7096.79</td><td> 6418.32</td><td> 6479.56</td><td> 6422.30</td><td> 5831.02</td><td> 4987.97</td><td> 4669.44</td><td> 4810.20</td><td> 4338.35</td></tr>\n",
       "\t<tr><th scope=row>2009</th><td> 3843.74</td><td> 4084.76</td><td> 4769.45</td><td> 4940.82</td><td> 4808.64</td><td> 5332.14</td><td> 5458.04</td><td> 5675.16</td><td> 5414.96</td><td> 5625.95</td><td> 5957.43</td><td> 5608.79</td></tr>\n",
       "\t<tr><th scope=row>2010</th><td> 5598.46</td><td> 6153.55</td><td> 6135.70</td><td> 5964.33</td><td> 5965.52</td><td> 6147.97</td><td> 5925.22</td><td> 6229.02</td><td> 6601.37</td><td> 6688.49</td><td> 6914.19</td><td> 7077.48</td></tr>\n",
       "\t<tr><th scope=row>2011</th><td> 7272.32</td><td> 7041.31</td><td> 7514.46</td><td> 7293.69</td><td> 7376.24</td><td> 7158.77</td><td> 5784.85</td><td> 5502.02</td><td> 6141.34</td><td> 6088.84</td><td> 5898.35</td><td> 6458.91</td></tr>\n",
       "\t<tr><th scope=row>2012</th><td> 6856.08</td><td> 6946.83</td><td> 6761.19</td><td> 6264.38</td><td> 6416.28</td><td> 6772.26</td><td> 6970.79</td><td> 7216.15</td><td> 7260.63</td><td> 7405.50</td><td> 7612.39</td><td> 7776.05</td></tr>\n",
       "\t<tr><th scope=row>2013</th><td> 7741.70</td><td> 7795.31</td><td> 7913.71</td><td> 8348.84</td><td> 7959.22</td><td> 8275.97</td><td> 8103.15</td><td> 8594.40</td><td> 9033.92</td><td> 9405.30</td><td> 9552.16</td><td> 9306.48</td></tr>\n",
       "\t<tr><th scope=row>2014</th><td> 9692.08</td><td> 9555.91</td><td> 9603.23</td><td> 9943.27</td><td> 9833.07</td><td> 9407.48</td><td> 9470.17</td><td> 9474.30</td><td> 9326.87</td><td> 9980.85</td><td> 9805.55</td><td>10694.32</td></tr>\n",
       "\t<tr><th scope=row>2015</th><td>11401.66</td><td>11966.17</td><td>11454.38</td><td>11413.82</td><td>10944.97</td><td>11308.99</td><td>10315.62</td><td> 9660.44</td><td>10850.14</td><td>11382.23</td><td>10743.01</td><td> 9798.11</td></tr>\n",
       "\t<tr><th scope=row>2016</th><td> 9495.40</td><td> 9965.51</td><td>10038.97</td><td>10262.74</td><td> 9680.09</td><td>10337.50</td><td>10592.69</td><td>10511.02</td><td>10665.01</td><td>10640.30</td><td>11481.06</td><td>11535.31</td></tr>\n",
       "\t<tr><th scope=row>2017</th><td>11834.41</td><td>12312.87</td><td>12438.01</td><td>12615.06</td><td>12416.19</td><td>12437.13</td><td>        </td><td>        </td><td>        </td><td>        </td><td>        </td><td>        </td></tr>\n",
       "</tbody>\n",
       "</table>\n"
      ],
      "text/latex": [
       "A Time Series: 28 × 12\n",
       "\\begin{tabular}{r|llllllllllll}\n",
       "  & Jan & Feb & Mar & Apr & May & Jun & Jul & Aug & Sep & Oct & Nov & Dec\\\\\n",
       "\\hline\n",
       "\t1990 &          &          &          &          &          &          &          &          &          &          &  1398.20 &  1420.10\\\\\n",
       "\t1991 &  1542.10 &  1522.80 &  1605.80 &  1704.10 &  1622.20 &  1622.30 &  1650.50 &  1607.00 &  1582.10 &  1566.60 &  1578.00 &  1687.50\\\\\n",
       "\t1992 &  1745.10 &  1717.90 &  1734.00 &  1803.20 &  1752.60 &  1615.40 &  1541.30 &  1466.40 &  1492.30 &  1544.30 &  1545.10 &  1571.90\\\\\n",
       "\t1993 &  1684.40 &  1684.20 &  1627.20 &  1631.90 &  1697.60 &  1803.20 &  1944.90 &  1915.70 &  2069.00 &  2057.80 &  2266.70 &  2177.50\\\\\n",
       "\t1994 &  2091.60 &  2133.10 &  2246.00 &  2127.70 &  2025.30 &  2146.60 &  2212.90 &  2011.80 &  2071.60 &  2048.30 &  2106.60 &  2021.30\\\\\n",
       "\t1995 &  2102.20 &  1922.60 &  2015.90 &  2092.20 &  2083.90 &  2218.70 &  2238.30 &  2187.00 &  2167.90 &  2242.80 &  2253.90 &  2470.10\\\\\n",
       "\t1996 &  2473.60 &  2485.90 &  2505.30 &  2542.80 &  2561.40 &  2473.40 &  2543.80 &  2651.90 &  2659.30 &  2845.50 &  2888.70 &  3035.20\\\\\n",
       "\t1997 &  3259.60 &  3429.10 &  3438.10 &  3562.70 &  3766.90 &  4405.50 &  3919.80 &  4154.90 &  3753.70 &  3972.10 &  4224.30 &  4442.50\\\\\n",
       "\t1998 &  4693.90 &  5097.30 &  5107.44 &  5569.08 &  5897.44 &  5873.92 &  4833.89 &  4474.51 &  4671.12 &  5022.70 &  5002.39 &  5159.96\\\\\n",
       "\t1999 &  4911.81 &  4884.20 &  5393.11 &  5069.83 &  5378.52 &  5101.87 &  5270.77 &  5149.83 &  5525.40 &  5896.04 &  6958.14 &  6835.60\\\\\n",
       "\t2000 &  7644.55 &  7599.39 &  7414.68 &  7109.67 &  6882.44 &  7190.37 &  7244.79 &  6798.12 &  7077.44 &  6372.33 &  6433.61 &  6795.14\\\\\n",
       "\t2001 &  6208.24 &  5829.95 &  6264.51 &  6123.26 &  6058.38 &  5861.19 &  5188.17 &  4308.15 &  4559.13 &  4989.91 &  5160.10 &  5107.61\\\\\n",
       "\t2002 &  5039.08 &  5397.29 &  5041.20 &  4818.30 &  4382.56 &  3700.14 &  3712.94 &  2769.03 &  3152.85 &  3320.32 &  2892.63 &  2747.83\\\\\n",
       "\t2003 &  2547.05 &  2423.87 &  2942.04 &  2982.68 &  3220.58 &  3487.86 &  3484.58 &  3256.78 &  3655.99 &  3745.95 &  3965.16 &  4058.60\\\\\n",
       "\t2004 &  4018.16 &  3856.70 &  3985.21 &  3921.41 &  4052.73 &  3895.61 &  3785.21 &  3892.90 &  3960.25 &  4126.00 &  4256.08 &  4254.85\\\\\n",
       "\t2005 &  4350.49 &  4348.77 &  4184.84 &  4460.63 &  4586.28 &  4886.50 &  4829.69 &  5044.12 &  4929.07 &  5193.40 &  5408.26 &  5674.15\\\\\n",
       "\t2006 &  5796.04 &  5970.08 &  6009.89 &  5692.86 &  5683.31 &  5681.97 &  5859.57 &  6004.33 &  6268.92 &  6309.19 &  6596.92 &  6789.11\\\\\n",
       "\t2007 &  6715.44 &  6917.03 &  7408.87 &  7883.04 &  8007.32 &  7584.14 &  7638.17 &  7861.51 &  8019.22 &  7870.52 &  8067.32 &  6851.75\\\\\n",
       "\t2008 &  6748.13 &  6534.97 &  6948.82 &  7096.79 &  6418.32 &  6479.56 &  6422.30 &  5831.02 &  4987.97 &  4669.44 &  4810.20 &  4338.35\\\\\n",
       "\t2009 &  3843.74 &  4084.76 &  4769.45 &  4940.82 &  4808.64 &  5332.14 &  5458.04 &  5675.16 &  5414.96 &  5625.95 &  5957.43 &  5608.79\\\\\n",
       "\t2010 &  5598.46 &  6153.55 &  6135.70 &  5964.33 &  5965.52 &  6147.97 &  5925.22 &  6229.02 &  6601.37 &  6688.49 &  6914.19 &  7077.48\\\\\n",
       "\t2011 &  7272.32 &  7041.31 &  7514.46 &  7293.69 &  7376.24 &  7158.77 &  5784.85 &  5502.02 &  6141.34 &  6088.84 &  5898.35 &  6458.91\\\\\n",
       "\t2012 &  6856.08 &  6946.83 &  6761.19 &  6264.38 &  6416.28 &  6772.26 &  6970.79 &  7216.15 &  7260.63 &  7405.50 &  7612.39 &  7776.05\\\\\n",
       "\t2013 &  7741.70 &  7795.31 &  7913.71 &  8348.84 &  7959.22 &  8275.97 &  8103.15 &  8594.40 &  9033.92 &  9405.30 &  9552.16 &  9306.48\\\\\n",
       "\t2014 &  9692.08 &  9555.91 &  9603.23 &  9943.27 &  9833.07 &  9407.48 &  9470.17 &  9474.30 &  9326.87 &  9980.85 &  9805.55 & 10694.32\\\\\n",
       "\t2015 & 11401.66 & 11966.17 & 11454.38 & 11413.82 & 10944.97 & 11308.99 & 10315.62 &  9660.44 & 10850.14 & 11382.23 & 10743.01 &  9798.11\\\\\n",
       "\t2016 &  9495.40 &  9965.51 & 10038.97 & 10262.74 &  9680.09 & 10337.50 & 10592.69 & 10511.02 & 10665.01 & 10640.30 & 11481.06 & 11535.31\\\\\n",
       "\t2017 & 11834.41 & 12312.87 & 12438.01 & 12615.06 & 12416.19 & 12437.13 &          &          &          &          &          &         \\\\\n",
       "\\end{tabular}\n"
      ],
      "text/markdown": [
       "\n",
       "A Time Series: 28 × 12\n",
       "\n",
       "| <!--/--> | Jan | Feb | Mar | Apr | May | Jun | Jul | Aug | Sep | Oct | Nov | Dec |\n",
       "|---|---|---|---|---|---|---|---|---|---|---|---|---|\n",
       "| 1990 | <!----> | <!----> | <!----> | <!----> | <!----> | <!----> | <!----> | <!----> | <!----> | <!----> |  1398.20 |  1420.10 |\n",
       "| 1991 |  1542.10 |  1522.80 |  1605.80 |  1704.10 |  1622.20 |  1622.30 |  1650.50 |  1607.00 |  1582.10 |  1566.60 |  1578.00 |  1687.50 |\n",
       "| 1992 |  1745.10 |  1717.90 |  1734.00 |  1803.20 |  1752.60 |  1615.40 |  1541.30 |  1466.40 |  1492.30 |  1544.30 |  1545.10 |  1571.90 |\n",
       "| 1993 |  1684.40 |  1684.20 |  1627.20 |  1631.90 |  1697.60 |  1803.20 |  1944.90 |  1915.70 |  2069.00 |  2057.80 |  2266.70 |  2177.50 |\n",
       "| 1994 |  2091.60 |  2133.10 |  2246.00 |  2127.70 |  2025.30 |  2146.60 |  2212.90 |  2011.80 |  2071.60 |  2048.30 |  2106.60 |  2021.30 |\n",
       "| 1995 |  2102.20 |  1922.60 |  2015.90 |  2092.20 |  2083.90 |  2218.70 |  2238.30 |  2187.00 |  2167.90 |  2242.80 |  2253.90 |  2470.10 |\n",
       "| 1996 |  2473.60 |  2485.90 |  2505.30 |  2542.80 |  2561.40 |  2473.40 |  2543.80 |  2651.90 |  2659.30 |  2845.50 |  2888.70 |  3035.20 |\n",
       "| 1997 |  3259.60 |  3429.10 |  3438.10 |  3562.70 |  3766.90 |  4405.50 |  3919.80 |  4154.90 |  3753.70 |  3972.10 |  4224.30 |  4442.50 |\n",
       "| 1998 |  4693.90 |  5097.30 |  5107.44 |  5569.08 |  5897.44 |  5873.92 |  4833.89 |  4474.51 |  4671.12 |  5022.70 |  5002.39 |  5159.96 |\n",
       "| 1999 |  4911.81 |  4884.20 |  5393.11 |  5069.83 |  5378.52 |  5101.87 |  5270.77 |  5149.83 |  5525.40 |  5896.04 |  6958.14 |  6835.60 |\n",
       "| 2000 |  7644.55 |  7599.39 |  7414.68 |  7109.67 |  6882.44 |  7190.37 |  7244.79 |  6798.12 |  7077.44 |  6372.33 |  6433.61 |  6795.14 |\n",
       "| 2001 |  6208.24 |  5829.95 |  6264.51 |  6123.26 |  6058.38 |  5861.19 |  5188.17 |  4308.15 |  4559.13 |  4989.91 |  5160.10 |  5107.61 |\n",
       "| 2002 |  5039.08 |  5397.29 |  5041.20 |  4818.30 |  4382.56 |  3700.14 |  3712.94 |  2769.03 |  3152.85 |  3320.32 |  2892.63 |  2747.83 |\n",
       "| 2003 |  2547.05 |  2423.87 |  2942.04 |  2982.68 |  3220.58 |  3487.86 |  3484.58 |  3256.78 |  3655.99 |  3745.95 |  3965.16 |  4058.60 |\n",
       "| 2004 |  4018.16 |  3856.70 |  3985.21 |  3921.41 |  4052.73 |  3895.61 |  3785.21 |  3892.90 |  3960.25 |  4126.00 |  4256.08 |  4254.85 |\n",
       "| 2005 |  4350.49 |  4348.77 |  4184.84 |  4460.63 |  4586.28 |  4886.50 |  4829.69 |  5044.12 |  4929.07 |  5193.40 |  5408.26 |  5674.15 |\n",
       "| 2006 |  5796.04 |  5970.08 |  6009.89 |  5692.86 |  5683.31 |  5681.97 |  5859.57 |  6004.33 |  6268.92 |  6309.19 |  6596.92 |  6789.11 |\n",
       "| 2007 |  6715.44 |  6917.03 |  7408.87 |  7883.04 |  8007.32 |  7584.14 |  7638.17 |  7861.51 |  8019.22 |  7870.52 |  8067.32 |  6851.75 |\n",
       "| 2008 |  6748.13 |  6534.97 |  6948.82 |  7096.79 |  6418.32 |  6479.56 |  6422.30 |  5831.02 |  4987.97 |  4669.44 |  4810.20 |  4338.35 |\n",
       "| 2009 |  3843.74 |  4084.76 |  4769.45 |  4940.82 |  4808.64 |  5332.14 |  5458.04 |  5675.16 |  5414.96 |  5625.95 |  5957.43 |  5608.79 |\n",
       "| 2010 |  5598.46 |  6153.55 |  6135.70 |  5964.33 |  5965.52 |  6147.97 |  5925.22 |  6229.02 |  6601.37 |  6688.49 |  6914.19 |  7077.48 |\n",
       "| 2011 |  7272.32 |  7041.31 |  7514.46 |  7293.69 |  7376.24 |  7158.77 |  5784.85 |  5502.02 |  6141.34 |  6088.84 |  5898.35 |  6458.91 |\n",
       "| 2012 |  6856.08 |  6946.83 |  6761.19 |  6264.38 |  6416.28 |  6772.26 |  6970.79 |  7216.15 |  7260.63 |  7405.50 |  7612.39 |  7776.05 |\n",
       "| 2013 |  7741.70 |  7795.31 |  7913.71 |  8348.84 |  7959.22 |  8275.97 |  8103.15 |  8594.40 |  9033.92 |  9405.30 |  9552.16 |  9306.48 |\n",
       "| 2014 |  9692.08 |  9555.91 |  9603.23 |  9943.27 |  9833.07 |  9407.48 |  9470.17 |  9474.30 |  9326.87 |  9980.85 |  9805.55 | 10694.32 |\n",
       "| 2015 | 11401.66 | 11966.17 | 11454.38 | 11413.82 | 10944.97 | 11308.99 | 10315.62 |  9660.44 | 10850.14 | 11382.23 | 10743.01 |  9798.11 |\n",
       "| 2016 |  9495.40 |  9965.51 | 10038.97 | 10262.74 |  9680.09 | 10337.50 | 10592.69 | 10511.02 | 10665.01 | 10640.30 | 11481.06 | 11535.31 |\n",
       "| 2017 | 11834.41 | 12312.87 | 12438.01 | 12615.06 | 12416.19 | 12437.13 | <!----> | <!----> | <!----> | <!----> | <!----> | <!----> |\n",
       "\n"
      ],
      "text/plain": [
       "     Jan      Feb      Mar      Apr      May      Jun      Jul      Aug     \n",
       "1990                                                                        \n",
       "1991  1542.10  1522.80  1605.80  1704.10  1622.20  1622.30  1650.50  1607.00\n",
       "1992  1745.10  1717.90  1734.00  1803.20  1752.60  1615.40  1541.30  1466.40\n",
       "1993  1684.40  1684.20  1627.20  1631.90  1697.60  1803.20  1944.90  1915.70\n",
       "1994  2091.60  2133.10  2246.00  2127.70  2025.30  2146.60  2212.90  2011.80\n",
       "1995  2102.20  1922.60  2015.90  2092.20  2083.90  2218.70  2238.30  2187.00\n",
       "1996  2473.60  2485.90  2505.30  2542.80  2561.40  2473.40  2543.80  2651.90\n",
       "1997  3259.60  3429.10  3438.10  3562.70  3766.90  4405.50  3919.80  4154.90\n",
       "1998  4693.90  5097.30  5107.44  5569.08  5897.44  5873.92  4833.89  4474.51\n",
       "1999  4911.81  4884.20  5393.11  5069.83  5378.52  5101.87  5270.77  5149.83\n",
       "2000  7644.55  7599.39  7414.68  7109.67  6882.44  7190.37  7244.79  6798.12\n",
       "2001  6208.24  5829.95  6264.51  6123.26  6058.38  5861.19  5188.17  4308.15\n",
       "2002  5039.08  5397.29  5041.20  4818.30  4382.56  3700.14  3712.94  2769.03\n",
       "2003  2547.05  2423.87  2942.04  2982.68  3220.58  3487.86  3484.58  3256.78\n",
       "2004  4018.16  3856.70  3985.21  3921.41  4052.73  3895.61  3785.21  3892.90\n",
       "2005  4350.49  4348.77  4184.84  4460.63  4586.28  4886.50  4829.69  5044.12\n",
       "2006  5796.04  5970.08  6009.89  5692.86  5683.31  5681.97  5859.57  6004.33\n",
       "2007  6715.44  6917.03  7408.87  7883.04  8007.32  7584.14  7638.17  7861.51\n",
       "2008  6748.13  6534.97  6948.82  7096.79  6418.32  6479.56  6422.30  5831.02\n",
       "2009  3843.74  4084.76  4769.45  4940.82  4808.64  5332.14  5458.04  5675.16\n",
       "2010  5598.46  6153.55  6135.70  5964.33  5965.52  6147.97  5925.22  6229.02\n",
       "2011  7272.32  7041.31  7514.46  7293.69  7376.24  7158.77  5784.85  5502.02\n",
       "2012  6856.08  6946.83  6761.19  6264.38  6416.28  6772.26  6970.79  7216.15\n",
       "2013  7741.70  7795.31  7913.71  8348.84  7959.22  8275.97  8103.15  8594.40\n",
       "2014  9692.08  9555.91  9603.23  9943.27  9833.07  9407.48  9470.17  9474.30\n",
       "2015 11401.66 11966.17 11454.38 11413.82 10944.97 11308.99 10315.62  9660.44\n",
       "2016  9495.40  9965.51 10038.97 10262.74  9680.09 10337.50 10592.69 10511.02\n",
       "2017 11834.41 12312.87 12438.01 12615.06 12416.19 12437.13                  \n",
       "     Sep      Oct      Nov      Dec     \n",
       "1990                    1398.20  1420.10\n",
       "1991  1582.10  1566.60  1578.00  1687.50\n",
       "1992  1492.30  1544.30  1545.10  1571.90\n",
       "1993  2069.00  2057.80  2266.70  2177.50\n",
       "1994  2071.60  2048.30  2106.60  2021.30\n",
       "1995  2167.90  2242.80  2253.90  2470.10\n",
       "1996  2659.30  2845.50  2888.70  3035.20\n",
       "1997  3753.70  3972.10  4224.30  4442.50\n",
       "1998  4671.12  5022.70  5002.39  5159.96\n",
       "1999  5525.40  5896.04  6958.14  6835.60\n",
       "2000  7077.44  6372.33  6433.61  6795.14\n",
       "2001  4559.13  4989.91  5160.10  5107.61\n",
       "2002  3152.85  3320.32  2892.63  2747.83\n",
       "2003  3655.99  3745.95  3965.16  4058.60\n",
       "2004  3960.25  4126.00  4256.08  4254.85\n",
       "2005  4929.07  5193.40  5408.26  5674.15\n",
       "2006  6268.92  6309.19  6596.92  6789.11\n",
       "2007  8019.22  7870.52  8067.32  6851.75\n",
       "2008  4987.97  4669.44  4810.20  4338.35\n",
       "2009  5414.96  5625.95  5957.43  5608.79\n",
       "2010  6601.37  6688.49  6914.19  7077.48\n",
       "2011  6141.34  6088.84  5898.35  6458.91\n",
       "2012  7260.63  7405.50  7612.39  7776.05\n",
       "2013  9033.92  9405.30  9552.16  9306.48\n",
       "2014  9326.87  9980.85  9805.55 10694.32\n",
       "2015 10850.14 11382.23 10743.01  9798.11\n",
       "2016 10665.01 10640.30 11481.06 11535.31\n",
       "2017                                    "
      ]
     },
     "metadata": {},
     "output_type": "display_data"
    }
   ],
   "source": [
    "dax <- dax_data %>%\n",
    "        ts(start = c(1990, 11), frequency = 12)\n",
    "\n",
    "dax"
   ]
  },
  {
   "cell_type": "markdown",
   "metadata": {
    "slideshow": {
     "slide_type": "subslide"
    }
   },
   "source": [
    "### Simple Average"
   ]
  },
  {
   "cell_type": "code",
   "execution_count": 13,
   "metadata": {},
   "outputs": [
    {
     "data": {
      "text/html": [
       "5465.2468483125"
      ],
      "text/latex": [
       "5465.2468483125"
      ],
      "text/markdown": [
       "5465.2468483125"
      ],
      "text/plain": [
       "[1] 5465.247"
      ]
     },
     "metadata": {},
     "output_type": "display_data"
    }
   ],
   "source": [
    "SA <- mean(dax_data$x)\n",
    "SA"
   ]
  },
  {
   "cell_type": "code",
   "execution_count": 14,
   "metadata": {},
   "outputs": [
    {
     "data": {
      "image/png": "[encoded data removed]",
      "text/plain": [
       "plot without title"
      ]
     },
     "metadata": {},
     "output_type": "display_data"
    }
   ],
   "source": [
    "options(repr.plot.width=6, repr.plot.height=4)\n",
    "plot(dax)\n",
    "abline(h =SA, col = \"orange\")"
   ]
  },
  {
   "cell_type": "markdown",
   "metadata": {
    "slideshow": {
     "slide_type": "subslide"
    }
   },
   "source": [
    "### Moving Average\n",
    "\n",
    "Calculate the moving average with 3, 10, 20 and 100 averaging periods. Visualize the DAX index as well as the moving averages in one plot using different colors. \n"
   ]
  },
  {
   "cell_type": "code",
   "execution_count": 15,
   "metadata": {},
   "outputs": [
    {
     "data": {
      "image/png": "[encoded data removed]",
      "text/plain": [
       "plot without title"
      ]
     },
     "metadata": {},
     "output_type": "display_data"
    }
   ],
   "source": [
    "options(repr.plot.width=6, repr.plot.height=4)\n",
    "\n",
    "MA3 <- SMA(dax, 3)\n",
    "MA10 <- SMA(dax, 10)\n",
    "MA20 <- SMA(dax, 20)\n",
    "MA100 <- SMA(dax, 100)\n",
    "\n",
    "plot(dax)\n",
    "abline(h =SA, col = \"orange\")\n",
    "lines(MA3, col = \"green\")\n",
    "lines(MA10, col = \"red\")\n",
    "lines(MA20, col = \"blue\")\n",
    "lines(MA100, col =\"purple\")"
   ]
  },
  {
   "cell_type": "markdown",
   "metadata": {
    "slideshow": {
     "slide_type": "subslide"
    }
   },
   "source": [
    "### Weighted moving average\n",
    "\n",
    "Using the weighted moving average, the sliding window values are given different weights, typically so that more recent points matter more."
   ]
  },
  {
   "cell_type": "code",
   "execution_count": 16,
   "metadata": {},
   "outputs": [],
   "source": [
    "n= 3\n",
    "WMA10 <- WMA(dax, n = n, wts = c(0.6,0.3,0.1))"
   ]
  },
  {
   "cell_type": "code",
   "execution_count": 17,
   "metadata": {},
   "outputs": [
    {
     "data": {
      "image/png": "[encoded data removed]",
      "text/plain": [
       "plot without title"
      ]
     },
     "metadata": {},
     "output_type": "display_data"
    }
   ],
   "source": [
    "options(repr.plot.width=6, repr.plot.height=4)\n",
    "plot(dax)\n",
    "lines(MA3, col = \"green\")\n",
    "lines(WMA10, col =\"orange\")"
   ]
  },
  {
   "cell_type": "markdown",
   "metadata": {
    "slideshow": {
     "slide_type": "subslide"
    }
   },
   "source": [
    "### Single Exponential Smoothing\n",
    "Here is where things get interesting. Imagine a weighted average where we consider all of the data points, while assigning exponentially smaller weights as we go back in time. For example if we started with 0.9, our weights would be (going back in time):\n",
    "\n",
    "- 0.91,0.92,0.93,0.94,0.95,0.96,...\n",
    "- 0.9,0.81,0.729,0.6561,0.59049,0.531441,...\n",
    "\n",
    "In some way this is very similar to the weighted average above, only the weights are decaying uniformly. The smaller the starting weight, the faster it approaches zero.\n",
    "\n",
    "But there is a problem: weights do not add up to 1.\n",
    "We are solving this with a succinct and elegant formula:\n",
    "$$\\hat{Y}_{t}=\\alpha Y_t+(1−\\alpha)\\hat{Y}_{t−1}$$\n",
    "\n",
    "For details see: https://grisha.org/blog/2016/01/29/triple-exponential-smoothing-forecasting/"
   ]
  },
  {
   "cell_type": "markdown",
   "metadata": {
    "slideshow": {
     "slide_type": "subslide"
    }
   },
   "source": [
    "Determine the components of the DAX time series (trend, seasonality, random) and visualize them. "
   ]
  },
  {
   "cell_type": "code",
   "execution_count": 18,
   "metadata": {
    "scrolled": false
   },
   "outputs": [
    {
     "data": {
      "image/png": "[encoded data removed]",
      "text/plain": [
       "plot without title"
      ]
     },
     "metadata": {},
     "output_type": "display_data"
    }
   ],
   "source": [
    "options(repr.plot.width=6, repr.plot.height=5)\n",
    "dax_decompose <- decompose(dax)\n",
    "plot(dax_decompose)"
   ]
  },
  {
   "cell_type": "markdown",
   "metadata": {
    "slideshow": {
     "slide_type": "subslide"
    }
   },
   "source": [
    "Which months are good / bad for stock investors in Germany?"
   ]
  },
  {
   "cell_type": "code",
   "execution_count": 19,
   "metadata": {
    "scrolled": true
   },
   "outputs": [
    {
     "data": {
      "text/html": [
       "<table>\n",
       "<caption>A Time Series: 28 × 12</caption>\n",
       "<thead>\n",
       "\t<tr><th></th><th scope=col>Jan</th><th scope=col>Feb</th><th scope=col>Mar</th><th scope=col>Apr</th><th scope=col>May</th><th scope=col>Jun</th><th scope=col>Jul</th><th scope=col>Aug</th><th scope=col>Sep</th><th scope=col>Oct</th><th scope=col>Nov</th><th scope=col>Dec</th></tr>\n",
       "</thead>\n",
       "<tbody>\n",
       "\t<tr><th scope=row>1990</th><td>           </td><td>           </td><td>           </td><td>           </td><td>           </td><td>           </td><td>           </td><td>           </td><td>           </td><td>           </td><td>  43.612867</td><td>   4.989188</td></tr>\n",
       "\t<tr><th scope=row>1991</th><td>  23.281402</td><td>  65.972495</td><td> 144.654274</td><td> 132.862799</td><td>  42.272824</td><td>  75.577270</td><td>-104.327115</td><td>-241.751465</td><td>-136.018342</td><td> -51.126198</td><td>  43.612867</td><td>   4.989188</td></tr>\n",
       "\t<tr><th scope=row>1992</th><td>  23.281402</td><td>  65.972495</td><td> 144.654274</td><td> 132.862799</td><td>  42.272824</td><td>  75.577270</td><td>-104.327115</td><td>-241.751465</td><td>-136.018342</td><td> -51.126198</td><td>  43.612867</td><td>   4.989188</td></tr>\n",
       "\t<tr><th scope=row>1993</th><td>  23.281402</td><td>  65.972495</td><td> 144.654274</td><td> 132.862799</td><td>  42.272824</td><td>  75.577270</td><td>-104.327115</td><td>-241.751465</td><td>-136.018342</td><td> -51.126198</td><td>  43.612867</td><td>   4.989188</td></tr>\n",
       "\t<tr><th scope=row>1994</th><td>  23.281402</td><td>  65.972495</td><td> 144.654274</td><td> 132.862799</td><td>  42.272824</td><td>  75.577270</td><td>-104.327115</td><td>-241.751465</td><td>-136.018342</td><td> -51.126198</td><td>  43.612867</td><td>   4.989188</td></tr>\n",
       "\t<tr><th scope=row>1995</th><td>  23.281402</td><td>  65.972495</td><td> 144.654274</td><td> 132.862799</td><td>  42.272824</td><td>  75.577270</td><td>-104.327115</td><td>-241.751465</td><td>-136.018342</td><td> -51.126198</td><td>  43.612867</td><td>   4.989188</td></tr>\n",
       "\t<tr><th scope=row>1996</th><td>  23.281402</td><td>  65.972495</td><td> 144.654274</td><td> 132.862799</td><td>  42.272824</td><td>  75.577270</td><td>-104.327115</td><td>-241.751465</td><td>-136.018342</td><td> -51.126198</td><td>  43.612867</td><td>   4.989188</td></tr>\n",
       "\t<tr><th scope=row>1997</th><td>  23.281402</td><td>  65.972495</td><td> 144.654274</td><td> 132.862799</td><td>  42.272824</td><td>  75.577270</td><td>-104.327115</td><td>-241.751465</td><td>-136.018342</td><td> -51.126198</td><td>  43.612867</td><td>   4.989188</td></tr>\n",
       "\t<tr><th scope=row>1998</th><td>  23.281402</td><td>  65.972495</td><td> 144.654274</td><td> 132.862799</td><td>  42.272824</td><td>  75.577270</td><td>-104.327115</td><td>-241.751465</td><td>-136.018342</td><td> -51.126198</td><td>  43.612867</td><td>   4.989188</td></tr>\n",
       "\t<tr><th scope=row>1999</th><td>  23.281402</td><td>  65.972495</td><td> 144.654274</td><td> 132.862799</td><td>  42.272824</td><td>  75.577270</td><td>-104.327115</td><td>-241.751465</td><td>-136.018342</td><td> -51.126198</td><td>  43.612867</td><td>   4.989188</td></tr>\n",
       "\t<tr><th scope=row>2000</th><td>  23.281402</td><td>  65.972495</td><td> 144.654274</td><td> 132.862799</td><td>  42.272824</td><td>  75.577270</td><td>-104.327115</td><td>-241.751465</td><td>-136.018342</td><td> -51.126198</td><td>  43.612867</td><td>   4.989188</td></tr>\n",
       "\t<tr><th scope=row>2001</th><td>  23.281402</td><td>  65.972495</td><td> 144.654274</td><td> 132.862799</td><td>  42.272824</td><td>  75.577270</td><td>-104.327115</td><td>-241.751465</td><td>-136.018342</td><td> -51.126198</td><td>  43.612867</td><td>   4.989188</td></tr>\n",
       "\t<tr><th scope=row>2002</th><td>  23.281402</td><td>  65.972495</td><td> 144.654274</td><td> 132.862799</td><td>  42.272824</td><td>  75.577270</td><td>-104.327115</td><td>-241.751465</td><td>-136.018342</td><td> -51.126198</td><td>  43.612867</td><td>   4.989188</td></tr>\n",
       "\t<tr><th scope=row>2003</th><td>  23.281402</td><td>  65.972495</td><td> 144.654274</td><td> 132.862799</td><td>  42.272824</td><td>  75.577270</td><td>-104.327115</td><td>-241.751465</td><td>-136.018342</td><td> -51.126198</td><td>  43.612867</td><td>   4.989188</td></tr>\n",
       "\t<tr><th scope=row>2004</th><td>  23.281402</td><td>  65.972495</td><td> 144.654274</td><td> 132.862799</td><td>  42.272824</td><td>  75.577270</td><td>-104.327115</td><td>-241.751465</td><td>-136.018342</td><td> -51.126198</td><td>  43.612867</td><td>   4.989188</td></tr>\n",
       "\t<tr><th scope=row>2005</th><td>  23.281402</td><td>  65.972495</td><td> 144.654274</td><td> 132.862799</td><td>  42.272824</td><td>  75.577270</td><td>-104.327115</td><td>-241.751465</td><td>-136.018342</td><td> -51.126198</td><td>  43.612867</td><td>   4.989188</td></tr>\n",
       "\t<tr><th scope=row>2006</th><td>  23.281402</td><td>  65.972495</td><td> 144.654274</td><td> 132.862799</td><td>  42.272824</td><td>  75.577270</td><td>-104.327115</td><td>-241.751465</td><td>-136.018342</td><td> -51.126198</td><td>  43.612867</td><td>   4.989188</td></tr>\n",
       "\t<tr><th scope=row>2007</th><td>  23.281402</td><td>  65.972495</td><td> 144.654274</td><td> 132.862799</td><td>  42.272824</td><td>  75.577270</td><td>-104.327115</td><td>-241.751465</td><td>-136.018342</td><td> -51.126198</td><td>  43.612867</td><td>   4.989188</td></tr>\n",
       "\t<tr><th scope=row>2008</th><td>  23.281402</td><td>  65.972495</td><td> 144.654274</td><td> 132.862799</td><td>  42.272824</td><td>  75.577270</td><td>-104.327115</td><td>-241.751465</td><td>-136.018342</td><td> -51.126198</td><td>  43.612867</td><td>   4.989188</td></tr>\n",
       "\t<tr><th scope=row>2009</th><td>  23.281402</td><td>  65.972495</td><td> 144.654274</td><td> 132.862799</td><td>  42.272824</td><td>  75.577270</td><td>-104.327115</td><td>-241.751465</td><td>-136.018342</td><td> -51.126198</td><td>  43.612867</td><td>   4.989188</td></tr>\n",
       "\t<tr><th scope=row>2010</th><td>  23.281402</td><td>  65.972495</td><td> 144.654274</td><td> 132.862799</td><td>  42.272824</td><td>  75.577270</td><td>-104.327115</td><td>-241.751465</td><td>-136.018342</td><td> -51.126198</td><td>  43.612867</td><td>   4.989188</td></tr>\n",
       "\t<tr><th scope=row>2011</th><td>  23.281402</td><td>  65.972495</td><td> 144.654274</td><td> 132.862799</td><td>  42.272824</td><td>  75.577270</td><td>-104.327115</td><td>-241.751465</td><td>-136.018342</td><td> -51.126198</td><td>  43.612867</td><td>   4.989188</td></tr>\n",
       "\t<tr><th scope=row>2012</th><td>  23.281402</td><td>  65.972495</td><td> 144.654274</td><td> 132.862799</td><td>  42.272824</td><td>  75.577270</td><td>-104.327115</td><td>-241.751465</td><td>-136.018342</td><td> -51.126198</td><td>  43.612867</td><td>   4.989188</td></tr>\n",
       "\t<tr><th scope=row>2013</th><td>  23.281402</td><td>  65.972495</td><td> 144.654274</td><td> 132.862799</td><td>  42.272824</td><td>  75.577270</td><td>-104.327115</td><td>-241.751465</td><td>-136.018342</td><td> -51.126198</td><td>  43.612867</td><td>   4.989188</td></tr>\n",
       "\t<tr><th scope=row>2014</th><td>  23.281402</td><td>  65.972495</td><td> 144.654274</td><td> 132.862799</td><td>  42.272824</td><td>  75.577270</td><td>-104.327115</td><td>-241.751465</td><td>-136.018342</td><td> -51.126198</td><td>  43.612867</td><td>   4.989188</td></tr>\n",
       "\t<tr><th scope=row>2015</th><td>  23.281402</td><td>  65.972495</td><td> 144.654274</td><td> 132.862799</td><td>  42.272824</td><td>  75.577270</td><td>-104.327115</td><td>-241.751465</td><td>-136.018342</td><td> -51.126198</td><td>  43.612867</td><td>   4.989188</td></tr>\n",
       "\t<tr><th scope=row>2016</th><td>  23.281402</td><td>  65.972495</td><td> 144.654274</td><td> 132.862799</td><td>  42.272824</td><td>  75.577270</td><td>-104.327115</td><td>-241.751465</td><td>-136.018342</td><td> -51.126198</td><td>  43.612867</td><td>   4.989188</td></tr>\n",
       "\t<tr><th scope=row>2017</th><td>  23.281402</td><td>  65.972495</td><td> 144.654274</td><td> 132.862799</td><td>  42.272824</td><td>  75.577270</td><td>           </td><td>           </td><td>           </td><td>           </td><td>           </td><td>           </td></tr>\n",
       "</tbody>\n",
       "</table>\n"
      ],
      "text/latex": [
       "A Time Series: 28 × 12\n",
       "\\begin{tabular}{r|llllllllllll}\n",
       "  & Jan & Feb & Mar & Apr & May & Jun & Jul & Aug & Sep & Oct & Nov & Dec\\\\\n",
       "\\hline\n",
       "\t1990 &             &             &             &             &             &             &             &             &             &             &   43.612867 &    4.989188\\\\\n",
       "\t1991 &   23.281402 &   65.972495 &  144.654274 &  132.862799 &   42.272824 &   75.577270 & -104.327115 & -241.751465 & -136.018342 &  -51.126198 &   43.612867 &    4.989188\\\\\n",
       "\t1992 &   23.281402 &   65.972495 &  144.654274 &  132.862799 &   42.272824 &   75.577270 & -104.327115 & -241.751465 & -136.018342 &  -51.126198 &   43.612867 &    4.989188\\\\\n",
       "\t1993 &   23.281402 &   65.972495 &  144.654274 &  132.862799 &   42.272824 &   75.577270 & -104.327115 & -241.751465 & -136.018342 &  -51.126198 &   43.612867 &    4.989188\\\\\n",
       "\t1994 &   23.281402 &   65.972495 &  144.654274 &  132.862799 &   42.272824 &   75.577270 & -104.327115 & -241.751465 & -136.018342 &  -51.126198 &   43.612867 &    4.989188\\\\\n",
       "\t1995 &   23.281402 &   65.972495 &  144.654274 &  132.862799 &   42.272824 &   75.577270 & -104.327115 & -241.751465 & -136.018342 &  -51.126198 &   43.612867 &    4.989188\\\\\n",
       "\t1996 &   23.281402 &   65.972495 &  144.654274 &  132.862799 &   42.272824 &   75.577270 & -104.327115 & -241.751465 & -136.018342 &  -51.126198 &   43.612867 &    4.989188\\\\\n",
       "\t1997 &   23.281402 &   65.972495 &  144.654274 &  132.862799 &   42.272824 &   75.577270 & -104.327115 & -241.751465 & -136.018342 &  -51.126198 &   43.612867 &    4.989188\\\\\n",
       "\t1998 &   23.281402 &   65.972495 &  144.654274 &  132.862799 &   42.272824 &   75.577270 & -104.327115 & -241.751465 & -136.018342 &  -51.126198 &   43.612867 &    4.989188\\\\\n",
       "\t1999 &   23.281402 &   65.972495 &  144.654274 &  132.862799 &   42.272824 &   75.577270 & -104.327115 & -241.751465 & -136.018342 &  -51.126198 &   43.612867 &    4.989188\\\\\n",
       "\t2000 &   23.281402 &   65.972495 &  144.654274 &  132.862799 &   42.272824 &   75.577270 & -104.327115 & -241.751465 & -136.018342 &  -51.126198 &   43.612867 &    4.989188\\\\\n",
       "\t2001 &   23.281402 &   65.972495 &  144.654274 &  132.862799 &   42.272824 &   75.577270 & -104.327115 & -241.751465 & -136.018342 &  -51.126198 &   43.612867 &    4.989188\\\\\n",
       "\t2002 &   23.281402 &   65.972495 &  144.654274 &  132.862799 &   42.272824 &   75.577270 & -104.327115 & -241.751465 & -136.018342 &  -51.126198 &   43.612867 &    4.989188\\\\\n",
       "\t2003 &   23.281402 &   65.972495 &  144.654274 &  132.862799 &   42.272824 &   75.577270 & -104.327115 & -241.751465 & -136.018342 &  -51.126198 &   43.612867 &    4.989188\\\\\n",
       "\t2004 &   23.281402 &   65.972495 &  144.654274 &  132.862799 &   42.272824 &   75.577270 & -104.327115 & -241.751465 & -136.018342 &  -51.126198 &   43.612867 &    4.989188\\\\\n",
       "\t2005 &   23.281402 &   65.972495 &  144.654274 &  132.862799 &   42.272824 &   75.577270 & -104.327115 & -241.751465 & -136.018342 &  -51.126198 &   43.612867 &    4.989188\\\\\n",
       "\t2006 &   23.281402 &   65.972495 &  144.654274 &  132.862799 &   42.272824 &   75.577270 & -104.327115 & -241.751465 & -136.018342 &  -51.126198 &   43.612867 &    4.989188\\\\\n",
       "\t2007 &   23.281402 &   65.972495 &  144.654274 &  132.862799 &   42.272824 &   75.577270 & -104.327115 & -241.751465 & -136.018342 &  -51.126198 &   43.612867 &    4.989188\\\\\n",
       "\t2008 &   23.281402 &   65.972495 &  144.654274 &  132.862799 &   42.272824 &   75.577270 & -104.327115 & -241.751465 & -136.018342 &  -51.126198 &   43.612867 &    4.989188\\\\\n",
       "\t2009 &   23.281402 &   65.972495 &  144.654274 &  132.862799 &   42.272824 &   75.577270 & -104.327115 & -241.751465 & -136.018342 &  -51.126198 &   43.612867 &    4.989188\\\\\n",
       "\t2010 &   23.281402 &   65.972495 &  144.654274 &  132.862799 &   42.272824 &   75.577270 & -104.327115 & -241.751465 & -136.018342 &  -51.126198 &   43.612867 &    4.989188\\\\\n",
       "\t2011 &   23.281402 &   65.972495 &  144.654274 &  132.862799 &   42.272824 &   75.577270 & -104.327115 & -241.751465 & -136.018342 &  -51.126198 &   43.612867 &    4.989188\\\\\n",
       "\t2012 &   23.281402 &   65.972495 &  144.654274 &  132.862799 &   42.272824 &   75.577270 & -104.327115 & -241.751465 & -136.018342 &  -51.126198 &   43.612867 &    4.989188\\\\\n",
       "\t2013 &   23.281402 &   65.972495 &  144.654274 &  132.862799 &   42.272824 &   75.577270 & -104.327115 & -241.751465 & -136.018342 &  -51.126198 &   43.612867 &    4.989188\\\\\n",
       "\t2014 &   23.281402 &   65.972495 &  144.654274 &  132.862799 &   42.272824 &   75.577270 & -104.327115 & -241.751465 & -136.018342 &  -51.126198 &   43.612867 &    4.989188\\\\\n",
       "\t2015 &   23.281402 &   65.972495 &  144.654274 &  132.862799 &   42.272824 &   75.577270 & -104.327115 & -241.751465 & -136.018342 &  -51.126198 &   43.612867 &    4.989188\\\\\n",
       "\t2016 &   23.281402 &   65.972495 &  144.654274 &  132.862799 &   42.272824 &   75.577270 & -104.327115 & -241.751465 & -136.018342 &  -51.126198 &   43.612867 &    4.989188\\\\\n",
       "\t2017 &   23.281402 &   65.972495 &  144.654274 &  132.862799 &   42.272824 &   75.577270 &             &             &             &             &             &            \\\\\n",
       "\\end{tabular}\n"
      ],
      "text/markdown": [
       "\n",
       "A Time Series: 28 × 12\n",
       "\n",
       "| <!--/--> | Jan | Feb | Mar | Apr | May | Jun | Jul | Aug | Sep | Oct | Nov | Dec |\n",
       "|---|---|---|---|---|---|---|---|---|---|---|---|---|\n",
       "| 1990 | <!----> | <!----> | <!----> | <!----> | <!----> | <!----> | <!----> | <!----> | <!----> | <!----> |   43.612867 |    4.989188 |\n",
       "| 1991 |   23.281402 |   65.972495 |  144.654274 |  132.862799 |   42.272824 |   75.577270 | -104.327115 | -241.751465 | -136.018342 |  -51.126198 |   43.612867 |    4.989188 |\n",
       "| 1992 |   23.281402 |   65.972495 |  144.654274 |  132.862799 |   42.272824 |   75.577270 | -104.327115 | -241.751465 | -136.018342 |  -51.126198 |   43.612867 |    4.989188 |\n",
       "| 1993 |   23.281402 |   65.972495 |  144.654274 |  132.862799 |   42.272824 |   75.577270 | -104.327115 | -241.751465 | -136.018342 |  -51.126198 |   43.612867 |    4.989188 |\n",
       "| 1994 |   23.281402 |   65.972495 |  144.654274 |  132.862799 |   42.272824 |   75.577270 | -104.327115 | -241.751465 | -136.018342 |  -51.126198 |   43.612867 |    4.989188 |\n",
       "| 1995 |   23.281402 |   65.972495 |  144.654274 |  132.862799 |   42.272824 |   75.577270 | -104.327115 | -241.751465 | -136.018342 |  -51.126198 |   43.612867 |    4.989188 |\n",
       "| 1996 |   23.281402 |   65.972495 |  144.654274 |  132.862799 |   42.272824 |   75.577270 | -104.327115 | -241.751465 | -136.018342 |  -51.126198 |   43.612867 |    4.989188 |\n",
       "| 1997 |   23.281402 |   65.972495 |  144.654274 |  132.862799 |   42.272824 |   75.577270 | -104.327115 | -241.751465 | -136.018342 |  -51.126198 |   43.612867 |    4.989188 |\n",
       "| 1998 |   23.281402 |   65.972495 |  144.654274 |  132.862799 |   42.272824 |   75.577270 | -104.327115 | -241.751465 | -136.018342 |  -51.126198 |   43.612867 |    4.989188 |\n",
       "| 1999 |   23.281402 |   65.972495 |  144.654274 |  132.862799 |   42.272824 |   75.577270 | -104.327115 | -241.751465 | -136.018342 |  -51.126198 |   43.612867 |    4.989188 |\n",
       "| 2000 |   23.281402 |   65.972495 |  144.654274 |  132.862799 |   42.272824 |   75.577270 | -104.327115 | -241.751465 | -136.018342 |  -51.126198 |   43.612867 |    4.989188 |\n",
       "| 2001 |   23.281402 |   65.972495 |  144.654274 |  132.862799 |   42.272824 |   75.577270 | -104.327115 | -241.751465 | -136.018342 |  -51.126198 |   43.612867 |    4.989188 |\n",
       "| 2002 |   23.281402 |   65.972495 |  144.654274 |  132.862799 |   42.272824 |   75.577270 | -104.327115 | -241.751465 | -136.018342 |  -51.126198 |   43.612867 |    4.989188 |\n",
       "| 2003 |   23.281402 |   65.972495 |  144.654274 |  132.862799 |   42.272824 |   75.577270 | -104.327115 | -241.751465 | -136.018342 |  -51.126198 |   43.612867 |    4.989188 |\n",
       "| 2004 |   23.281402 |   65.972495 |  144.654274 |  132.862799 |   42.272824 |   75.577270 | -104.327115 | -241.751465 | -136.018342 |  -51.126198 |   43.612867 |    4.989188 |\n",
       "| 2005 |   23.281402 |   65.972495 |  144.654274 |  132.862799 |   42.272824 |   75.577270 | -104.327115 | -241.751465 | -136.018342 |  -51.126198 |   43.612867 |    4.989188 |\n",
       "| 2006 |   23.281402 |   65.972495 |  144.654274 |  132.862799 |   42.272824 |   75.577270 | -104.327115 | -241.751465 | -136.018342 |  -51.126198 |   43.612867 |    4.989188 |\n",
       "| 2007 |   23.281402 |   65.972495 |  144.654274 |  132.862799 |   42.272824 |   75.577270 | -104.327115 | -241.751465 | -136.018342 |  -51.126198 |   43.612867 |    4.989188 |\n",
       "| 2008 |   23.281402 |   65.972495 |  144.654274 |  132.862799 |   42.272824 |   75.577270 | -104.327115 | -241.751465 | -136.018342 |  -51.126198 |   43.612867 |    4.989188 |\n",
       "| 2009 |   23.281402 |   65.972495 |  144.654274 |  132.862799 |   42.272824 |   75.577270 | -104.327115 | -241.751465 | -136.018342 |  -51.126198 |   43.612867 |    4.989188 |\n",
       "| 2010 |   23.281402 |   65.972495 |  144.654274 |  132.862799 |   42.272824 |   75.577270 | -104.327115 | -241.751465 | -136.018342 |  -51.126198 |   43.612867 |    4.989188 |\n",
       "| 2011 |   23.281402 |   65.972495 |  144.654274 |  132.862799 |   42.272824 |   75.577270 | -104.327115 | -241.751465 | -136.018342 |  -51.126198 |   43.612867 |    4.989188 |\n",
       "| 2012 |   23.281402 |   65.972495 |  144.654274 |  132.862799 |   42.272824 |   75.577270 | -104.327115 | -241.751465 | -136.018342 |  -51.126198 |   43.612867 |    4.989188 |\n",
       "| 2013 |   23.281402 |   65.972495 |  144.654274 |  132.862799 |   42.272824 |   75.577270 | -104.327115 | -241.751465 | -136.018342 |  -51.126198 |   43.612867 |    4.989188 |\n",
       "| 2014 |   23.281402 |   65.972495 |  144.654274 |  132.862799 |   42.272824 |   75.577270 | -104.327115 | -241.751465 | -136.018342 |  -51.126198 |   43.612867 |    4.989188 |\n",
       "| 2015 |   23.281402 |   65.972495 |  144.654274 |  132.862799 |   42.272824 |   75.577270 | -104.327115 | -241.751465 | -136.018342 |  -51.126198 |   43.612867 |    4.989188 |\n",
       "| 2016 |   23.281402 |   65.972495 |  144.654274 |  132.862799 |   42.272824 |   75.577270 | -104.327115 | -241.751465 | -136.018342 |  -51.126198 |   43.612867 |    4.989188 |\n",
       "| 2017 |   23.281402 |   65.972495 |  144.654274 |  132.862799 |   42.272824 |   75.577270 | <!----> | <!----> | <!----> | <!----> | <!----> | <!----> |\n",
       "\n"
      ],
      "text/plain": [
       "     Jan         Feb         Mar         Apr         May         Jun        \n",
       "1990                                                                        \n",
       "1991   23.281402   65.972495  144.654274  132.862799   42.272824   75.577270\n",
       "1992   23.281402   65.972495  144.654274  132.862799   42.272824   75.577270\n",
       "1993   23.281402   65.972495  144.654274  132.862799   42.272824   75.577270\n",
       "1994   23.281402   65.972495  144.654274  132.862799   42.272824   75.577270\n",
       "1995   23.281402   65.972495  144.654274  132.862799   42.272824   75.577270\n",
       "1996   23.281402   65.972495  144.654274  132.862799   42.272824   75.577270\n",
       "1997   23.281402   65.972495  144.654274  132.862799   42.272824   75.577270\n",
       "1998   23.281402   65.972495  144.654274  132.862799   42.272824   75.577270\n",
       "1999   23.281402   65.972495  144.654274  132.862799   42.272824   75.577270\n",
       "2000   23.281402   65.972495  144.654274  132.862799   42.272824   75.577270\n",
       "2001   23.281402   65.972495  144.654274  132.862799   42.272824   75.577270\n",
       "2002   23.281402   65.972495  144.654274  132.862799   42.272824   75.577270\n",
       "2003   23.281402   65.972495  144.654274  132.862799   42.272824   75.577270\n",
       "2004   23.281402   65.972495  144.654274  132.862799   42.272824   75.577270\n",
       "2005   23.281402   65.972495  144.654274  132.862799   42.272824   75.577270\n",
       "2006   23.281402   65.972495  144.654274  132.862799   42.272824   75.577270\n",
       "2007   23.281402   65.972495  144.654274  132.862799   42.272824   75.577270\n",
       "2008   23.281402   65.972495  144.654274  132.862799   42.272824   75.577270\n",
       "2009   23.281402   65.972495  144.654274  132.862799   42.272824   75.577270\n",
       "2010   23.281402   65.972495  144.654274  132.862799   42.272824   75.577270\n",
       "2011   23.281402   65.972495  144.654274  132.862799   42.272824   75.577270\n",
       "2012   23.281402   65.972495  144.654274  132.862799   42.272824   75.577270\n",
       "2013   23.281402   65.972495  144.654274  132.862799   42.272824   75.577270\n",
       "2014   23.281402   65.972495  144.654274  132.862799   42.272824   75.577270\n",
       "2015   23.281402   65.972495  144.654274  132.862799   42.272824   75.577270\n",
       "2016   23.281402   65.972495  144.654274  132.862799   42.272824   75.577270\n",
       "2017   23.281402   65.972495  144.654274  132.862799   42.272824   75.577270\n",
       "     Jul         Aug         Sep         Oct         Nov         Dec        \n",
       "1990                                                   43.612867    4.989188\n",
       "1991 -104.327115 -241.751465 -136.018342  -51.126198   43.612867    4.989188\n",
       "1992 -104.327115 -241.751465 -136.018342  -51.126198   43.612867    4.989188\n",
       "1993 -104.327115 -241.751465 -136.018342  -51.126198   43.612867    4.989188\n",
       "1994 -104.327115 -241.751465 -136.018342  -51.126198   43.612867    4.989188\n",
       "1995 -104.327115 -241.751465 -136.018342  -51.126198   43.612867    4.989188\n",
       "1996 -104.327115 -241.751465 -136.018342  -51.126198   43.612867    4.989188\n",
       "1997 -104.327115 -241.751465 -136.018342  -51.126198   43.612867    4.989188\n",
       "1998 -104.327115 -241.751465 -136.018342  -51.126198   43.612867    4.989188\n",
       "1999 -104.327115 -241.751465 -136.018342  -51.126198   43.612867    4.989188\n",
       "2000 -104.327115 -241.751465 -136.018342  -51.126198   43.612867    4.989188\n",
       "2001 -104.327115 -241.751465 -136.018342  -51.126198   43.612867    4.989188\n",
       "2002 -104.327115 -241.751465 -136.018342  -51.126198   43.612867    4.989188\n",
       "2003 -104.327115 -241.751465 -136.018342  -51.126198   43.612867    4.989188\n",
       "2004 -104.327115 -241.751465 -136.018342  -51.126198   43.612867    4.989188\n",
       "2005 -104.327115 -241.751465 -136.018342  -51.126198   43.612867    4.989188\n",
       "2006 -104.327115 -241.751465 -136.018342  -51.126198   43.612867    4.989188\n",
       "2007 -104.327115 -241.751465 -136.018342  -51.126198   43.612867    4.989188\n",
       "2008 -104.327115 -241.751465 -136.018342  -51.126198   43.612867    4.989188\n",
       "2009 -104.327115 -241.751465 -136.018342  -51.126198   43.612867    4.989188\n",
       "2010 -104.327115 -241.751465 -136.018342  -51.126198   43.612867    4.989188\n",
       "2011 -104.327115 -241.751465 -136.018342  -51.126198   43.612867    4.989188\n",
       "2012 -104.327115 -241.751465 -136.018342  -51.126198   43.612867    4.989188\n",
       "2013 -104.327115 -241.751465 -136.018342  -51.126198   43.612867    4.989188\n",
       "2014 -104.327115 -241.751465 -136.018342  -51.126198   43.612867    4.989188\n",
       "2015 -104.327115 -241.751465 -136.018342  -51.126198   43.612867    4.989188\n",
       "2016 -104.327115 -241.751465 -136.018342  -51.126198   43.612867    4.989188\n",
       "2017                                                                        "
      ]
     },
     "metadata": {},
     "output_type": "display_data"
    }
   ],
   "source": [
    "dax_decompose$seasonal"
   ]
  },
  {
   "cell_type": "markdown",
   "metadata": {
    "slideshow": {
     "slide_type": "subslide"
    }
   },
   "source": [
    "### Holt-Winters model\n",
    "\n",
    "The idea behind Holt-Winters model is exponential smoothing applied to both expected value, trend and seasonal effects."
   ]
  },
  {
   "cell_type": "markdown",
   "metadata": {},
   "source": [
    "Use the data above to predict the future stock market. Create an additive Holt-Winters model to predict the DAX. "
   ]
  },
  {
   "cell_type": "code",
   "execution_count": 20,
   "metadata": {},
   "outputs": [
    {
     "data": {
      "image/png": "[encoded data removed]",
      "text/plain": [
       "Plot with title \"Holt-Winters filtering\""
      ]
     },
     "metadata": {},
     "output_type": "display_data"
    }
   ],
   "source": [
    "options(repr.plot.width=6, repr.plot.height=4)\n",
    "additiveModel = HoltWinters(dax, seasonal = \"additive\")\n",
    "plot(additiveModel)"
   ]
  },
  {
   "cell_type": "markdown",
   "metadata": {
    "slideshow": {
     "slide_type": "subslide"
    }
   },
   "source": [
    "Use the model to predict the index for the next 4 years and visualize it."
   ]
  },
  {
   "cell_type": "code",
   "execution_count": 21,
   "metadata": {},
   "outputs": [
    {
     "data": {
      "image/png": "[encoded data removed]",
      "text/plain": [
       "Plot with title \"Forecasts from HoltWinters\""
      ]
     },
     "metadata": {},
     "output_type": "display_data"
    }
   ],
   "source": [
    "options(repr.plot.width=6, repr.plot.height=4)\n",
    "DAXForecast = forecast(additiveModel,h=48)\n",
    "plot(DAXForecast)"
   ]
  },
  {
   "cell_type": "markdown",
   "metadata": {},
   "source": [
    "A  multiple time series is returned with columns fit, lower and upper for the prediction intervals and the lower and upper bounds respectively."
   ]
  }
 ],
 "metadata": {
  "celltoolbar": "Slideshow",
  "kernelspec": {
   "display_name": "R",
   "language": "R",
   "name": "ir"
  },
  "language_info": {
   "codemirror_mode": "r",
   "file_extension": ".r",
   "mimetype": "text/x-r-source",
   "name": "R",
   "pygments_lexer": "r",
   "version": "3.5.1"
  }
 },
 "nbformat": 4,
 "nbformat_minor": 2
}
