{
 "cells": [
  {
   "cell_type": "markdown",
   "metadata": {
    "slideshow": {
     "slide_type": "slide"
    }
   },
   "source": [
    "*Managerial Problem Solving*\n",
    "\n",
    "# Tutorial 9 - Hypothesis Testing and Regression Analysis\n",
    "\n",
    "Toni Greif<br>\n",
    "Lehrstuhl für Wirtschaftsinformatik und Informationsmanagement\n",
    "\n",
    "SS 2019"
   ]
  },
  {
   "cell_type": "markdown",
   "metadata": {
    "slideshow": {
     "slide_type": "slide"
    }
   },
   "source": [
    "## Hypothesis Testing\n",
    "Drawing inferences about two contrasting propositions (each called a hypothesis) relating to the value of one or more population parameters.\n",
    "\n",
    "- $H_0$  Null hypothesis: describes an existing theory (conservative, adversarial)\n",
    "- $H_1$  Alternative hypothesis: the complement of $H_0$ \n",
    "\n",
    "Using sample data, we either:\n",
    "- reject $H_0$ and conclude the sample data provides sufficient evidence to support $H_1$, or\n",
    "- fail to reject $H_0$ and conclude the sample data does not support $H_1$."
   ]
  },
  {
   "cell_type": "markdown",
   "metadata": {
    "slideshow": {
     "slide_type": "subslide"
    }
   },
   "source": [
    "### Understanding Risk in Hypothesis Testing\n",
    "We always risk drawing an incorrect conclusion:\n",
    "- $H_0$ is true and the test correctly fails to reject $H_0$\n",
    "- $H_0$ is false and the test correctly rejects $H_0$\n",
    "- $H_0$ is true and the test incorrectly rejects $H_0$ (called a *Type I error*)\n",
    "- $H_0$ is false and the test incorrectly fails to reject $H_0$ (called a *Type II error*)\n",
    "\n",
    "We are typically most concerned about Type I errors:\n",
    "- Innocent person convicted\n",
    "- Ineffective treatment approved\n",
    "- Sick person considered healthy"
   ]
  },
  {
   "cell_type": "markdown",
   "metadata": {
    "slideshow": {
     "slide_type": "subslide"
    }
   },
   "source": [
    "### Steps of Hypothesis Testing procedures\n",
    "1. Identify the population parameter and formulate  the hypotheses to test.\n",
    "2. Select a level of significance (related to the risk of drawing an incorrect conclusion).\n",
    "3. Determine a decision rule on which to base a conclusion.\n",
    "4. Collect data and calculate a test statistic.\n",
    "5. Apply the decision rule and draw a conclusion.\n",
    "\n",
    "The key competence in hypothesis testing is the correct choice of test statistics, and the interpretation of the results (Critical Value, p-value, confidence interval...)"
   ]
  },
  {
   "cell_type": "markdown",
   "metadata": {
    "slideshow": {
     "slide_type": "subslide"
    }
   },
   "source": [
    "### Computing the Test Statistics\n",
    "**One-sample test on a mean, σ unknown**\n",
    "\n",
    "$$t=\\frac{\\bar{x}-\\mu_0}{s\\ /\\sqrt{n}}$$\n",
    "\n",
    "\n",
    "**One-sample test on a proportion**\n",
    "\n",
    "$$z=\\frac{\\hat{p}-\\pi_0}{\\sqrt{\\pi_0(1-\\pi_0)\\ /n}}$$\n",
    "\n",
    "with $\\hat{p}=\\frac{number\\ in\\ the\\ sample}{size\\ of\\ the\\ sample}$\n",
    "\n",
    "However, we will rely on pre-installed test functions in most applications."
   ]
  },
  {
   "cell_type": "markdown",
   "metadata": {
    "slideshow": {
     "slide_type": "slide"
    }
   },
   "source": [
    "### Exercise 1\n",
    "\n",
    "Use the mtcars data set to test the following hypothesis:\n",
    "- The average mpg of a car is below 20."
   ]
  },
  {
   "cell_type": "code",
   "execution_count": 1,
   "metadata": {
    "slideshow": {
     "slide_type": "-"
    }
   },
   "outputs": [
    {
     "name": "stderr",
     "output_type": "stream",
     "text": [
      "Warning message:\n",
      "\"package 'tidyverse' was built under R version 3.5.3\"-- \u001b[1mAttaching packages\u001b[22m --------------------------------------- tidyverse 1.2.1 --\n",
      "\u001b[32mv\u001b[39m \u001b[34mggplot2\u001b[39m 3.1.0     \u001b[32mv\u001b[39m \u001b[34mpurrr  \u001b[39m 0.2.5\n",
      "\u001b[32mv\u001b[39m \u001b[34mtibble \u001b[39m 2.1.1     \u001b[32mv\u001b[39m \u001b[34mdplyr  \u001b[39m 0.8.1\n",
      "\u001b[32mv\u001b[39m \u001b[34mtidyr  \u001b[39m 0.8.2     \u001b[32mv\u001b[39m \u001b[34mstringr\u001b[39m 1.3.1\n",
      "\u001b[32mv\u001b[39m \u001b[34mreadr  \u001b[39m 1.1.1     \u001b[32mv\u001b[39m \u001b[34mforcats\u001b[39m 0.3.0\n",
      "Warning message:\n",
      "\"package 'tibble' was built under R version 3.5.3\"Warning message:\n",
      "\"package 'dplyr' was built under R version 3.5.3\"-- \u001b[1mConflicts\u001b[22m ------------------------------------------ tidyverse_conflicts() --\n",
      "\u001b[31mx\u001b[39m \u001b[34mdplyr\u001b[39m::\u001b[32mfilter()\u001b[39m masks \u001b[34mstats\u001b[39m::filter()\n",
      "\u001b[31mx\u001b[39m \u001b[34mdplyr\u001b[39m::\u001b[32mlag()\u001b[39m    masks \u001b[34mstats\u001b[39m::lag()\n"
     ]
    }
   ],
   "source": [
    "library(tidyverse)"
   ]
  },
  {
   "cell_type": "code",
   "execution_count": 2,
   "metadata": {},
   "outputs": [],
   "source": [
    "df <- mtcars"
   ]
  },
  {
   "cell_type": "markdown",
   "metadata": {},
   "source": [
    "Manual calculation of t-statistics\n",
    "$$t=\\frac{\\bar{x}-\\mu_0}{s\\ /\\sqrt{n}}$$"
   ]
  },
  {
   "cell_type": "code",
   "execution_count": 3,
   "metadata": {},
   "outputs": [
    {
     "data": {
      "text/html": [
       "0.0850600356813336"
      ],
      "text/latex": [
       "0.0850600356813336"
      ],
      "text/markdown": [
       "0.0850600356813336"
      ],
      "text/plain": [
       "[1] 0.08506004"
      ]
     },
     "metadata": {},
     "output_type": "display_data"
    },
    {
     "data": {
      "text/html": [
       "0.533604513797324"
      ],
      "text/latex": [
       "0.533604513797324"
      ],
      "text/markdown": [
       "0.533604513797324"
      ],
      "text/plain": [
       "[1] 0.5336045"
      ]
     },
     "metadata": {},
     "output_type": "display_data"
    }
   ],
   "source": [
    "(mean(df$mpg) - 20)/((sd(df$mpg)/sqrt(nrow(df))))\n",
    "pt(0.085, df = nrow(df))"
   ]
  },
  {
   "cell_type": "markdown",
   "metadata": {
    "slideshow": {
     "slide_type": "subslide"
    }
   },
   "source": [
    "...and now using the pre-installed function:\n",
    "\n",
    "```R\n",
    "    t.test()\n",
    "```\n",
    "\n",
    "- $H_0: mean(mpg) \\leq 20$\n",
    "- $H_1: mean(mpg) > 20$"
   ]
  },
  {
   "cell_type": "code",
   "execution_count": 4,
   "metadata": {},
   "outputs": [
    {
     "data": {
      "text/plain": [
       "\n",
       "\tOne Sample t-test\n",
       "\n",
       "data:  df$mpg\n",
       "t = 0.08506, df = 31, p-value = 0.4664\n",
       "alternative hypothesis: true mean is greater than 20\n",
       "95 percent confidence interval:\n",
       " 18.28418      Inf\n",
       "sample estimates:\n",
       "mean of x \n",
       " 20.09062 \n"
      ]
     },
     "metadata": {},
     "output_type": "display_data"
    }
   ],
   "source": [
    "t.test(df$mpg,\n",
    "       mu = 20,\n",
    "       alternative = \"greater\")"
   ]
  },
  {
   "cell_type": "markdown",
   "metadata": {
    "slideshow": {
     "slide_type": "subslide"
    }
   },
   "source": [
    "Use the pre-installed function to test the following hypothesis:\n",
    "- Cars with more than 4 cylinders have a lower mpg than cars with 4 or less cylinders."
   ]
  },
  {
   "cell_type": "code",
   "execution_count": 5,
   "metadata": {},
   "outputs": [
    {
     "data": {
      "text/plain": [
       "\n",
       "\tWelch Two Sample t-test\n",
       "\n",
       "data:  df %>% filter(cyl <= 4) %>% select(mpg) and df %>% filter(cyl > 4) %>% select(mpg)\n",
       "t = 6.5737, df = 15.266, p-value = 4.045e-06\n",
       "alternative hypothesis: true difference in means is greater than 0\n",
       "95 percent confidence interval:\n",
       " 7.348035      Inf\n",
       "sample estimates:\n",
       "mean of x mean of y \n",
       " 26.66364  16.64762 \n"
      ]
     },
     "metadata": {},
     "output_type": "display_data"
    }
   ],
   "source": [
    "# H0: mean(mpg[\"bigCars\"]) >= mean(mpg[\"smallCars\"])\n",
    "# H1: mean(mpg[\"bigCars\"]) < mean(mpg[\"smallCars\"])\n",
    "\n",
    "t.test(df %>% filter(cyl <= 4) %>% select(mpg),\n",
    "       df %>% filter(cyl > 4) %>% select(mpg),\n",
    "       alternative = \"greater\")"
   ]
  },
  {
   "cell_type": "markdown",
   "metadata": {
    "slideshow": {
     "slide_type": "slide"
    }
   },
   "source": [
    "### Exercise 2\n",
    "\n",
    "The file *roomInspection.csv* summarizes the room inspection results of a hotel chain. During the samples 1000  hotel rooms have been inspected."
   ]
  },
  {
   "cell_type": "code",
   "execution_count": 6,
   "metadata": {},
   "outputs": [],
   "source": [
    "df <- read.csv(\"data/T09/roomInspections.csv\")"
   ]
  },
  {
   "cell_type": "code",
   "execution_count": 7,
   "metadata": {},
   "outputs": [
    {
     "data": {
      "text/html": [
       "<table>\n",
       "<caption>A data.frame: 6 × 2</caption>\n",
       "<thead>\n",
       "\t<tr><th scope=col>room</th><th scope=col>roomOk</th></tr>\n",
       "\t<tr><th scope=col>&lt;int&gt;</th><th scope=col>&lt;lgl&gt;</th></tr>\n",
       "</thead>\n",
       "<tbody>\n",
       "\t<tr><td>1</td><td> TRUE</td></tr>\n",
       "\t<tr><td>2</td><td> TRUE</td></tr>\n",
       "\t<tr><td>3</td><td> TRUE</td></tr>\n",
       "\t<tr><td>4</td><td>FALSE</td></tr>\n",
       "\t<tr><td>5</td><td> TRUE</td></tr>\n",
       "\t<tr><td>6</td><td> TRUE</td></tr>\n",
       "</tbody>\n",
       "</table>\n"
      ],
      "text/latex": [
       "A data.frame: 6 × 2\n",
       "\\begin{tabular}{r|ll}\n",
       " room & roomOk\\\\\n",
       " <int> & <lgl>\\\\\n",
       "\\hline\n",
       "\t 1 &  TRUE\\\\\n",
       "\t 2 &  TRUE\\\\\n",
       "\t 3 &  TRUE\\\\\n",
       "\t 4 & FALSE\\\\\n",
       "\t 5 &  TRUE\\\\\n",
       "\t 6 &  TRUE\\\\\n",
       "\\end{tabular}\n"
      ],
      "text/markdown": [
       "\n",
       "A data.frame: 6 × 2\n",
       "\n",
       "| room &lt;int&gt; | roomOk &lt;lgl&gt; |\n",
       "|---|---|\n",
       "| 1 |  TRUE |\n",
       "| 2 |  TRUE |\n",
       "| 3 |  TRUE |\n",
       "| 4 | FALSE |\n",
       "| 5 |  TRUE |\n",
       "| 6 |  TRUE |\n",
       "\n"
      ],
      "text/plain": [
       "  room roomOk\n",
       "1 1     TRUE \n",
       "2 2     TRUE \n",
       "3 3     TRUE \n",
       "4 4    FALSE \n",
       "5 5     TRUE \n",
       "6 6     TRUE "
      ]
     },
     "metadata": {},
     "output_type": "display_data"
    }
   ],
   "source": [
    "df %>% head()"
   ]
  },
  {
   "cell_type": "markdown",
   "metadata": {
    "slideshow": {
     "slide_type": "subslide"
    }
   },
   "source": [
    "\n",
    "The management wants the share of rooms not matching the standard to be below 2%. Formulate a suitable hypothesis and test it."
   ]
  },
  {
   "cell_type": "code",
   "execution_count": 8,
   "metadata": {},
   "outputs": [
    {
     "data": {
      "text/plain": [
       "\n",
       "\t1-sample proportions test without continuity correction\n",
       "\n",
       "data:  df %>% filter(roomOk == FALSE) %>% nrow() out of df %>% nrow(), null probability 0.02\n",
       "X-squared = 0, df = 1, p-value = 0.5\n",
       "alternative hypothesis: true p is greater than 0.02\n",
       "95 percent confidence interval:\n",
       " 0.01390848 1.00000000\n",
       "sample estimates:\n",
       "   p \n",
       "0.02 \n"
      ]
     },
     "metadata": {},
     "output_type": "display_data"
    }
   ],
   "source": [
    "# H0: p(FALSE) < 0.02\n",
    "# H1: p(FALSE) >= 0.02\n",
    "\n",
    "prop.test(df %>% filter(roomOk == FALSE) %>% nrow(),\n",
    "          df %>% nrow(),\n",
    "          p = 0.02,\n",
    "          alternative = \"greater\")"
   ]
  },
  {
   "cell_type": "markdown",
   "metadata": {
    "slideshow": {
     "slide_type": "subslide"
    }
   },
   "source": [
    "### Exercise 3\n",
    "A retailer believes that a new marketing strategy can improve the revenues. Until now, customer spending in 15 different categories averages at 70.00€ for customers between 18 and 34 as well as for customers 35+. After the new marketing strategy is launched, the spending of customers is analyzed.\n",
    "\n",
    "1. Set up the hypothesis to test the success of a marketing strategy.\n",
    "2. 300 of the asked customers are aged between 18 and 34. Their average spending is 75.86€ with a standard deviation of 50.90€. Has the average spending been changed significantly?\n",
    "3. 700 of the asked  are aged above 35. Their average spending is 68.53€ with a standard deviation of 45.29€. Has the average spending of this group been changed significantly?"
   ]
  },
  {
   "cell_type": "code",
   "execution_count": 9,
   "metadata": {
    "scrolled": true
   },
   "outputs": [
    {
     "data": {
      "text/html": [
       "1.99407028140543"
      ],
      "text/latex": [
       "1.99407028140543"
      ],
      "text/markdown": [
       "1.99407028140543"
      ],
      "text/plain": [
       "[1] 1.99407"
      ]
     },
     "metadata": {},
     "output_type": "display_data"
    },
    {
     "data": {
      "text/html": [
       "1.64996576742639"
      ],
      "text/latex": [
       "1.64996576742639"
      ],
      "text/markdown": [
       "1.64996576742639"
      ],
      "text/plain": [
       "[1] 1.649966"
      ]
     },
     "metadata": {},
     "output_type": "display_data"
    },
    {
     "data": {
      "text/html": [
       "-0.858744629557285"
      ],
      "text/latex": [
       "-0.858744629557285"
      ],
      "text/markdown": [
       "-0.858744629557285"
      ],
      "text/plain": [
       "[1] -0.8587446"
      ]
     },
     "metadata": {},
     "output_type": "display_data"
    },
    {
     "data": {
      "text/html": [
       "1.64703646375353"
      ],
      "text/latex": [
       "1.64703646375353"
      ],
      "text/markdown": [
       "1.64703646375353"
      ],
      "text/plain": [
       "[1] 1.647036"
      ]
     },
     "metadata": {},
     "output_type": "display_data"
    }
   ],
   "source": [
    "tStat <- function(xbar, x0, s, n){\n",
    "  (xbar-x0)/(s/sqrt(n))\n",
    "}\n",
    "\n",
    "#H0: mean(spending) <= 70\n",
    "#H1: mean(spending) > 70\n",
    "\n",
    "tStat(75.86,70, 50.90, 300)\n",
    "qt(0.95, 299)\n",
    "\n",
    "#H0: mean(spending) = 70\n",
    "#H1: mean(spending) != 70\n",
    "\n",
    "tStat(68.53, 70, 45.29, 700)\n",
    "qt(0.95, 699)"
   ]
  },
  {
   "cell_type": "markdown",
   "metadata": {
    "slideshow": {
     "slide_type": "slide"
    }
   },
   "source": [
    "## Regression Analysis\n",
    "### Results of Regression Analysis\n",
    "\n",
    "**Information on model quality:**\n",
    "- Standard error (SE)\n",
    "    - Information on the deviation of the model from the data\n",
    "- Pearson correlation coefficient $(R)$\n",
    "    - Magnitude of linear correlation $(-1 \\leq R \\leq 1)$\n",
    "- Coefficient of determination $(R^2)$\n",
    "    - Characterizes the 'predictive power' of the model\n",
    "    \n",
    "**Intercept and slope of regression function (Regression coefficients)**\n",
    "\n",
    "**Confidence intervals**\n",
    "- Interval in which the true regression coefficient value lies with a probability of 95%\n",
    "    - If 0 is covered by the interval, the coefficient is not statistically significant\n",
    "    - The same information is conveyed by the coefficients’ p-values (p-value < 0.05)\n"
   ]
  },
  {
   "cell_type": "markdown",
   "metadata": {
    "slideshow": {
     "slide_type": "subslide"
    }
   },
   "source": [
    "Load the dataset “income.csv”."
   ]
  },
  {
   "cell_type": "code",
   "execution_count": 10,
   "metadata": {},
   "outputs": [],
   "source": [
    "income <- read.csv(\"data/T09/income.csv\")"
   ]
  },
  {
   "cell_type": "code",
   "execution_count": 11,
   "metadata": {},
   "outputs": [
    {
     "data": {
      "text/html": [
       "<table>\n",
       "<caption>A data.frame: 6 × 8</caption>\n",
       "<thead>\n",
       "\t<tr><th scope=col>Population</th><th scope=col>Income</th><th scope=col>Illiteracy</th><th scope=col>Life.Exp</th><th scope=col>Murder</th><th scope=col>HS.Grad</th><th scope=col>Frost</th><th scope=col>Area</th></tr>\n",
       "\t<tr><th scope=col>&lt;int&gt;</th><th scope=col>&lt;int&gt;</th><th scope=col>&lt;dbl&gt;</th><th scope=col>&lt;dbl&gt;</th><th scope=col>&lt;dbl&gt;</th><th scope=col>&lt;dbl&gt;</th><th scope=col>&lt;int&gt;</th><th scope=col>&lt;int&gt;</th></tr>\n",
       "</thead>\n",
       "<tbody>\n",
       "\t<tr><td> 3615</td><td>3624</td><td>2.1</td><td>69.05</td><td>15.1</td><td>41.3</td><td> 20</td><td> 50708</td></tr>\n",
       "\t<tr><td>  365</td><td>6315</td><td>1.5</td><td>69.31</td><td>11.3</td><td>66.7</td><td>152</td><td>566432</td></tr>\n",
       "\t<tr><td> 2212</td><td>4530</td><td>1.8</td><td>70.55</td><td> 7.8</td><td>58.1</td><td> 15</td><td>113417</td></tr>\n",
       "\t<tr><td> 2110</td><td>3378</td><td>1.9</td><td>70.66</td><td>10.1</td><td>39.9</td><td> 65</td><td> 51945</td></tr>\n",
       "\t<tr><td>21198</td><td>5114</td><td>1.1</td><td>71.71</td><td>10.3</td><td>62.6</td><td> 20</td><td>156361</td></tr>\n",
       "\t<tr><td> 2541</td><td>4884</td><td>0.7</td><td>72.06</td><td> 6.8</td><td>63.9</td><td>166</td><td>103766</td></tr>\n",
       "</tbody>\n",
       "</table>\n"
      ],
      "text/latex": [
       "A data.frame: 6 × 8\n",
       "\\begin{tabular}{r|llllllll}\n",
       " Population & Income & Illiteracy & Life.Exp & Murder & HS.Grad & Frost & Area\\\\\n",
       " <int> & <int> & <dbl> & <dbl> & <dbl> & <dbl> & <int> & <int>\\\\\n",
       "\\hline\n",
       "\t  3615 & 3624 & 2.1 & 69.05 & 15.1 & 41.3 &  20 &  50708\\\\\n",
       "\t   365 & 6315 & 1.5 & 69.31 & 11.3 & 66.7 & 152 & 566432\\\\\n",
       "\t  2212 & 4530 & 1.8 & 70.55 &  7.8 & 58.1 &  15 & 113417\\\\\n",
       "\t  2110 & 3378 & 1.9 & 70.66 & 10.1 & 39.9 &  65 &  51945\\\\\n",
       "\t 21198 & 5114 & 1.1 & 71.71 & 10.3 & 62.6 &  20 & 156361\\\\\n",
       "\t  2541 & 4884 & 0.7 & 72.06 &  6.8 & 63.9 & 166 & 103766\\\\\n",
       "\\end{tabular}\n"
      ],
      "text/markdown": [
       "\n",
       "A data.frame: 6 × 8\n",
       "\n",
       "| Population &lt;int&gt; | Income &lt;int&gt; | Illiteracy &lt;dbl&gt; | Life.Exp &lt;dbl&gt; | Murder &lt;dbl&gt; | HS.Grad &lt;dbl&gt; | Frost &lt;int&gt; | Area &lt;int&gt; |\n",
       "|---|---|---|---|---|---|---|---|\n",
       "|  3615 | 3624 | 2.1 | 69.05 | 15.1 | 41.3 |  20 |  50708 |\n",
       "|   365 | 6315 | 1.5 | 69.31 | 11.3 | 66.7 | 152 | 566432 |\n",
       "|  2212 | 4530 | 1.8 | 70.55 |  7.8 | 58.1 |  15 | 113417 |\n",
       "|  2110 | 3378 | 1.9 | 70.66 | 10.1 | 39.9 |  65 |  51945 |\n",
       "| 21198 | 5114 | 1.1 | 71.71 | 10.3 | 62.6 |  20 | 156361 |\n",
       "|  2541 | 4884 | 0.7 | 72.06 |  6.8 | 63.9 | 166 | 103766 |\n",
       "\n"
      ],
      "text/plain": [
       "  Population Income Illiteracy Life.Exp Murder HS.Grad Frost Area  \n",
       "1  3615      3624   2.1        69.05    15.1   41.3     20    50708\n",
       "2   365      6315   1.5        69.31    11.3   66.7    152   566432\n",
       "3  2212      4530   1.8        70.55     7.8   58.1     15   113417\n",
       "4  2110      3378   1.9        70.66    10.1   39.9     65    51945\n",
       "5 21198      5114   1.1        71.71    10.3   62.6     20   156361\n",
       "6  2541      4884   0.7        72.06     6.8   63.9    166   103766"
      ]
     },
     "metadata": {},
     "output_type": "display_data"
    }
   ],
   "source": [
    "income %>% head()"
   ]
  },
  {
   "cell_type": "markdown",
   "metadata": {
    "slideshow": {
     "slide_type": "subslide"
    }
   },
   "source": [
    "Perform a multiple linear regression. Therefore, use the income as dependent variable and all others parameters as independent variables.\n"
   ]
  },
  {
   "cell_type": "code",
   "execution_count": 12,
   "metadata": {},
   "outputs": [
    {
     "data": {
      "text/plain": [
       "\n",
       "Call:\n",
       "lm(formula = Income ~ ., data = income)\n",
       "\n",
       "Residuals:\n",
       "    Min      1Q  Median      3Q     Max \n",
       "-899.73 -226.98  -53.63  232.37  966.02 \n",
       "\n",
       "Coefficients:\n",
       "              Estimate Std. Error t value Pr(>|t|)  \n",
       "(Intercept)  3.183e+03  6.980e+03   0.456   0.6508  \n",
       "Population   3.999e-02  1.808e-02   2.212   0.0325 *\n",
       "Illiteracy  -1.437e+02  2.302e+02  -0.624   0.5359  \n",
       "Life.Exp    -8.688e+00  9.739e+01  -0.089   0.9293  \n",
       "Murder      -1.154e+01  4.151e+01  -0.278   0.7823  \n",
       "HS.Grad      3.417e+01  1.455e+01   2.349   0.0236 *\n",
       "Frost        1.916e-01  2.061e+00   0.093   0.9264  \n",
       "Area         1.662e-03  1.021e-03   1.627   0.1111  \n",
       "---\n",
       "Signif. codes:  0 '***' 0.001 '**' 0.01 '*' 0.05 '.' 0.1 ' ' 1\n",
       "\n",
       "Residual standard error: 470.1 on 42 degrees of freedom\n",
       "Multiple R-squared:  0.4983,\tAdjusted R-squared:  0.4146 \n",
       "F-statistic: 5.958 on 7 and 42 DF,  p-value: 7.485e-05\n"
      ]
     },
     "metadata": {},
     "output_type": "display_data"
    }
   ],
   "source": [
    "fit1a <- lm(Income ~ ., data=income)\n",
    "summary(fit1a)"
   ]
  },
  {
   "cell_type": "markdown",
   "metadata": {
    "slideshow": {
     "slide_type": "subslide"
    }
   },
   "source": [
    "After fitting the initial model, keep removing the insignificant (5%) independent variables.What independent variables have a significant influence on the life expectancy of the state inhabitants?"
   ]
  },
  {
   "cell_type": "code",
   "execution_count": 13,
   "metadata": {
    "scrolled": true
   },
   "outputs": [
    {
     "data": {
      "text/plain": [
       "\n",
       "Call:\n",
       "lm(formula = Income ~ Population + Illiteracy + Murder + HS.Grad + \n",
       "    Frost + Area, data = income)\n",
       "\n",
       "Residuals:\n",
       "    Min      1Q  Median      3Q     Max \n",
       "-906.99 -219.42  -59.47  231.33  968.55 \n",
       "\n",
       "Coefficients:\n",
       "              Estimate Std. Error t value Pr(>|t|)  \n",
       "(Intercept)  2.567e+03  1.018e+03   2.522   0.0155 *\n",
       "Population   3.954e-02  1.718e-02   2.301   0.0263 *\n",
       "Illiteracy  -1.440e+02  2.275e+02  -0.633   0.5301  \n",
       "Murder      -8.929e+00  2.906e+01  -0.307   0.7601  \n",
       "HS.Grad      3.375e+01  1.361e+01   2.480   0.0171 *\n",
       "Frost        2.414e-01  1.961e+00   0.123   0.9026  \n",
       "Area         1.663e-03  1.009e-03   1.648   0.1067  \n",
       "---\n",
       "Signif. codes:  0 '***' 0.001 '**' 0.01 '*' 0.05 '.' 0.1 ' ' 1\n",
       "\n",
       "Residual standard error: 464.7 on 43 degrees of freedom\n",
       "Multiple R-squared:  0.4982,\tAdjusted R-squared:  0.4281 \n",
       "F-statistic: 7.114 on 6 and 43 DF,  p-value: 2.617e-05\n"
      ]
     },
     "metadata": {},
     "output_type": "display_data"
    },
    {
     "data": {
      "text/plain": [
       "\n",
       "Call:\n",
       "lm(formula = Income ~ Population + Illiteracy + Murder + HS.Grad + \n",
       "    Area, data = income)\n",
       "\n",
       "Residuals:\n",
       "    Min      1Q  Median      3Q     Max \n",
       "-905.01 -219.80  -60.24  232.74  965.49 \n",
       "\n",
       "Coefficients:\n",
       "              Estimate Std. Error t value Pr(>|t|)   \n",
       "(Intercept)  2.641e+03  8.109e+02   3.257  0.00217 **\n",
       "Population   3.885e-02  1.605e-02   2.421  0.01969 * \n",
       "Illiteracy  -1.605e+02  1.815e+02  -0.884  0.38124   \n",
       "Murder      -9.291e+00  2.858e+01  -0.325  0.74666   \n",
       "HS.Grad      3.325e+01  1.284e+01   2.590  0.01295 * \n",
       "Area         1.701e-03  9.499e-04   1.791  0.08019 . \n",
       "---\n",
       "Signif. codes:  0 '***' 0.001 '**' 0.01 '*' 0.05 '.' 0.1 ' ' 1\n",
       "\n",
       "Residual standard error: 459.4 on 44 degrees of freedom\n",
       "Multiple R-squared:  0.498,\tAdjusted R-squared:  0.4409 \n",
       "F-statistic: 8.729 on 5 and 44 DF,  p-value: 8.236e-06\n"
      ]
     },
     "metadata": {},
     "output_type": "display_data"
    },
    {
     "data": {
      "text/plain": [
       "\n",
       "Call:\n",
       "lm(formula = Income ~ Population + Illiteracy + HS.Grad + Area, \n",
       "    data = income)\n",
       "\n",
       "Residuals:\n",
       "    Min      1Q  Median      3Q     Max \n",
       "-912.18 -216.28  -61.89  217.13  947.96 \n",
       "\n",
       "Coefficients:\n",
       "              Estimate Std. Error t value Pr(>|t|)   \n",
       "(Intercept)  2.577e+03  7.788e+02   3.309  0.00185 **\n",
       "Population   3.684e-02  1.466e-02   2.513  0.01563 * \n",
       "Illiteracy  -1.900e+02  1.557e+02  -1.220  0.22889   \n",
       "HS.Grad      3.411e+01  1.244e+01   2.742  0.00873 **\n",
       "Area         1.601e-03  8.895e-04   1.800  0.07860 . \n",
       "---\n",
       "Signif. codes:  0 '***' 0.001 '**' 0.01 '*' 0.05 '.' 0.1 ' ' 1\n",
       "\n",
       "Residual standard error: 454.9 on 45 degrees of freedom\n",
       "Multiple R-squared:  0.4968,\tAdjusted R-squared:  0.452 \n",
       "F-statistic: 11.11 on 4 and 45 DF,  p-value: 2.372e-06\n"
      ]
     },
     "metadata": {},
     "output_type": "display_data"
    },
    {
     "data": {
      "text/plain": [
       "\n",
       "Call:\n",
       "lm(formula = Income ~ Population + HS.Grad + Area, data = income)\n",
       "\n",
       "Residuals:\n",
       "    Min      1Q  Median      3Q     Max \n",
       "-956.47 -225.60  -14.54  198.88  974.12 \n",
       "\n",
       "Coefficients:\n",
       "             Estimate Std. Error t value Pr(>|t|)    \n",
       "(Intercept) 1.807e+03  4.581e+02   3.944 0.000272 ***\n",
       "Population  3.620e-02  1.473e-02   2.458 0.017820 *  \n",
       "HS.Grad     4.508e+01  8.634e+00   5.221 4.17e-06 ***\n",
       "Area        1.150e-03  8.135e-04   1.414 0.164049    \n",
       "---\n",
       "Signif. codes:  0 '***' 0.001 '**' 0.01 '*' 0.05 '.' 0.1 ' ' 1\n",
       "\n",
       "Residual standard error: 457.3 on 46 degrees of freedom\n",
       "Multiple R-squared:  0.4801,\tAdjusted R-squared:  0.4462 \n",
       "F-statistic: 14.16 on 3 and 46 DF,  p-value: 1.137e-06\n"
      ]
     },
     "metadata": {},
     "output_type": "display_data"
    },
    {
     "data": {
      "text/plain": [
       "\n",
       "Call:\n",
       "lm(formula = Income ~ Population + HS.Grad, data = income)\n",
       "\n",
       "Residuals:\n",
       "    Min      1Q  Median      3Q     Max \n",
       "-998.14 -237.26  -43.64  202.88 1355.74 \n",
       "\n",
       "Coefficients:\n",
       "             Estimate Std. Error t value Pr(>|t|)    \n",
       "(Intercept) 1.664e+03  4.516e+02   3.685 0.000591 ***\n",
       "Population  3.743e-02  1.486e-02   2.519 0.015237 *  \n",
       "HS.Grad     4.920e+01  8.213e+00   5.990 2.78e-07 ***\n",
       "---\n",
       "Signif. codes:  0 '***' 0.001 '**' 0.01 '*' 0.05 '.' 0.1 ' ' 1\n",
       "\n",
       "Residual standard error: 462.1 on 47 degrees of freedom\n",
       "Multiple R-squared:  0.4575,\tAdjusted R-squared:  0.4345 \n",
       "F-statistic: 19.82 on 2 and 47 DF,  p-value: 5.723e-07\n"
      ]
     },
     "metadata": {},
     "output_type": "display_data"
    }
   ],
   "source": [
    "# - Life.Exp\n",
    "fit1a <- lm(Income ~ Population + \n",
    "                    Illiteracy + Murder + HS.Grad + \n",
    "                    Frost + Area, data=income)\n",
    "summary(fit1a)\n",
    "\n",
    "# - Frost\n",
    "fit1a <- lm(Income ~ Population + \n",
    "                    Illiteracy + Murder + HS.Grad + \n",
    "                    Area, data=income)\n",
    "summary(fit1a)\n",
    "\n",
    "# Murder\n",
    "fit1a <- lm(Income ~ Population + \n",
    "                    Illiteracy + HS.Grad + \n",
    "                    Area, data=income)\n",
    "summary(fit1a)\n",
    "\n",
    "# - Illiteracy\n",
    "fit1a <- lm(Income ~ Population + \n",
    "                    HS.Grad + \n",
    "                    Area, data=income)\n",
    "summary(fit1a)\n",
    "\n",
    "# Area\n",
    "fit1a <- lm(Income ~ Population + \n",
    "                    HS.Grad, data=income)\n",
    "summary(fit1a)"
   ]
  },
  {
   "cell_type": "markdown",
   "metadata": {},
   "source": [
    "What share of total variance in the data can be explained by our regression model?"
   ]
  }
 ],
 "metadata": {
  "celltoolbar": "Slideshow",
  "kernelspec": {
   "display_name": "R",
   "language": "R",
   "name": "ir"
  },
  "language_info": {
   "codemirror_mode": "r",
   "file_extension": ".r",
   "mimetype": "text/x-r-source",
   "name": "R",
   "pygments_lexer": "r",
   "version": "3.5.1"
  }
 },
 "nbformat": 4,
 "nbformat_minor": 2
}
